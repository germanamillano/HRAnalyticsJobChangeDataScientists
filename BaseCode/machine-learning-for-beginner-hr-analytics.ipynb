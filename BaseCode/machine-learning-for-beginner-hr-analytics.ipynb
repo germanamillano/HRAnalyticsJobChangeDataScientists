{
 "cells": [
  {
   "cell_type": "markdown",
   "metadata": {
    "papermill": {
     "duration": 0.072053,
     "end_time": "2021-03-03T13:33:22.223229",
     "exception": false,
     "start_time": "2021-03-03T13:33:22.151176",
     "status": "completed"
    },
    "tags": []
   },
   "source": [
    "## HR Analytics: Job Change of Data Scientists\n",
    "Predict who will move to a new job"
   ]
  },
  {
   "cell_type": "markdown",
   "metadata": {
    "papermill": {
     "duration": 0.063661,
     "end_time": "2021-03-03T13:33:22.350726",
     "exception": false,
     "start_time": "2021-03-03T13:33:22.287065",
     "status": "completed"
    },
    "tags": []
   },
   "source": [
    "Features\n",
    "\n",
    "- enrollee_id : Unique ID for candidate\n",
    "- city: City code\n",
    "- city_ development _index : Developement index of the city (scaled)\n",
    "- gender: Gender of candidate\n",
    "- relevent_experience: Relevant experience of candidate\n",
    "- enrolled_university: Type of University course enrolled if any\n",
    "- education_level: Education level of candidate\n",
    "- major_discipline :Education major discipline of candidate\n",
    "- experience: Candidate total experience in years\n",
    "- company_size: No of employees in current employer's company\n",
    "- company_type : Type of current employer\n",
    "- lastnewjob: Difference in years between previous job and current job\n",
    "- training_hours: training hours completed\n",
    "- target: 0 – Not looking for job change, 1 – Looking for a job change\n"
   ]
  },
  {
   "cell_type": "markdown",
   "metadata": {
    "papermill": {
     "duration": 0.063044,
     "end_time": "2021-03-03T13:33:22.476962",
     "exception": false,
     "start_time": "2021-03-03T13:33:22.413918",
     "status": "completed"
    },
    "tags": []
   },
   "source": [
    "### Step 1. Library Import"
   ]
  },
  {
   "cell_type": "code",
   "execution_count": 1,
   "metadata": {
    "execution": {
     "iopub.execute_input": "2021-03-03T13:33:22.608243Z",
     "iopub.status.busy": "2021-03-03T13:33:22.607332Z",
     "iopub.status.idle": "2021-03-03T13:33:22.611226Z",
     "shell.execute_reply": "2021-03-03T13:33:22.610469Z"
    },
    "papermill": {
     "duration": 0.072289,
     "end_time": "2021-03-03T13:33:22.611466",
     "exception": false,
     "start_time": "2021-03-03T13:33:22.539177",
     "status": "completed"
    },
    "tags": []
   },
   "outputs": [],
   "source": [
    "import pandas as pd\n",
    "import numpy as np"
   ]
  },
  {
   "cell_type": "markdown",
   "metadata": {
    "papermill": {
     "duration": 0.06201,
     "end_time": "2021-03-03T13:33:22.736181",
     "exception": false,
     "start_time": "2021-03-03T13:33:22.674171",
     "status": "completed"
    },
    "tags": []
   },
   "source": [
    "### Step 2. Data Load"
   ]
  },
  {
   "cell_type": "code",
   "execution_count": 2,
   "metadata": {
    "execution": {
     "iopub.execute_input": "2021-03-03T13:33:22.871006Z",
     "iopub.status.busy": "2021-03-03T13:33:22.870216Z",
     "iopub.status.idle": "2021-03-03T13:33:22.992964Z",
     "shell.execute_reply": "2021-03-03T13:33:22.992099Z"
    },
    "papermill": {
     "duration": 0.194277,
     "end_time": "2021-03-03T13:33:22.993127",
     "exception": false,
     "start_time": "2021-03-03T13:33:22.798850",
     "status": "completed"
    },
    "tags": []
   },
   "outputs": [],
   "source": [
    "train_data = pd.read_csv('../input/hr-analytics-job-change-of-data-scientists/aug_train.csv')\n",
    "test_data = pd.read_csv('../input/hr-analytics-job-change-of-data-scientists/aug_test.csv')"
   ]
  },
  {
   "cell_type": "code",
   "execution_count": 3,
   "metadata": {
    "execution": {
     "iopub.execute_input": "2021-03-03T13:33:23.139785Z",
     "iopub.status.busy": "2021-03-03T13:33:23.139061Z",
     "iopub.status.idle": "2021-03-03T13:33:23.169364Z",
     "shell.execute_reply": "2021-03-03T13:33:23.169876Z"
    },
    "papermill": {
     "duration": 0.111477,
     "end_time": "2021-03-03T13:33:23.170046",
     "exception": false,
     "start_time": "2021-03-03T13:33:23.058569",
     "status": "completed"
    },
    "tags": []
   },
   "outputs": [
    {
     "data": {
      "text/html": [
       "<div>\n",
       "<style scoped>\n",
       "    .dataframe tbody tr th:only-of-type {\n",
       "        vertical-align: middle;\n",
       "    }\n",
       "\n",
       "    .dataframe tbody tr th {\n",
       "        vertical-align: top;\n",
       "    }\n",
       "\n",
       "    .dataframe thead th {\n",
       "        text-align: right;\n",
       "    }\n",
       "</style>\n",
       "<table border=\"1\" class=\"dataframe\">\n",
       "  <thead>\n",
       "    <tr style=\"text-align: right;\">\n",
       "      <th></th>\n",
       "      <th>enrollee_id</th>\n",
       "      <th>city</th>\n",
       "      <th>city_development_index</th>\n",
       "      <th>gender</th>\n",
       "      <th>relevent_experience</th>\n",
       "      <th>enrolled_university</th>\n",
       "      <th>education_level</th>\n",
       "      <th>major_discipline</th>\n",
       "      <th>experience</th>\n",
       "      <th>company_size</th>\n",
       "      <th>company_type</th>\n",
       "      <th>last_new_job</th>\n",
       "      <th>training_hours</th>\n",
       "      <th>target</th>\n",
       "    </tr>\n",
       "  </thead>\n",
       "  <tbody>\n",
       "    <tr>\n",
       "      <th>0</th>\n",
       "      <td>8949</td>\n",
       "      <td>city_103</td>\n",
       "      <td>0.920</td>\n",
       "      <td>Male</td>\n",
       "      <td>Has relevent experience</td>\n",
       "      <td>no_enrollment</td>\n",
       "      <td>Graduate</td>\n",
       "      <td>STEM</td>\n",
       "      <td>&gt;20</td>\n",
       "      <td>NaN</td>\n",
       "      <td>NaN</td>\n",
       "      <td>1</td>\n",
       "      <td>36</td>\n",
       "      <td>1.0</td>\n",
       "    </tr>\n",
       "    <tr>\n",
       "      <th>1</th>\n",
       "      <td>29725</td>\n",
       "      <td>city_40</td>\n",
       "      <td>0.776</td>\n",
       "      <td>Male</td>\n",
       "      <td>No relevent experience</td>\n",
       "      <td>no_enrollment</td>\n",
       "      <td>Graduate</td>\n",
       "      <td>STEM</td>\n",
       "      <td>15</td>\n",
       "      <td>50-99</td>\n",
       "      <td>Pvt Ltd</td>\n",
       "      <td>&gt;4</td>\n",
       "      <td>47</td>\n",
       "      <td>0.0</td>\n",
       "    </tr>\n",
       "    <tr>\n",
       "      <th>2</th>\n",
       "      <td>11561</td>\n",
       "      <td>city_21</td>\n",
       "      <td>0.624</td>\n",
       "      <td>NaN</td>\n",
       "      <td>No relevent experience</td>\n",
       "      <td>Full time course</td>\n",
       "      <td>Graduate</td>\n",
       "      <td>STEM</td>\n",
       "      <td>5</td>\n",
       "      <td>NaN</td>\n",
       "      <td>NaN</td>\n",
       "      <td>never</td>\n",
       "      <td>83</td>\n",
       "      <td>0.0</td>\n",
       "    </tr>\n",
       "    <tr>\n",
       "      <th>3</th>\n",
       "      <td>33241</td>\n",
       "      <td>city_115</td>\n",
       "      <td>0.789</td>\n",
       "      <td>NaN</td>\n",
       "      <td>No relevent experience</td>\n",
       "      <td>NaN</td>\n",
       "      <td>Graduate</td>\n",
       "      <td>Business Degree</td>\n",
       "      <td>&lt;1</td>\n",
       "      <td>NaN</td>\n",
       "      <td>Pvt Ltd</td>\n",
       "      <td>never</td>\n",
       "      <td>52</td>\n",
       "      <td>1.0</td>\n",
       "    </tr>\n",
       "    <tr>\n",
       "      <th>4</th>\n",
       "      <td>666</td>\n",
       "      <td>city_162</td>\n",
       "      <td>0.767</td>\n",
       "      <td>Male</td>\n",
       "      <td>Has relevent experience</td>\n",
       "      <td>no_enrollment</td>\n",
       "      <td>Masters</td>\n",
       "      <td>STEM</td>\n",
       "      <td>&gt;20</td>\n",
       "      <td>50-99</td>\n",
       "      <td>Funded Startup</td>\n",
       "      <td>4</td>\n",
       "      <td>8</td>\n",
       "      <td>0.0</td>\n",
       "    </tr>\n",
       "  </tbody>\n",
       "</table>\n",
       "</div>"
      ],
      "text/plain": [
       "   enrollee_id      city  city_development_index gender  \\\n",
       "0         8949  city_103                   0.920   Male   \n",
       "1        29725   city_40                   0.776   Male   \n",
       "2        11561   city_21                   0.624    NaN   \n",
       "3        33241  city_115                   0.789    NaN   \n",
       "4          666  city_162                   0.767   Male   \n",
       "\n",
       "       relevent_experience enrolled_university education_level  \\\n",
       "0  Has relevent experience       no_enrollment        Graduate   \n",
       "1   No relevent experience       no_enrollment        Graduate   \n",
       "2   No relevent experience    Full time course        Graduate   \n",
       "3   No relevent experience                 NaN        Graduate   \n",
       "4  Has relevent experience       no_enrollment         Masters   \n",
       "\n",
       "  major_discipline experience company_size    company_type last_new_job  \\\n",
       "0             STEM        >20          NaN             NaN            1   \n",
       "1             STEM         15        50-99         Pvt Ltd           >4   \n",
       "2             STEM          5          NaN             NaN        never   \n",
       "3  Business Degree         <1          NaN         Pvt Ltd        never   \n",
       "4             STEM        >20        50-99  Funded Startup            4   \n",
       "\n",
       "   training_hours  target  \n",
       "0              36     1.0  \n",
       "1              47     0.0  \n",
       "2              83     0.0  \n",
       "3              52     1.0  \n",
       "4               8     0.0  "
      ]
     },
     "execution_count": 3,
     "metadata": {},
     "output_type": "execute_result"
    }
   ],
   "source": [
    "train_data.head()"
   ]
  },
  {
   "cell_type": "code",
   "execution_count": 4,
   "metadata": {
    "execution": {
     "iopub.execute_input": "2021-03-03T13:33:23.306520Z",
     "iopub.status.busy": "2021-03-03T13:33:23.305495Z",
     "iopub.status.idle": "2021-03-03T13:33:23.345843Z",
     "shell.execute_reply": "2021-03-03T13:33:23.345134Z"
    },
    "papermill": {
     "duration": 0.108929,
     "end_time": "2021-03-03T13:33:23.346015",
     "exception": false,
     "start_time": "2021-03-03T13:33:23.237086",
     "status": "completed"
    },
    "tags": []
   },
   "outputs": [
    {
     "name": "stdout",
     "output_type": "stream",
     "text": [
      "<class 'pandas.core.frame.DataFrame'>\n",
      "RangeIndex: 19158 entries, 0 to 19157\n",
      "Data columns (total 14 columns):\n",
      " #   Column                  Non-Null Count  Dtype  \n",
      "---  ------                  --------------  -----  \n",
      " 0   enrollee_id             19158 non-null  int64  \n",
      " 1   city                    19158 non-null  object \n",
      " 2   city_development_index  19158 non-null  float64\n",
      " 3   gender                  14650 non-null  object \n",
      " 4   relevent_experience     19158 non-null  object \n",
      " 5   enrolled_university     18772 non-null  object \n",
      " 6   education_level         18698 non-null  object \n",
      " 7   major_discipline        16345 non-null  object \n",
      " 8   experience              19093 non-null  object \n",
      " 9   company_size            13220 non-null  object \n",
      " 10  company_type            13018 non-null  object \n",
      " 11  last_new_job            18735 non-null  object \n",
      " 12  training_hours          19158 non-null  int64  \n",
      " 13  target                  19158 non-null  float64\n",
      "dtypes: float64(2), int64(2), object(10)\n",
      "memory usage: 2.0+ MB\n"
     ]
    }
   ],
   "source": [
    "train_data.info()"
   ]
  },
  {
   "cell_type": "code",
   "execution_count": 5,
   "metadata": {
    "execution": {
     "iopub.execute_input": "2021-03-03T13:33:23.485338Z",
     "iopub.status.busy": "2021-03-03T13:33:23.484464Z",
     "iopub.status.idle": "2021-03-03T13:33:23.510461Z",
     "shell.execute_reply": "2021-03-03T13:33:23.509210Z"
    },
    "papermill": {
     "duration": 0.0998,
     "end_time": "2021-03-03T13:33:23.510641",
     "exception": false,
     "start_time": "2021-03-03T13:33:23.410841",
     "status": "completed"
    },
    "tags": []
   },
   "outputs": [
    {
     "data": {
      "text/html": [
       "<div>\n",
       "<style scoped>\n",
       "    .dataframe tbody tr th:only-of-type {\n",
       "        vertical-align: middle;\n",
       "    }\n",
       "\n",
       "    .dataframe tbody tr th {\n",
       "        vertical-align: top;\n",
       "    }\n",
       "\n",
       "    .dataframe thead th {\n",
       "        text-align: right;\n",
       "    }\n",
       "</style>\n",
       "<table border=\"1\" class=\"dataframe\">\n",
       "  <thead>\n",
       "    <tr style=\"text-align: right;\">\n",
       "      <th></th>\n",
       "      <th>enrollee_id</th>\n",
       "      <th>city_development_index</th>\n",
       "      <th>training_hours</th>\n",
       "      <th>target</th>\n",
       "    </tr>\n",
       "  </thead>\n",
       "  <tbody>\n",
       "    <tr>\n",
       "      <th>count</th>\n",
       "      <td>19158.000000</td>\n",
       "      <td>19158.000000</td>\n",
       "      <td>19158.000000</td>\n",
       "      <td>19158.000000</td>\n",
       "    </tr>\n",
       "    <tr>\n",
       "      <th>mean</th>\n",
       "      <td>16875.358179</td>\n",
       "      <td>0.828848</td>\n",
       "      <td>65.366896</td>\n",
       "      <td>0.249348</td>\n",
       "    </tr>\n",
       "    <tr>\n",
       "      <th>std</th>\n",
       "      <td>9616.292592</td>\n",
       "      <td>0.123362</td>\n",
       "      <td>60.058462</td>\n",
       "      <td>0.432647</td>\n",
       "    </tr>\n",
       "    <tr>\n",
       "      <th>min</th>\n",
       "      <td>1.000000</td>\n",
       "      <td>0.448000</td>\n",
       "      <td>1.000000</td>\n",
       "      <td>0.000000</td>\n",
       "    </tr>\n",
       "    <tr>\n",
       "      <th>25%</th>\n",
       "      <td>8554.250000</td>\n",
       "      <td>0.740000</td>\n",
       "      <td>23.000000</td>\n",
       "      <td>0.000000</td>\n",
       "    </tr>\n",
       "    <tr>\n",
       "      <th>50%</th>\n",
       "      <td>16982.500000</td>\n",
       "      <td>0.903000</td>\n",
       "      <td>47.000000</td>\n",
       "      <td>0.000000</td>\n",
       "    </tr>\n",
       "    <tr>\n",
       "      <th>75%</th>\n",
       "      <td>25169.750000</td>\n",
       "      <td>0.920000</td>\n",
       "      <td>88.000000</td>\n",
       "      <td>0.000000</td>\n",
       "    </tr>\n",
       "    <tr>\n",
       "      <th>max</th>\n",
       "      <td>33380.000000</td>\n",
       "      <td>0.949000</td>\n",
       "      <td>336.000000</td>\n",
       "      <td>1.000000</td>\n",
       "    </tr>\n",
       "  </tbody>\n",
       "</table>\n",
       "</div>"
      ],
      "text/plain": [
       "        enrollee_id  city_development_index  training_hours        target\n",
       "count  19158.000000            19158.000000    19158.000000  19158.000000\n",
       "mean   16875.358179                0.828848       65.366896      0.249348\n",
       "std     9616.292592                0.123362       60.058462      0.432647\n",
       "min        1.000000                0.448000        1.000000      0.000000\n",
       "25%     8554.250000                0.740000       23.000000      0.000000\n",
       "50%    16982.500000                0.903000       47.000000      0.000000\n",
       "75%    25169.750000                0.920000       88.000000      0.000000\n",
       "max    33380.000000                0.949000      336.000000      1.000000"
      ]
     },
     "execution_count": 5,
     "metadata": {},
     "output_type": "execute_result"
    }
   ],
   "source": [
    "train_data.describe()"
   ]
  },
  {
   "cell_type": "code",
   "execution_count": 6,
   "metadata": {
    "execution": {
     "iopub.execute_input": "2021-03-03T13:33:23.649251Z",
     "iopub.status.busy": "2021-03-03T13:33:23.648466Z",
     "iopub.status.idle": "2021-03-03T13:33:23.675203Z",
     "shell.execute_reply": "2021-03-03T13:33:23.675759Z"
    },
    "papermill": {
     "duration": 0.098962,
     "end_time": "2021-03-03T13:33:23.675957",
     "exception": false,
     "start_time": "2021-03-03T13:33:23.576995",
     "status": "completed"
    },
    "tags": []
   },
   "outputs": [
    {
     "data": {
      "text/plain": [
       "enrollee_id                  0\n",
       "city                         0\n",
       "city_development_index       0\n",
       "gender                    4508\n",
       "relevent_experience          0\n",
       "enrolled_university        386\n",
       "education_level            460\n",
       "major_discipline          2813\n",
       "experience                  65\n",
       "company_size              5938\n",
       "company_type              6140\n",
       "last_new_job               423\n",
       "training_hours               0\n",
       "target                       0\n",
       "dtype: int64"
      ]
     },
     "execution_count": 6,
     "metadata": {},
     "output_type": "execute_result"
    }
   ],
   "source": [
    "# Check the null data in training set\n",
    "train_data.isnull().sum()"
   ]
  },
  {
   "cell_type": "code",
   "execution_count": 7,
   "metadata": {
    "execution": {
     "iopub.execute_input": "2021-03-03T13:33:23.813675Z",
     "iopub.status.busy": "2021-03-03T13:33:23.812742Z",
     "iopub.status.idle": "2021-03-03T13:33:23.823929Z",
     "shell.execute_reply": "2021-03-03T13:33:23.824409Z"
    },
    "papermill": {
     "duration": 0.081971,
     "end_time": "2021-03-03T13:33:23.824618",
     "exception": false,
     "start_time": "2021-03-03T13:33:23.742647",
     "status": "completed"
    },
    "tags": []
   },
   "outputs": [
    {
     "data": {
      "text/plain": [
       "enrollee_id                 0\n",
       "city                        0\n",
       "city_development_index      0\n",
       "gender                    508\n",
       "relevent_experience         0\n",
       "enrolled_university        31\n",
       "education_level            52\n",
       "major_discipline          312\n",
       "experience                  5\n",
       "company_size              622\n",
       "company_type              634\n",
       "last_new_job               40\n",
       "training_hours              0\n",
       "dtype: int64"
      ]
     },
     "execution_count": 7,
     "metadata": {},
     "output_type": "execute_result"
    }
   ],
   "source": [
    "# check the null data in test set\n",
    "test_data.isnull().sum()"
   ]
  },
  {
   "cell_type": "markdown",
   "metadata": {
    "papermill": {
     "duration": 0.070047,
     "end_time": "2021-03-03T13:33:23.960868",
     "exception": false,
     "start_time": "2021-03-03T13:33:23.890821",
     "status": "completed"
    },
    "tags": []
   },
   "source": [
    "### Step 3. EDA"
   ]
  },
  {
   "cell_type": "code",
   "execution_count": 8,
   "metadata": {
    "execution": {
     "iopub.execute_input": "2021-03-03T13:33:24.113350Z",
     "iopub.status.busy": "2021-03-03T13:33:24.112579Z",
     "iopub.status.idle": "2021-03-03T13:33:24.116860Z",
     "shell.execute_reply": "2021-03-03T13:33:24.117361Z"
    },
    "papermill": {
     "duration": 0.081246,
     "end_time": "2021-03-03T13:33:24.117561",
     "exception": false,
     "start_time": "2021-03-03T13:33:24.036315",
     "status": "completed"
    },
    "tags": []
   },
   "outputs": [
    {
     "data": {
      "text/plain": [
       "Index(['enrollee_id', 'city', 'city_development_index', 'gender',\n",
       "       'relevent_experience', 'enrolled_university', 'education_level',\n",
       "       'major_discipline', 'experience', 'company_size', 'company_type',\n",
       "       'last_new_job', 'training_hours', 'target'],\n",
       "      dtype='object')"
      ]
     },
     "execution_count": 8,
     "metadata": {},
     "output_type": "execute_result"
    }
   ],
   "source": [
    "train_data.columns"
   ]
  },
  {
   "cell_type": "code",
   "execution_count": 9,
   "metadata": {
    "execution": {
     "iopub.execute_input": "2021-03-03T13:33:24.288076Z",
     "iopub.status.busy": "2021-03-03T13:33:24.287034Z",
     "iopub.status.idle": "2021-03-03T13:33:24.295404Z",
     "shell.execute_reply": "2021-03-03T13:33:24.296509Z"
    },
    "papermill": {
     "duration": 0.105136,
     "end_time": "2021-03-03T13:33:24.296798",
     "exception": false,
     "start_time": "2021-03-03T13:33:24.191662",
     "status": "completed"
    },
    "tags": []
   },
   "outputs": [
    {
     "data": {
      "text/plain": [
       "['enrollee_id',\n",
       " 'city',\n",
       " 'city_development_index',\n",
       " 'gender',\n",
       " 'relevent_experience',\n",
       " 'enrolled_university',\n",
       " 'education_level',\n",
       " 'major_discipline',\n",
       " 'experience',\n",
       " 'company_size',\n",
       " 'company_type',\n",
       " 'last_new_job',\n",
       " 'training_hours',\n",
       " 'target']"
      ]
     },
     "execution_count": 9,
     "metadata": {},
     "output_type": "execute_result"
    }
   ],
   "source": [
    "list(train_data.columns)"
   ]
  },
  {
   "cell_type": "code",
   "execution_count": 10,
   "metadata": {
    "execution": {
     "iopub.execute_input": "2021-03-03T13:33:24.468492Z",
     "iopub.status.busy": "2021-03-03T13:33:24.467708Z",
     "iopub.status.idle": "2021-03-03T13:33:24.471068Z",
     "shell.execute_reply": "2021-03-03T13:33:24.471814Z"
    },
    "papermill": {
     "duration": 0.081395,
     "end_time": "2021-03-03T13:33:24.472050",
     "exception": false,
     "start_time": "2021-03-03T13:33:24.390655",
     "status": "completed"
    },
    "tags": []
   },
   "outputs": [
    {
     "data": {
      "text/plain": [
       "dtype('int64')"
      ]
     },
     "execution_count": 10,
     "metadata": {},
     "output_type": "execute_result"
    }
   ],
   "source": [
    "# just check the output\n",
    "train_data[list(train_data.columns)[0]].dtype"
   ]
  },
  {
   "cell_type": "code",
   "execution_count": 11,
   "metadata": {
    "execution": {
     "iopub.execute_input": "2021-03-03T13:33:24.618657Z",
     "iopub.status.busy": "2021-03-03T13:33:24.617875Z",
     "iopub.status.idle": "2021-03-03T13:33:24.628929Z",
     "shell.execute_reply": "2021-03-03T13:33:24.628331Z"
    },
    "papermill": {
     "duration": 0.085346,
     "end_time": "2021-03-03T13:33:24.629087",
     "exception": false,
     "start_time": "2021-03-03T13:33:24.543741",
     "status": "completed"
    },
    "tags": []
   },
   "outputs": [
    {
     "name": "stdout",
     "output_type": "stream",
     "text": [
      "numarical column :  enrollee_id\n",
      "category coloumn :  city\n",
      "numarical column :  city_development_index\n",
      "category coloumn :  gender\n",
      "category coloumn :  relevent_experience\n",
      "category coloumn :  enrolled_university\n",
      "category coloumn :  education_level\n",
      "category coloumn :  major_discipline\n",
      "category coloumn :  experience\n",
      "category coloumn :  company_size\n",
      "category coloumn :  company_type\n",
      "category coloumn :  last_new_job\n",
      "numarical column :  training_hours\n",
      "numarical column :  target\n"
     ]
    }
   ],
   "source": [
    "# divide categorical columns and numerical columns\n",
    "cat_col = []\n",
    "num_col = []\n",
    "for col in train_data.columns:\n",
    "    if train_data[col].dtype == object:\n",
    "        print('category coloumn : ',col)\n",
    "        cat_col.append(col)\n",
    "    else:\n",
    "        print('numarical column : ',col)\n",
    "        num_col.append(col)"
   ]
  },
  {
   "cell_type": "code",
   "execution_count": 12,
   "metadata": {
    "execution": {
     "iopub.execute_input": "2021-03-03T13:33:24.785795Z",
     "iopub.status.busy": "2021-03-03T13:33:24.784739Z",
     "iopub.status.idle": "2021-03-03T13:33:24.790349Z",
     "shell.execute_reply": "2021-03-03T13:33:24.789803Z"
    },
    "papermill": {
     "duration": 0.090545,
     "end_time": "2021-03-03T13:33:24.790510",
     "exception": false,
     "start_time": "2021-03-03T13:33:24.699965",
     "status": "completed"
    },
    "tags": []
   },
   "outputs": [
    {
     "data": {
      "text/plain": [
       "['city',\n",
       " 'gender',\n",
       " 'relevent_experience',\n",
       " 'enrolled_university',\n",
       " 'education_level',\n",
       " 'major_discipline',\n",
       " 'experience',\n",
       " 'company_size',\n",
       " 'company_type',\n",
       " 'last_new_job']"
      ]
     },
     "execution_count": 12,
     "metadata": {},
     "output_type": "execute_result"
    }
   ],
   "source": [
    "# Check categorical Columns\n",
    "cat_col"
   ]
  },
  {
   "cell_type": "code",
   "execution_count": 13,
   "metadata": {
    "execution": {
     "iopub.execute_input": "2021-03-03T13:33:24.956879Z",
     "iopub.status.busy": "2021-03-03T13:33:24.955745Z",
     "iopub.status.idle": "2021-03-03T13:33:24.961674Z",
     "shell.execute_reply": "2021-03-03T13:33:24.960673Z"
    },
    "papermill": {
     "duration": 0.087955,
     "end_time": "2021-03-03T13:33:24.961857",
     "exception": false,
     "start_time": "2021-03-03T13:33:24.873902",
     "status": "completed"
    },
    "tags": []
   },
   "outputs": [
    {
     "data": {
      "text/plain": [
       "['enrollee_id', 'city_development_index', 'training_hours', 'target']"
      ]
     },
     "execution_count": 13,
     "metadata": {},
     "output_type": "execute_result"
    }
   ],
   "source": [
    "# Check numerical Columns\n",
    "num_col"
   ]
  },
  {
   "cell_type": "code",
   "execution_count": 14,
   "metadata": {
    "execution": {
     "iopub.execute_input": "2021-03-03T13:33:25.129667Z",
     "iopub.status.busy": "2021-03-03T13:33:25.128794Z",
     "iopub.status.idle": "2021-03-03T13:33:25.133671Z",
     "shell.execute_reply": "2021-03-03T13:33:25.132921Z"
    },
    "papermill": {
     "duration": 0.097419,
     "end_time": "2021-03-03T13:33:25.133826",
     "exception": false,
     "start_time": "2021-03-03T13:33:25.036407",
     "status": "completed"
    },
    "tags": []
   },
   "outputs": [
    {
     "data": {
      "text/html": [
       "<div>\n",
       "<style scoped>\n",
       "    .dataframe tbody tr th:only-of-type {\n",
       "        vertical-align: middle;\n",
       "    }\n",
       "\n",
       "    .dataframe tbody tr th {\n",
       "        vertical-align: top;\n",
       "    }\n",
       "\n",
       "    .dataframe thead th {\n",
       "        text-align: right;\n",
       "    }\n",
       "</style>\n",
       "<table border=\"1\" class=\"dataframe\">\n",
       "  <thead>\n",
       "    <tr style=\"text-align: right;\">\n",
       "      <th></th>\n",
       "      <th>enrollee_id</th>\n",
       "      <th>city</th>\n",
       "      <th>city_development_index</th>\n",
       "      <th>gender</th>\n",
       "      <th>relevent_experience</th>\n",
       "      <th>enrolled_university</th>\n",
       "      <th>education_level</th>\n",
       "      <th>major_discipline</th>\n",
       "      <th>experience</th>\n",
       "      <th>company_size</th>\n",
       "      <th>company_type</th>\n",
       "      <th>last_new_job</th>\n",
       "      <th>training_hours</th>\n",
       "      <th>target</th>\n",
       "    </tr>\n",
       "  </thead>\n",
       "  <tbody>\n",
       "    <tr>\n",
       "      <th>0</th>\n",
       "      <td>8949</td>\n",
       "      <td>city_103</td>\n",
       "      <td>0.920</td>\n",
       "      <td>Male</td>\n",
       "      <td>Has relevent experience</td>\n",
       "      <td>no_enrollment</td>\n",
       "      <td>Graduate</td>\n",
       "      <td>STEM</td>\n",
       "      <td>&gt;20</td>\n",
       "      <td>NaN</td>\n",
       "      <td>NaN</td>\n",
       "      <td>1</td>\n",
       "      <td>36</td>\n",
       "      <td>1.0</td>\n",
       "    </tr>\n",
       "    <tr>\n",
       "      <th>1</th>\n",
       "      <td>29725</td>\n",
       "      <td>city_40</td>\n",
       "      <td>0.776</td>\n",
       "      <td>Male</td>\n",
       "      <td>No relevent experience</td>\n",
       "      <td>no_enrollment</td>\n",
       "      <td>Graduate</td>\n",
       "      <td>STEM</td>\n",
       "      <td>15</td>\n",
       "      <td>50-99</td>\n",
       "      <td>Pvt Ltd</td>\n",
       "      <td>&gt;4</td>\n",
       "      <td>47</td>\n",
       "      <td>0.0</td>\n",
       "    </tr>\n",
       "    <tr>\n",
       "      <th>2</th>\n",
       "      <td>11561</td>\n",
       "      <td>city_21</td>\n",
       "      <td>0.624</td>\n",
       "      <td>NaN</td>\n",
       "      <td>No relevent experience</td>\n",
       "      <td>Full time course</td>\n",
       "      <td>Graduate</td>\n",
       "      <td>STEM</td>\n",
       "      <td>5</td>\n",
       "      <td>NaN</td>\n",
       "      <td>NaN</td>\n",
       "      <td>never</td>\n",
       "      <td>83</td>\n",
       "      <td>0.0</td>\n",
       "    </tr>\n",
       "    <tr>\n",
       "      <th>3</th>\n",
       "      <td>33241</td>\n",
       "      <td>city_115</td>\n",
       "      <td>0.789</td>\n",
       "      <td>NaN</td>\n",
       "      <td>No relevent experience</td>\n",
       "      <td>NaN</td>\n",
       "      <td>Graduate</td>\n",
       "      <td>Business Degree</td>\n",
       "      <td>&lt;1</td>\n",
       "      <td>NaN</td>\n",
       "      <td>Pvt Ltd</td>\n",
       "      <td>never</td>\n",
       "      <td>52</td>\n",
       "      <td>1.0</td>\n",
       "    </tr>\n",
       "    <tr>\n",
       "      <th>4</th>\n",
       "      <td>666</td>\n",
       "      <td>city_162</td>\n",
       "      <td>0.767</td>\n",
       "      <td>Male</td>\n",
       "      <td>Has relevent experience</td>\n",
       "      <td>no_enrollment</td>\n",
       "      <td>Masters</td>\n",
       "      <td>STEM</td>\n",
       "      <td>&gt;20</td>\n",
       "      <td>50-99</td>\n",
       "      <td>Funded Startup</td>\n",
       "      <td>4</td>\n",
       "      <td>8</td>\n",
       "      <td>0.0</td>\n",
       "    </tr>\n",
       "  </tbody>\n",
       "</table>\n",
       "</div>"
      ],
      "text/plain": [
       "   enrollee_id      city  city_development_index gender  \\\n",
       "0         8949  city_103                   0.920   Male   \n",
       "1        29725   city_40                   0.776   Male   \n",
       "2        11561   city_21                   0.624    NaN   \n",
       "3        33241  city_115                   0.789    NaN   \n",
       "4          666  city_162                   0.767   Male   \n",
       "\n",
       "       relevent_experience enrolled_university education_level  \\\n",
       "0  Has relevent experience       no_enrollment        Graduate   \n",
       "1   No relevent experience       no_enrollment        Graduate   \n",
       "2   No relevent experience    Full time course        Graduate   \n",
       "3   No relevent experience                 NaN        Graduate   \n",
       "4  Has relevent experience       no_enrollment         Masters   \n",
       "\n",
       "  major_discipline experience company_size    company_type last_new_job  \\\n",
       "0             STEM        >20          NaN             NaN            1   \n",
       "1             STEM         15        50-99         Pvt Ltd           >4   \n",
       "2             STEM          5          NaN             NaN        never   \n",
       "3  Business Degree         <1          NaN         Pvt Ltd        never   \n",
       "4             STEM        >20        50-99  Funded Startup            4   \n",
       "\n",
       "   training_hours  target  \n",
       "0              36     1.0  \n",
       "1              47     0.0  \n",
       "2              83     0.0  \n",
       "3              52     1.0  \n",
       "4               8     0.0  "
      ]
     },
     "execution_count": 14,
     "metadata": {},
     "output_type": "execute_result"
    }
   ],
   "source": [
    "# Check top 5 data\n",
    "train_data.head()"
   ]
  },
  {
   "cell_type": "code",
   "execution_count": 15,
   "metadata": {
    "execution": {
     "iopub.execute_input": "2021-03-03T13:33:25.288865Z",
     "iopub.status.busy": "2021-03-03T13:33:25.287852Z",
     "iopub.status.idle": "2021-03-03T13:33:25.309638Z",
     "shell.execute_reply": "2021-03-03T13:33:25.310127Z"
    },
    "papermill": {
     "duration": 0.101948,
     "end_time": "2021-03-03T13:33:25.310307",
     "exception": false,
     "start_time": "2021-03-03T13:33:25.208359",
     "status": "completed"
    },
    "tags": []
   },
   "outputs": [
    {
     "data": {
      "text/html": [
       "<div>\n",
       "<style scoped>\n",
       "    .dataframe tbody tr th:only-of-type {\n",
       "        vertical-align: middle;\n",
       "    }\n",
       "\n",
       "    .dataframe tbody tr th {\n",
       "        vertical-align: top;\n",
       "    }\n",
       "\n",
       "    .dataframe thead th {\n",
       "        text-align: right;\n",
       "    }\n",
       "</style>\n",
       "<table border=\"1\" class=\"dataframe\">\n",
       "  <thead>\n",
       "    <tr style=\"text-align: right;\">\n",
       "      <th></th>\n",
       "      <th>city</th>\n",
       "      <th>gender</th>\n",
       "      <th>relevent_experience</th>\n",
       "      <th>enrolled_university</th>\n",
       "      <th>education_level</th>\n",
       "      <th>major_discipline</th>\n",
       "      <th>experience</th>\n",
       "      <th>company_size</th>\n",
       "      <th>company_type</th>\n",
       "      <th>last_new_job</th>\n",
       "    </tr>\n",
       "  </thead>\n",
       "  <tbody>\n",
       "    <tr>\n",
       "      <th>0</th>\n",
       "      <td>city_103</td>\n",
       "      <td>Male</td>\n",
       "      <td>Has relevent experience</td>\n",
       "      <td>no_enrollment</td>\n",
       "      <td>Graduate</td>\n",
       "      <td>STEM</td>\n",
       "      <td>&gt;20</td>\n",
       "      <td>NaN</td>\n",
       "      <td>NaN</td>\n",
       "      <td>1</td>\n",
       "    </tr>\n",
       "    <tr>\n",
       "      <th>1</th>\n",
       "      <td>city_40</td>\n",
       "      <td>Male</td>\n",
       "      <td>No relevent experience</td>\n",
       "      <td>no_enrollment</td>\n",
       "      <td>Graduate</td>\n",
       "      <td>STEM</td>\n",
       "      <td>15</td>\n",
       "      <td>50-99</td>\n",
       "      <td>Pvt Ltd</td>\n",
       "      <td>&gt;4</td>\n",
       "    </tr>\n",
       "    <tr>\n",
       "      <th>2</th>\n",
       "      <td>city_21</td>\n",
       "      <td>NaN</td>\n",
       "      <td>No relevent experience</td>\n",
       "      <td>Full time course</td>\n",
       "      <td>Graduate</td>\n",
       "      <td>STEM</td>\n",
       "      <td>5</td>\n",
       "      <td>NaN</td>\n",
       "      <td>NaN</td>\n",
       "      <td>never</td>\n",
       "    </tr>\n",
       "    <tr>\n",
       "      <th>3</th>\n",
       "      <td>city_115</td>\n",
       "      <td>NaN</td>\n",
       "      <td>No relevent experience</td>\n",
       "      <td>NaN</td>\n",
       "      <td>Graduate</td>\n",
       "      <td>Business Degree</td>\n",
       "      <td>&lt;1</td>\n",
       "      <td>NaN</td>\n",
       "      <td>Pvt Ltd</td>\n",
       "      <td>never</td>\n",
       "    </tr>\n",
       "    <tr>\n",
       "      <th>4</th>\n",
       "      <td>city_162</td>\n",
       "      <td>Male</td>\n",
       "      <td>Has relevent experience</td>\n",
       "      <td>no_enrollment</td>\n",
       "      <td>Masters</td>\n",
       "      <td>STEM</td>\n",
       "      <td>&gt;20</td>\n",
       "      <td>50-99</td>\n",
       "      <td>Funded Startup</td>\n",
       "      <td>4</td>\n",
       "    </tr>\n",
       "    <tr>\n",
       "      <th>...</th>\n",
       "      <td>...</td>\n",
       "      <td>...</td>\n",
       "      <td>...</td>\n",
       "      <td>...</td>\n",
       "      <td>...</td>\n",
       "      <td>...</td>\n",
       "      <td>...</td>\n",
       "      <td>...</td>\n",
       "      <td>...</td>\n",
       "      <td>...</td>\n",
       "    </tr>\n",
       "    <tr>\n",
       "      <th>19153</th>\n",
       "      <td>city_173</td>\n",
       "      <td>Male</td>\n",
       "      <td>No relevent experience</td>\n",
       "      <td>no_enrollment</td>\n",
       "      <td>Graduate</td>\n",
       "      <td>Humanities</td>\n",
       "      <td>14</td>\n",
       "      <td>NaN</td>\n",
       "      <td>NaN</td>\n",
       "      <td>1</td>\n",
       "    </tr>\n",
       "    <tr>\n",
       "      <th>19154</th>\n",
       "      <td>city_103</td>\n",
       "      <td>Male</td>\n",
       "      <td>Has relevent experience</td>\n",
       "      <td>no_enrollment</td>\n",
       "      <td>Graduate</td>\n",
       "      <td>STEM</td>\n",
       "      <td>14</td>\n",
       "      <td>NaN</td>\n",
       "      <td>NaN</td>\n",
       "      <td>4</td>\n",
       "    </tr>\n",
       "    <tr>\n",
       "      <th>19155</th>\n",
       "      <td>city_103</td>\n",
       "      <td>Male</td>\n",
       "      <td>Has relevent experience</td>\n",
       "      <td>no_enrollment</td>\n",
       "      <td>Graduate</td>\n",
       "      <td>STEM</td>\n",
       "      <td>&gt;20</td>\n",
       "      <td>50-99</td>\n",
       "      <td>Pvt Ltd</td>\n",
       "      <td>4</td>\n",
       "    </tr>\n",
       "    <tr>\n",
       "      <th>19156</th>\n",
       "      <td>city_65</td>\n",
       "      <td>Male</td>\n",
       "      <td>Has relevent experience</td>\n",
       "      <td>no_enrollment</td>\n",
       "      <td>High School</td>\n",
       "      <td>NaN</td>\n",
       "      <td>&lt;1</td>\n",
       "      <td>500-999</td>\n",
       "      <td>Pvt Ltd</td>\n",
       "      <td>2</td>\n",
       "    </tr>\n",
       "    <tr>\n",
       "      <th>19157</th>\n",
       "      <td>city_67</td>\n",
       "      <td>NaN</td>\n",
       "      <td>No relevent experience</td>\n",
       "      <td>no_enrollment</td>\n",
       "      <td>Primary School</td>\n",
       "      <td>NaN</td>\n",
       "      <td>2</td>\n",
       "      <td>NaN</td>\n",
       "      <td>NaN</td>\n",
       "      <td>1</td>\n",
       "    </tr>\n",
       "  </tbody>\n",
       "</table>\n",
       "<p>19158 rows × 10 columns</p>\n",
       "</div>"
      ],
      "text/plain": [
       "           city gender      relevent_experience enrolled_university  \\\n",
       "0      city_103   Male  Has relevent experience       no_enrollment   \n",
       "1       city_40   Male   No relevent experience       no_enrollment   \n",
       "2       city_21    NaN   No relevent experience    Full time course   \n",
       "3      city_115    NaN   No relevent experience                 NaN   \n",
       "4      city_162   Male  Has relevent experience       no_enrollment   \n",
       "...         ...    ...                      ...                 ...   \n",
       "19153  city_173   Male   No relevent experience       no_enrollment   \n",
       "19154  city_103   Male  Has relevent experience       no_enrollment   \n",
       "19155  city_103   Male  Has relevent experience       no_enrollment   \n",
       "19156   city_65   Male  Has relevent experience       no_enrollment   \n",
       "19157   city_67    NaN   No relevent experience       no_enrollment   \n",
       "\n",
       "      education_level major_discipline experience company_size  \\\n",
       "0            Graduate             STEM        >20          NaN   \n",
       "1            Graduate             STEM         15        50-99   \n",
       "2            Graduate             STEM          5          NaN   \n",
       "3            Graduate  Business Degree         <1          NaN   \n",
       "4             Masters             STEM        >20        50-99   \n",
       "...               ...              ...        ...          ...   \n",
       "19153        Graduate       Humanities         14          NaN   \n",
       "19154        Graduate             STEM         14          NaN   \n",
       "19155        Graduate             STEM        >20        50-99   \n",
       "19156     High School              NaN         <1      500-999   \n",
       "19157  Primary School              NaN          2          NaN   \n",
       "\n",
       "         company_type last_new_job  \n",
       "0                 NaN            1  \n",
       "1             Pvt Ltd           >4  \n",
       "2                 NaN        never  \n",
       "3             Pvt Ltd        never  \n",
       "4      Funded Startup            4  \n",
       "...               ...          ...  \n",
       "19153             NaN            1  \n",
       "19154             NaN            4  \n",
       "19155         Pvt Ltd            4  \n",
       "19156         Pvt Ltd            2  \n",
       "19157             NaN            1  \n",
       "\n",
       "[19158 rows x 10 columns]"
      ]
     },
     "execution_count": 15,
     "metadata": {},
     "output_type": "execute_result"
    }
   ],
   "source": [
    "# Check data in 'categorical columns'\n",
    "train_data[cat_col]"
   ]
  },
  {
   "cell_type": "markdown",
   "metadata": {
    "papermill": {
     "duration": 0.07874,
     "end_time": "2021-03-03T13:33:25.463555",
     "exception": false,
     "start_time": "2021-03-03T13:33:25.384815",
     "status": "completed"
    },
    "tags": []
   },
   "source": [
    "### Step 3-1. EDA - Visualization | Numerical Columns"
   ]
  },
  {
   "cell_type": "code",
   "execution_count": 16,
   "metadata": {
    "execution": {
     "iopub.execute_input": "2021-03-03T13:33:25.625072Z",
     "iopub.status.busy": "2021-03-03T13:33:25.624284Z",
     "iopub.status.idle": "2021-03-03T13:33:26.717785Z",
     "shell.execute_reply": "2021-03-03T13:33:26.716410Z"
    },
    "papermill": {
     "duration": 1.180189,
     "end_time": "2021-03-03T13:33:26.717954",
     "exception": false,
     "start_time": "2021-03-03T13:33:25.537765",
     "status": "completed"
    },
    "tags": []
   },
   "outputs": [],
   "source": [
    "import matplotlib.pyplot as plt\n",
    "import seaborn as sns\n",
    "plt.style.use('dark_background')"
   ]
  },
  {
   "cell_type": "markdown",
   "metadata": {
    "papermill": {
     "duration": 0.073193,
     "end_time": "2021-03-03T13:33:26.864454",
     "exception": false,
     "start_time": "2021-03-03T13:33:26.791261",
     "status": "completed"
    },
    "tags": []
   },
   "source": [
    "#### Visualization the Correlation - Target & Numerical Columns"
   ]
  },
  {
   "cell_type": "code",
   "execution_count": 17,
   "metadata": {
    "execution": {
     "iopub.execute_input": "2021-03-03T13:33:27.022270Z",
     "iopub.status.busy": "2021-03-03T13:33:27.021459Z",
     "iopub.status.idle": "2021-03-03T13:33:27.026701Z",
     "shell.execute_reply": "2021-03-03T13:33:27.027176Z"
    },
    "papermill": {
     "duration": 0.086464,
     "end_time": "2021-03-03T13:33:27.027368",
     "exception": false,
     "start_time": "2021-03-03T13:33:26.940904",
     "status": "completed"
    },
    "tags": []
   },
   "outputs": [
    {
     "data": {
      "text/plain": [
       "['enrollee_id', 'city_development_index', 'training_hours', 'target']"
      ]
     },
     "execution_count": 17,
     "metadata": {},
     "output_type": "execute_result"
    }
   ],
   "source": [
    "num_col"
   ]
  },
  {
   "cell_type": "code",
   "execution_count": 18,
   "metadata": {
    "execution": {
     "iopub.execute_input": "2021-03-03T13:33:27.186823Z",
     "iopub.status.busy": "2021-03-03T13:33:27.186103Z",
     "iopub.status.idle": "2021-03-03T13:33:27.192766Z",
     "shell.execute_reply": "2021-03-03T13:33:27.193357Z"
    },
    "papermill": {
     "duration": 0.087776,
     "end_time": "2021-03-03T13:33:27.193571",
     "exception": false,
     "start_time": "2021-03-03T13:33:27.105795",
     "status": "completed"
    },
    "tags": []
   },
   "outputs": [
    {
     "data": {
      "text/plain": [
       "array([1., 0.])"
      ]
     },
     "execution_count": 18,
     "metadata": {},
     "output_type": "execute_result"
    }
   ],
   "source": [
    "train_data['target'].unique()"
   ]
  },
  {
   "cell_type": "markdown",
   "metadata": {
    "papermill": {
     "duration": 0.07604,
     "end_time": "2021-03-03T13:33:27.343815",
     "exception": false,
     "start_time": "2021-03-03T13:33:27.267775",
     "status": "completed"
    },
    "tags": []
   },
   "source": [
    "#### target is 0 or 1"
   ]
  },
  {
   "cell_type": "code",
   "execution_count": 19,
   "metadata": {
    "execution": {
     "iopub.execute_input": "2021-03-03T13:33:27.497477Z",
     "iopub.status.busy": "2021-03-03T13:33:27.496718Z",
     "iopub.status.idle": "2021-03-03T13:33:27.511754Z",
     "shell.execute_reply": "2021-03-03T13:33:27.511073Z"
    },
    "papermill": {
     "duration": 0.092981,
     "end_time": "2021-03-03T13:33:27.511910",
     "exception": false,
     "start_time": "2021-03-03T13:33:27.418929",
     "status": "completed"
    },
    "tags": []
   },
   "outputs": [
    {
     "data": {
      "text/html": [
       "<div>\n",
       "<style scoped>\n",
       "    .dataframe tbody tr th:only-of-type {\n",
       "        vertical-align: middle;\n",
       "    }\n",
       "\n",
       "    .dataframe tbody tr th {\n",
       "        vertical-align: top;\n",
       "    }\n",
       "\n",
       "    .dataframe thead th {\n",
       "        text-align: right;\n",
       "    }\n",
       "</style>\n",
       "<table border=\"1\" class=\"dataframe\">\n",
       "  <thead>\n",
       "    <tr style=\"text-align: right;\">\n",
       "      <th></th>\n",
       "      <th>enrollee_id</th>\n",
       "      <th>city_development_index</th>\n",
       "      <th>training_hours</th>\n",
       "      <th>target</th>\n",
       "    </tr>\n",
       "  </thead>\n",
       "  <tbody>\n",
       "    <tr>\n",
       "      <th>enrollee_id</th>\n",
       "      <td>1.000000</td>\n",
       "      <td>-0.040455</td>\n",
       "      <td>0.000998</td>\n",
       "      <td>0.049475</td>\n",
       "    </tr>\n",
       "    <tr>\n",
       "      <th>city_development_index</th>\n",
       "      <td>-0.040455</td>\n",
       "      <td>1.000000</td>\n",
       "      <td>0.001920</td>\n",
       "      <td>-0.341665</td>\n",
       "    </tr>\n",
       "    <tr>\n",
       "      <th>training_hours</th>\n",
       "      <td>0.000998</td>\n",
       "      <td>0.001920</td>\n",
       "      <td>1.000000</td>\n",
       "      <td>-0.021577</td>\n",
       "    </tr>\n",
       "    <tr>\n",
       "      <th>target</th>\n",
       "      <td>0.049475</td>\n",
       "      <td>-0.341665</td>\n",
       "      <td>-0.021577</td>\n",
       "      <td>1.000000</td>\n",
       "    </tr>\n",
       "  </tbody>\n",
       "</table>\n",
       "</div>"
      ],
      "text/plain": [
       "                        enrollee_id  city_development_index  training_hours  \\\n",
       "enrollee_id                1.000000               -0.040455        0.000998   \n",
       "city_development_index    -0.040455                1.000000        0.001920   \n",
       "training_hours             0.000998                0.001920        1.000000   \n",
       "target                     0.049475               -0.341665       -0.021577   \n",
       "\n",
       "                          target  \n",
       "enrollee_id             0.049475  \n",
       "city_development_index -0.341665  \n",
       "training_hours         -0.021577  \n",
       "target                  1.000000  "
      ]
     },
     "execution_count": 19,
     "metadata": {},
     "output_type": "execute_result"
    }
   ],
   "source": [
    "# Check the correlation\n",
    "train_data.corr()"
   ]
  },
  {
   "cell_type": "code",
   "execution_count": 20,
   "metadata": {
    "execution": {
     "iopub.execute_input": "2021-03-03T13:33:27.674175Z",
     "iopub.status.busy": "2021-03-03T13:33:27.673346Z",
     "iopub.status.idle": "2021-03-03T13:33:28.011879Z",
     "shell.execute_reply": "2021-03-03T13:33:28.010743Z"
    },
    "papermill": {
     "duration": 0.423626,
     "end_time": "2021-03-03T13:33:28.012116",
     "exception": false,
     "start_time": "2021-03-03T13:33:27.588490",
     "status": "completed"
    },
    "tags": []
   },
   "outputs": [
    {
     "data": {
      "image/png": "[encoded data removed]",
      "text/plain": [
       "<Figure size 432x288 with 2 Axes>"
      ]
     },
     "metadata": {},
     "output_type": "display_data"
    }
   ],
   "source": [
    "sns.heatmap(train_data.corr(), annot=True);"
   ]
  },
  {
   "cell_type": "code",
   "execution_count": 21,
   "metadata": {
    "execution": {
     "iopub.execute_input": "2021-03-03T13:33:28.177914Z",
     "iopub.status.busy": "2021-03-03T13:33:28.177125Z",
     "iopub.status.idle": "2021-03-03T13:33:28.185129Z",
     "shell.execute_reply": "2021-03-03T13:33:28.185760Z"
    },
    "papermill": {
     "duration": 0.092689,
     "end_time": "2021-03-03T13:33:28.185991",
     "exception": false,
     "start_time": "2021-03-03T13:33:28.093302",
     "status": "completed"
    },
    "tags": []
   },
   "outputs": [
    {
     "data": {
      "text/plain": [
       "enrollee_id               0.049475\n",
       "city_development_index   -0.341665\n",
       "training_hours           -0.021577\n",
       "target                    1.000000\n",
       "Name: target, dtype: float64"
      ]
     },
     "execution_count": 21,
     "metadata": {},
     "output_type": "execute_result"
    }
   ],
   "source": [
    "train_data.corr()['target']"
   ]
  },
  {
   "cell_type": "code",
   "execution_count": 22,
   "metadata": {
    "execution": {
     "iopub.execute_input": "2021-03-03T13:33:28.349376Z",
     "iopub.status.busy": "2021-03-03T13:33:28.348714Z",
     "iopub.status.idle": "2021-03-03T13:33:28.572931Z",
     "shell.execute_reply": "2021-03-03T13:33:28.572083Z"
    },
    "papermill": {
     "duration": 0.308544,
     "end_time": "2021-03-03T13:33:28.573110",
     "exception": false,
     "start_time": "2021-03-03T13:33:28.264566",
     "status": "completed"
    },
    "tags": []
   },
   "outputs": [
    {
     "data": {
      "text/plain": [
       "[<matplotlib.lines.Line2D at 0x7f154c6f2690>]"
      ]
     },
     "execution_count": 22,
     "metadata": {},
     "output_type": "execute_result"
    },
    {
     "data": {
      "image/png": "[encoded data removed]",
      "text/plain": [
       "<Figure size 432x288 with 1 Axes>"
      ]
     },
     "metadata": {},
     "output_type": "display_data"
    }
   ],
   "source": [
    "plt.plot(train_data.corr()['target'])"
   ]
  },
  {
   "cell_type": "markdown",
   "metadata": {
    "papermill": {
     "duration": 0.078404,
     "end_time": "2021-03-03T13:33:28.734146",
     "exception": false,
     "start_time": "2021-03-03T13:33:28.655742",
     "status": "completed"
    },
    "tags": []
   },
   "source": [
    "#### city_development_index has strong negative correlation, It's meaningful feature."
   ]
  },
  {
   "cell_type": "code",
   "execution_count": 23,
   "metadata": {
    "execution": {
     "iopub.execute_input": "2021-03-03T13:33:28.900966Z",
     "iopub.status.busy": "2021-03-03T13:33:28.894329Z",
     "iopub.status.idle": "2021-03-03T13:33:38.323306Z",
     "shell.execute_reply": "2021-03-03T13:33:38.323828Z"
    },
    "papermill": {
     "duration": 9.511617,
     "end_time": "2021-03-03T13:33:38.324004",
     "exception": false,
     "start_time": "2021-03-03T13:33:28.812387",
     "status": "completed"
    },
    "tags": []
   },
   "outputs": [
    {
     "data": {
      "text/plain": [
       "<seaborn.axisgrid.PairGrid at 0x7f154c753b10>"
      ]
     },
     "execution_count": 23,
     "metadata": {},
     "output_type": "execute_result"
    },
    {
     "data": {
      "image/png": "[encoded data removed]",
      "text/plain": [
       "<Figure size 592x540 with 12 Axes>"
      ]
     },
     "metadata": {},
     "output_type": "display_data"
    }
   ],
   "source": [
    "sns.pairplot(train_data, hue='target')"
   ]
  },
  {
   "cell_type": "code",
   "execution_count": 24,
   "metadata": {
    "execution": {
     "iopub.execute_input": "2021-03-03T13:33:38.496567Z",
     "iopub.status.busy": "2021-03-03T13:33:38.495886Z",
     "iopub.status.idle": "2021-03-03T13:33:38.644724Z",
     "shell.execute_reply": "2021-03-03T13:33:38.644041Z"
    },
    "papermill": {
     "duration": 0.236389,
     "end_time": "2021-03-03T13:33:38.644871",
     "exception": false,
     "start_time": "2021-03-03T13:33:38.408482",
     "status": "completed"
    },
    "tags": []
   },
   "outputs": [
    {
     "data": {
      "image/png": "[encoded data removed]",
      "text/plain": [
       "<Figure size 576x288 with 1 Axes>"
      ]
     },
     "metadata": {},
     "output_type": "display_data"
    }
   ],
   "source": [
    "fig = plt.figure(figsize=(8,4))\n",
    "sns.boxplot(x='target', y='city_development_index', data=train_data);"
   ]
  },
  {
   "cell_type": "code",
   "execution_count": 25,
   "metadata": {
    "execution": {
     "iopub.execute_input": "2021-03-03T13:33:38.823918Z",
     "iopub.status.busy": "2021-03-03T13:33:38.823101Z",
     "iopub.status.idle": "2021-03-03T13:33:38.971319Z",
     "shell.execute_reply": "2021-03-03T13:33:38.970608Z"
    },
    "papermill": {
     "duration": 0.239958,
     "end_time": "2021-03-03T13:33:38.971493",
     "exception": false,
     "start_time": "2021-03-03T13:33:38.731535",
     "status": "completed"
    },
    "tags": []
   },
   "outputs": [
    {
     "data": {
      "image/png": "[encoded data removed]",
      "text/plain": [
       "<Figure size 576x288 with 1 Axes>"
      ]
     },
     "metadata": {},
     "output_type": "display_data"
    }
   ],
   "source": [
    "# boxenplot \n",
    "fig = plt.figure(figsize=(8,4))\n",
    "sns.boxenplot(x='target', y='city_development_index', data=train_data);"
   ]
  },
  {
   "cell_type": "code",
   "execution_count": 26,
   "metadata": {
    "execution": {
     "iopub.execute_input": "2021-03-03T13:33:39.166480Z",
     "iopub.status.busy": "2021-03-03T13:33:39.165758Z",
     "iopub.status.idle": "2021-03-03T13:33:39.375408Z",
     "shell.execute_reply": "2021-03-03T13:33:39.374827Z"
    },
    "papermill": {
     "duration": 0.309083,
     "end_time": "2021-03-03T13:33:39.375584",
     "exception": false,
     "start_time": "2021-03-03T13:33:39.066501",
     "status": "completed"
    },
    "tags": []
   },
   "outputs": [
    {
     "data": {
      "image/png": "[encoded data removed]",
      "text/plain": [
       "<Figure size 576x288 with 1 Axes>"
      ]
     },
     "metadata": {},
     "output_type": "display_data"
    }
   ],
   "source": [
    "# show viloin plot\n",
    "fig = plt.figure(figsize=(8,4))\n",
    "sns.violinplot(x='target', y='city_development_index', data=train_data);"
   ]
  },
  {
   "cell_type": "markdown",
   "metadata": {
    "papermill": {
     "duration": 0.08786,
     "end_time": "2021-03-03T13:33:39.552855",
     "exception": false,
     "start_time": "2021-03-03T13:33:39.464995",
     "status": "completed"
    },
    "tags": []
   },
   "source": [
    "#### Companies in more developed cities have lower turnover rates."
   ]
  },
  {
   "cell_type": "code",
   "execution_count": 27,
   "metadata": {
    "execution": {
     "iopub.execute_input": "2021-03-03T13:33:39.740863Z",
     "iopub.status.busy": "2021-03-03T13:33:39.736836Z",
     "iopub.status.idle": "2021-03-03T13:33:39.909551Z",
     "shell.execute_reply": "2021-03-03T13:33:39.908542Z"
    },
    "papermill": {
     "duration": 0.266697,
     "end_time": "2021-03-03T13:33:39.909747",
     "exception": false,
     "start_time": "2021-03-03T13:33:39.643050",
     "status": "completed"
    },
    "tags": []
   },
   "outputs": [
    {
     "data": {
      "image/png": "[encoded data removed]",
      "text/plain": [
       "<Figure size 576x288 with 1 Axes>"
      ]
     },
     "metadata": {},
     "output_type": "display_data"
    }
   ],
   "source": [
    "fig = plt.figure(figsize=(8,4))\n",
    "sns.boxplot(x='target', y='training_hours', data=train_data);"
   ]
  },
  {
   "cell_type": "code",
   "execution_count": 28,
   "metadata": {
    "execution": {
     "iopub.execute_input": "2021-03-03T13:33:40.103895Z",
     "iopub.status.busy": "2021-03-03T13:33:40.102776Z",
     "iopub.status.idle": "2021-03-03T13:33:40.322041Z",
     "shell.execute_reply": "2021-03-03T13:33:40.321455Z"
    },
    "papermill": {
     "duration": 0.319636,
     "end_time": "2021-03-03T13:33:40.322188",
     "exception": false,
     "start_time": "2021-03-03T13:33:40.002552",
     "status": "completed"
    },
    "tags": []
   },
   "outputs": [
    {
     "data": {
      "image/png": "[encoded data removed]",
      "text/plain": [
       "<Figure size 576x288 with 1 Axes>"
      ]
     },
     "metadata": {},
     "output_type": "display_data"
    }
   ],
   "source": [
    "fig = plt.figure(figsize=(8,4))\n",
    "sns.violinplot(x='target', y='training_hours', data=train_data);"
   ]
  },
  {
   "cell_type": "markdown",
   "metadata": {
    "papermill": {
     "duration": 0.093848,
     "end_time": "2021-03-03T13:33:40.506621",
     "exception": false,
     "start_time": "2021-03-03T13:33:40.412773",
     "status": "completed"
    },
    "tags": []
   },
   "source": [
    "#### Although it was confirmed through the heatmap, training_hours (retraining) did not show a significant correlation with the turnover rate."
   ]
  },
  {
   "cell_type": "markdown",
   "metadata": {
    "papermill": {
     "duration": 0.093748,
     "end_time": "2021-03-03T13:33:40.695616",
     "exception": false,
     "start_time": "2021-03-03T13:33:40.601868",
     "status": "completed"
    },
    "tags": []
   },
   "source": [
    "### Step 3-2. EDA - Visualization | Categorical Columns"
   ]
  },
  {
   "cell_type": "code",
   "execution_count": 29,
   "metadata": {
    "execution": {
     "iopub.execute_input": "2021-03-03T13:33:40.910927Z",
     "iopub.status.busy": "2021-03-03T13:33:40.896142Z",
     "iopub.status.idle": "2021-03-03T13:33:40.916264Z",
     "shell.execute_reply": "2021-03-03T13:33:40.916815Z"
    },
    "papermill": {
     "duration": 0.128814,
     "end_time": "2021-03-03T13:33:40.917011",
     "exception": false,
     "start_time": "2021-03-03T13:33:40.788197",
     "status": "completed"
    },
    "tags": []
   },
   "outputs": [
    {
     "data": {
      "text/html": [
       "<div>\n",
       "<style scoped>\n",
       "    .dataframe tbody tr th:only-of-type {\n",
       "        vertical-align: middle;\n",
       "    }\n",
       "\n",
       "    .dataframe tbody tr th {\n",
       "        vertical-align: top;\n",
       "    }\n",
       "\n",
       "    .dataframe thead th {\n",
       "        text-align: right;\n",
       "    }\n",
       "</style>\n",
       "<table border=\"1\" class=\"dataframe\">\n",
       "  <thead>\n",
       "    <tr style=\"text-align: right;\">\n",
       "      <th></th>\n",
       "      <th>enrollee_id</th>\n",
       "      <th>city</th>\n",
       "      <th>city_development_index</th>\n",
       "      <th>gender</th>\n",
       "      <th>relevent_experience</th>\n",
       "      <th>enrolled_university</th>\n",
       "      <th>education_level</th>\n",
       "      <th>major_discipline</th>\n",
       "      <th>experience</th>\n",
       "      <th>company_size</th>\n",
       "      <th>company_type</th>\n",
       "      <th>last_new_job</th>\n",
       "      <th>training_hours</th>\n",
       "      <th>target</th>\n",
       "    </tr>\n",
       "  </thead>\n",
       "  <tbody>\n",
       "    <tr>\n",
       "      <th>0</th>\n",
       "      <td>8949</td>\n",
       "      <td>city_103</td>\n",
       "      <td>0.920</td>\n",
       "      <td>Male</td>\n",
       "      <td>Has relevent experience</td>\n",
       "      <td>no_enrollment</td>\n",
       "      <td>Graduate</td>\n",
       "      <td>STEM</td>\n",
       "      <td>&gt;20</td>\n",
       "      <td>NaN</td>\n",
       "      <td>NaN</td>\n",
       "      <td>1</td>\n",
       "      <td>36</td>\n",
       "      <td>1.0</td>\n",
       "    </tr>\n",
       "    <tr>\n",
       "      <th>1</th>\n",
       "      <td>29725</td>\n",
       "      <td>city_40</td>\n",
       "      <td>0.776</td>\n",
       "      <td>Male</td>\n",
       "      <td>No relevent experience</td>\n",
       "      <td>no_enrollment</td>\n",
       "      <td>Graduate</td>\n",
       "      <td>STEM</td>\n",
       "      <td>15</td>\n",
       "      <td>50-99</td>\n",
       "      <td>Pvt Ltd</td>\n",
       "      <td>&gt;4</td>\n",
       "      <td>47</td>\n",
       "      <td>0.0</td>\n",
       "    </tr>\n",
       "    <tr>\n",
       "      <th>2</th>\n",
       "      <td>11561</td>\n",
       "      <td>city_21</td>\n",
       "      <td>0.624</td>\n",
       "      <td>NaN</td>\n",
       "      <td>No relevent experience</td>\n",
       "      <td>Full time course</td>\n",
       "      <td>Graduate</td>\n",
       "      <td>STEM</td>\n",
       "      <td>5</td>\n",
       "      <td>NaN</td>\n",
       "      <td>NaN</td>\n",
       "      <td>never</td>\n",
       "      <td>83</td>\n",
       "      <td>0.0</td>\n",
       "    </tr>\n",
       "    <tr>\n",
       "      <th>3</th>\n",
       "      <td>33241</td>\n",
       "      <td>city_115</td>\n",
       "      <td>0.789</td>\n",
       "      <td>NaN</td>\n",
       "      <td>No relevent experience</td>\n",
       "      <td>NaN</td>\n",
       "      <td>Graduate</td>\n",
       "      <td>Business Degree</td>\n",
       "      <td>&lt;1</td>\n",
       "      <td>NaN</td>\n",
       "      <td>Pvt Ltd</td>\n",
       "      <td>never</td>\n",
       "      <td>52</td>\n",
       "      <td>1.0</td>\n",
       "    </tr>\n",
       "    <tr>\n",
       "      <th>4</th>\n",
       "      <td>666</td>\n",
       "      <td>city_162</td>\n",
       "      <td>0.767</td>\n",
       "      <td>Male</td>\n",
       "      <td>Has relevent experience</td>\n",
       "      <td>no_enrollment</td>\n",
       "      <td>Masters</td>\n",
       "      <td>STEM</td>\n",
       "      <td>&gt;20</td>\n",
       "      <td>50-99</td>\n",
       "      <td>Funded Startup</td>\n",
       "      <td>4</td>\n",
       "      <td>8</td>\n",
       "      <td>0.0</td>\n",
       "    </tr>\n",
       "    <tr>\n",
       "      <th>...</th>\n",
       "      <td>...</td>\n",
       "      <td>...</td>\n",
       "      <td>...</td>\n",
       "      <td>...</td>\n",
       "      <td>...</td>\n",
       "      <td>...</td>\n",
       "      <td>...</td>\n",
       "      <td>...</td>\n",
       "      <td>...</td>\n",
       "      <td>...</td>\n",
       "      <td>...</td>\n",
       "      <td>...</td>\n",
       "      <td>...</td>\n",
       "      <td>...</td>\n",
       "    </tr>\n",
       "    <tr>\n",
       "      <th>19153</th>\n",
       "      <td>7386</td>\n",
       "      <td>city_173</td>\n",
       "      <td>0.878</td>\n",
       "      <td>Male</td>\n",
       "      <td>No relevent experience</td>\n",
       "      <td>no_enrollment</td>\n",
       "      <td>Graduate</td>\n",
       "      <td>Humanities</td>\n",
       "      <td>14</td>\n",
       "      <td>NaN</td>\n",
       "      <td>NaN</td>\n",
       "      <td>1</td>\n",
       "      <td>42</td>\n",
       "      <td>1.0</td>\n",
       "    </tr>\n",
       "    <tr>\n",
       "      <th>19154</th>\n",
       "      <td>31398</td>\n",
       "      <td>city_103</td>\n",
       "      <td>0.920</td>\n",
       "      <td>Male</td>\n",
       "      <td>Has relevent experience</td>\n",
       "      <td>no_enrollment</td>\n",
       "      <td>Graduate</td>\n",
       "      <td>STEM</td>\n",
       "      <td>14</td>\n",
       "      <td>NaN</td>\n",
       "      <td>NaN</td>\n",
       "      <td>4</td>\n",
       "      <td>52</td>\n",
       "      <td>1.0</td>\n",
       "    </tr>\n",
       "    <tr>\n",
       "      <th>19155</th>\n",
       "      <td>24576</td>\n",
       "      <td>city_103</td>\n",
       "      <td>0.920</td>\n",
       "      <td>Male</td>\n",
       "      <td>Has relevent experience</td>\n",
       "      <td>no_enrollment</td>\n",
       "      <td>Graduate</td>\n",
       "      <td>STEM</td>\n",
       "      <td>&gt;20</td>\n",
       "      <td>50-99</td>\n",
       "      <td>Pvt Ltd</td>\n",
       "      <td>4</td>\n",
       "      <td>44</td>\n",
       "      <td>0.0</td>\n",
       "    </tr>\n",
       "    <tr>\n",
       "      <th>19156</th>\n",
       "      <td>5756</td>\n",
       "      <td>city_65</td>\n",
       "      <td>0.802</td>\n",
       "      <td>Male</td>\n",
       "      <td>Has relevent experience</td>\n",
       "      <td>no_enrollment</td>\n",
       "      <td>High School</td>\n",
       "      <td>NaN</td>\n",
       "      <td>&lt;1</td>\n",
       "      <td>500-999</td>\n",
       "      <td>Pvt Ltd</td>\n",
       "      <td>2</td>\n",
       "      <td>97</td>\n",
       "      <td>0.0</td>\n",
       "    </tr>\n",
       "    <tr>\n",
       "      <th>19157</th>\n",
       "      <td>23834</td>\n",
       "      <td>city_67</td>\n",
       "      <td>0.855</td>\n",
       "      <td>NaN</td>\n",
       "      <td>No relevent experience</td>\n",
       "      <td>no_enrollment</td>\n",
       "      <td>Primary School</td>\n",
       "      <td>NaN</td>\n",
       "      <td>2</td>\n",
       "      <td>NaN</td>\n",
       "      <td>NaN</td>\n",
       "      <td>1</td>\n",
       "      <td>127</td>\n",
       "      <td>0.0</td>\n",
       "    </tr>\n",
       "  </tbody>\n",
       "</table>\n",
       "<p>19158 rows × 14 columns</p>\n",
       "</div>"
      ],
      "text/plain": [
       "       enrollee_id      city  city_development_index gender  \\\n",
       "0             8949  city_103                   0.920   Male   \n",
       "1            29725   city_40                   0.776   Male   \n",
       "2            11561   city_21                   0.624    NaN   \n",
       "3            33241  city_115                   0.789    NaN   \n",
       "4              666  city_162                   0.767   Male   \n",
       "...            ...       ...                     ...    ...   \n",
       "19153         7386  city_173                   0.878   Male   \n",
       "19154        31398  city_103                   0.920   Male   \n",
       "19155        24576  city_103                   0.920   Male   \n",
       "19156         5756   city_65                   0.802   Male   \n",
       "19157        23834   city_67                   0.855    NaN   \n",
       "\n",
       "           relevent_experience enrolled_university education_level  \\\n",
       "0      Has relevent experience       no_enrollment        Graduate   \n",
       "1       No relevent experience       no_enrollment        Graduate   \n",
       "2       No relevent experience    Full time course        Graduate   \n",
       "3       No relevent experience                 NaN        Graduate   \n",
       "4      Has relevent experience       no_enrollment         Masters   \n",
       "...                        ...                 ...             ...   \n",
       "19153   No relevent experience       no_enrollment        Graduate   \n",
       "19154  Has relevent experience       no_enrollment        Graduate   \n",
       "19155  Has relevent experience       no_enrollment        Graduate   \n",
       "19156  Has relevent experience       no_enrollment     High School   \n",
       "19157   No relevent experience       no_enrollment  Primary School   \n",
       "\n",
       "      major_discipline experience company_size    company_type last_new_job  \\\n",
       "0                 STEM        >20          NaN             NaN            1   \n",
       "1                 STEM         15        50-99         Pvt Ltd           >4   \n",
       "2                 STEM          5          NaN             NaN        never   \n",
       "3      Business Degree         <1          NaN         Pvt Ltd        never   \n",
       "4                 STEM        >20        50-99  Funded Startup            4   \n",
       "...                ...        ...          ...             ...          ...   \n",
       "19153       Humanities         14          NaN             NaN            1   \n",
       "19154             STEM         14          NaN             NaN            4   \n",
       "19155             STEM        >20        50-99         Pvt Ltd            4   \n",
       "19156              NaN         <1      500-999         Pvt Ltd            2   \n",
       "19157              NaN          2          NaN             NaN            1   \n",
       "\n",
       "       training_hours  target  \n",
       "0                  36     1.0  \n",
       "1                  47     0.0  \n",
       "2                  83     0.0  \n",
       "3                  52     1.0  \n",
       "4                   8     0.0  \n",
       "...               ...     ...  \n",
       "19153              42     1.0  \n",
       "19154              52     1.0  \n",
       "19155              44     0.0  \n",
       "19156              97     0.0  \n",
       "19157             127     0.0  \n",
       "\n",
       "[19158 rows x 14 columns]"
      ]
     },
     "execution_count": 29,
     "metadata": {},
     "output_type": "execute_result"
    }
   ],
   "source": [
    "train_data"
   ]
  },
  {
   "cell_type": "markdown",
   "metadata": {
    "papermill": {
     "duration": 0.093272,
     "end_time": "2021-03-03T13:33:41.104573",
     "exception": false,
     "start_time": "2021-03-03T13:33:41.011301",
     "status": "completed"
    },
    "tags": []
   },
   "source": [
    "First, let's look at the city_development_index, which had high correlation (negative) in the numeric column."
   ]
  },
  {
   "cell_type": "code",
   "execution_count": 30,
   "metadata": {
    "execution": {
     "iopub.execute_input": "2021-03-03T13:33:41.296742Z",
     "iopub.status.busy": "2021-03-03T13:33:41.295869Z",
     "iopub.status.idle": "2021-03-03T13:33:41.299679Z",
     "shell.execute_reply": "2021-03-03T13:33:41.299122Z"
    },
    "papermill": {
     "duration": 0.104334,
     "end_time": "2021-03-03T13:33:41.299822",
     "exception": false,
     "start_time": "2021-03-03T13:33:41.195488",
     "status": "completed"
    },
    "tags": []
   },
   "outputs": [
    {
     "data": {
      "text/plain": [
       "['city',\n",
       " 'gender',\n",
       " 'relevent_experience',\n",
       " 'enrolled_university',\n",
       " 'education_level',\n",
       " 'major_discipline',\n",
       " 'experience',\n",
       " 'company_size',\n",
       " 'company_type',\n",
       " 'last_new_job']"
      ]
     },
     "execution_count": 30,
     "metadata": {},
     "output_type": "execute_result"
    }
   ],
   "source": [
    "cat_col"
   ]
  },
  {
   "cell_type": "code",
   "execution_count": 31,
   "metadata": {
    "execution": {
     "iopub.execute_input": "2021-03-03T13:33:41.491673Z",
     "iopub.status.busy": "2021-03-03T13:33:41.490892Z",
     "iopub.status.idle": "2021-03-03T13:33:42.009377Z",
     "shell.execute_reply": "2021-03-03T13:33:42.008851Z"
    },
    "papermill": {
     "duration": 0.617804,
     "end_time": "2021-03-03T13:33:42.009548",
     "exception": false,
     "start_time": "2021-03-03T13:33:41.391744",
     "status": "completed"
    },
    "tags": []
   },
   "outputs": [
    {
     "data": {
      "image/png": "[encoded data removed]",
      "text/plain": [
       "<Figure size 576x288 with 1 Axes>"
      ]
     },
     "metadata": {},
     "output_type": "display_data"
    }
   ],
   "source": [
    "# enrolled_university\n",
    "fig = plt.figure(figsize=(8,4))\n",
    "sns.violinplot(x='target', y='city_development_index', data=train_data, hue='enrolled_university');"
   ]
  },
  {
   "cell_type": "code",
   "execution_count": 32,
   "metadata": {
    "execution": {
     "iopub.execute_input": "2021-03-03T13:33:42.223789Z",
     "iopub.status.busy": "2021-03-03T13:33:42.223120Z",
     "iopub.status.idle": "2021-03-03T13:33:42.583702Z",
     "shell.execute_reply": "2021-03-03T13:33:42.583042Z"
    },
    "papermill": {
     "duration": 0.481485,
     "end_time": "2021-03-03T13:33:42.583857",
     "exception": false,
     "start_time": "2021-03-03T13:33:42.102372",
     "status": "completed"
    },
    "tags": []
   },
   "outputs": [
    {
     "data": {
      "image/png": "[encoded data removed]",
      "text/plain": [
       "<Figure size 576x288 with 1 Axes>"
      ]
     },
     "metadata": {},
     "output_type": "display_data"
    }
   ],
   "source": [
    "fig = plt.figure(figsize=(8,4))\n",
    "sns.violinplot(x='enrolled_university', y='city_development_index', data=train_data, hue='target');"
   ]
  },
  {
   "cell_type": "markdown",
   "metadata": {
    "papermill": {
     "duration": 0.097505,
     "end_time": "2021-03-03T13:33:42.777833",
     "exception": false,
     "start_time": "2021-03-03T13:33:42.680328",
     "status": "completed"
    },
    "tags": []
   },
   "source": [
    "#### I don't think the current approach is appropriate. Let's change it to a countplot."
   ]
  },
  {
   "cell_type": "code",
   "execution_count": 33,
   "metadata": {
    "execution": {
     "iopub.execute_input": "2021-03-03T13:33:42.998604Z",
     "iopub.status.busy": "2021-03-03T13:33:42.997472Z",
     "iopub.status.idle": "2021-03-03T13:33:43.174773Z",
     "shell.execute_reply": "2021-03-03T13:33:43.173995Z"
    },
    "papermill": {
     "duration": 0.303003,
     "end_time": "2021-03-03T13:33:43.174953",
     "exception": false,
     "start_time": "2021-03-03T13:33:42.871950",
     "status": "completed"
    },
    "tags": []
   },
   "outputs": [
    {
     "data": {
      "image/png": "[encoded data removed]",
      "text/plain": [
       "<Figure size 576x288 with 1 Axes>"
      ]
     },
     "metadata": {},
     "output_type": "display_data"
    }
   ],
   "source": [
    "fig = plt.figure(figsize=(8,4))\n",
    "sns.countplot(x='enrolled_university', data=train_data, hue='target');"
   ]
  },
  {
   "cell_type": "markdown",
   "metadata": {
    "papermill": {
     "duration": 0.098056,
     "end_time": "2021-03-03T13:33:43.373327",
     "exception": false,
     "start_time": "2021-03-03T13:33:43.275271",
     "status": "completed"
    },
    "tags": []
   },
   "source": [
    "#### It can be seen that the turnover rate for those with a seemingly high school diploma is relatively low. Let’s check the numbers accurately."
   ]
  },
  {
   "cell_type": "code",
   "execution_count": 34,
   "metadata": {
    "execution": {
     "iopub.execute_input": "2021-03-03T13:33:43.578678Z",
     "iopub.status.busy": "2021-03-03T13:33:43.577898Z",
     "iopub.status.idle": "2021-03-03T13:33:43.700612Z",
     "shell.execute_reply": "2021-03-03T13:33:43.700031Z"
    },
    "papermill": {
     "duration": 0.23191,
     "end_time": "2021-03-03T13:33:43.700764",
     "exception": false,
     "start_time": "2021-03-03T13:33:43.468854",
     "status": "completed"
    },
    "tags": []
   },
   "outputs": [
    {
     "data": {
      "image/png": "[encoded data removed]",
      "text/plain": [
       "<Figure size 576x288 with 1 Axes>"
      ]
     },
     "metadata": {},
     "output_type": "display_data"
    }
   ],
   "source": [
    "fig = plt.figure(figsize=(8,4))\n",
    "sns.countplot(x='target', data=train_data[train_data['enrolled_university']=='no_enrollment']);"
   ]
  },
  {
   "cell_type": "code",
   "execution_count": 35,
   "metadata": {
    "execution": {
     "iopub.execute_input": "2021-03-03T13:33:43.907676Z",
     "iopub.status.busy": "2021-03-03T13:33:43.906936Z",
     "iopub.status.idle": "2021-03-03T13:33:43.934134Z",
     "shell.execute_reply": "2021-03-03T13:33:43.933454Z"
    },
    "papermill": {
     "duration": 0.134119,
     "end_time": "2021-03-03T13:33:43.934279",
     "exception": false,
     "start_time": "2021-03-03T13:33:43.800160",
     "status": "completed"
    },
    "tags": []
   },
   "outputs": [
    {
     "data": {
      "text/html": [
       "<div>\n",
       "<style scoped>\n",
       "    .dataframe tbody tr th:only-of-type {\n",
       "        vertical-align: middle;\n",
       "    }\n",
       "\n",
       "    .dataframe tbody tr th {\n",
       "        vertical-align: top;\n",
       "    }\n",
       "\n",
       "    .dataframe thead th {\n",
       "        text-align: right;\n",
       "    }\n",
       "</style>\n",
       "<table border=\"1\" class=\"dataframe\">\n",
       "  <thead>\n",
       "    <tr style=\"text-align: right;\">\n",
       "      <th></th>\n",
       "      <th>enrollee_id</th>\n",
       "      <th>city_development_index</th>\n",
       "      <th>training_hours</th>\n",
       "      <th>target</th>\n",
       "    </tr>\n",
       "  </thead>\n",
       "  <tbody>\n",
       "    <tr>\n",
       "      <th>count</th>\n",
       "      <td>13817.000000</td>\n",
       "      <td>13817.000000</td>\n",
       "      <td>13817.000000</td>\n",
       "      <td>13817.000000</td>\n",
       "    </tr>\n",
       "    <tr>\n",
       "      <th>mean</th>\n",
       "      <td>16644.602229</td>\n",
       "      <td>0.842107</td>\n",
       "      <td>65.362018</td>\n",
       "      <td>0.211406</td>\n",
       "    </tr>\n",
       "    <tr>\n",
       "      <th>std</th>\n",
       "      <td>9674.592803</td>\n",
       "      <td>0.117346</td>\n",
       "      <td>59.617408</td>\n",
       "      <td>0.408321</td>\n",
       "    </tr>\n",
       "    <tr>\n",
       "      <th>min</th>\n",
       "      <td>1.000000</td>\n",
       "      <td>0.448000</td>\n",
       "      <td>1.000000</td>\n",
       "      <td>0.000000</td>\n",
       "    </tr>\n",
       "    <tr>\n",
       "      <th>25%</th>\n",
       "      <td>8230.000000</td>\n",
       "      <td>0.776000</td>\n",
       "      <td>23.000000</td>\n",
       "      <td>0.000000</td>\n",
       "    </tr>\n",
       "    <tr>\n",
       "      <th>50%</th>\n",
       "      <td>16662.000000</td>\n",
       "      <td>0.910000</td>\n",
       "      <td>48.000000</td>\n",
       "      <td>0.000000</td>\n",
       "    </tr>\n",
       "    <tr>\n",
       "      <th>75%</th>\n",
       "      <td>25049.000000</td>\n",
       "      <td>0.920000</td>\n",
       "      <td>88.000000</td>\n",
       "      <td>0.000000</td>\n",
       "    </tr>\n",
       "    <tr>\n",
       "      <th>max</th>\n",
       "      <td>33380.000000</td>\n",
       "      <td>0.949000</td>\n",
       "      <td>336.000000</td>\n",
       "      <td>1.000000</td>\n",
       "    </tr>\n",
       "  </tbody>\n",
       "</table>\n",
       "</div>"
      ],
      "text/plain": [
       "        enrollee_id  city_development_index  training_hours        target\n",
       "count  13817.000000            13817.000000    13817.000000  13817.000000\n",
       "mean   16644.602229                0.842107       65.362018      0.211406\n",
       "std     9674.592803                0.117346       59.617408      0.408321\n",
       "min        1.000000                0.448000        1.000000      0.000000\n",
       "25%     8230.000000                0.776000       23.000000      0.000000\n",
       "50%    16662.000000                0.910000       48.000000      0.000000\n",
       "75%    25049.000000                0.920000       88.000000      0.000000\n",
       "max    33380.000000                0.949000      336.000000      1.000000"
      ]
     },
     "execution_count": 35,
     "metadata": {},
     "output_type": "execute_result"
    }
   ],
   "source": [
    "train_data[train_data['enrolled_university'] == 'no_enrollment'].describe()"
   ]
  },
  {
   "cell_type": "code",
   "execution_count": 36,
   "metadata": {
    "execution": {
     "iopub.execute_input": "2021-03-03T13:33:44.151383Z",
     "iopub.status.busy": "2021-03-03T13:33:44.150463Z",
     "iopub.status.idle": "2021-03-03T13:33:44.156486Z",
     "shell.execute_reply": "2021-03-03T13:33:44.155849Z"
    },
    "papermill": {
     "duration": 0.11966,
     "end_time": "2021-03-03T13:33:44.156639",
     "exception": false,
     "start_time": "2021-03-03T13:33:44.036979",
     "status": "completed"
    },
    "tags": []
   },
   "outputs": [
    {
     "data": {
      "text/plain": [
       "array(['no_enrollment', 'Full time course', nan, 'Part time course'],\n",
       "      dtype=object)"
      ]
     },
     "execution_count": 36,
     "metadata": {},
     "output_type": "execute_result"
    }
   ],
   "source": [
    "train_data['enrolled_university'].unique()"
   ]
  },
  {
   "cell_type": "code",
   "execution_count": 37,
   "metadata": {
    "execution": {
     "iopub.execute_input": "2021-03-03T13:33:44.366628Z",
     "iopub.status.busy": "2021-03-03T13:33:44.365925Z",
     "iopub.status.idle": "2021-03-03T13:33:44.390497Z",
     "shell.execute_reply": "2021-03-03T13:33:44.389749Z"
    },
    "papermill": {
     "duration": 0.134029,
     "end_time": "2021-03-03T13:33:44.390667",
     "exception": false,
     "start_time": "2021-03-03T13:33:44.256638",
     "status": "completed"
    },
    "tags": []
   },
   "outputs": [
    {
     "data": {
      "text/html": [
       "<div>\n",
       "<style scoped>\n",
       "    .dataframe tbody tr th:only-of-type {\n",
       "        vertical-align: middle;\n",
       "    }\n",
       "\n",
       "    .dataframe tbody tr th {\n",
       "        vertical-align: top;\n",
       "    }\n",
       "\n",
       "    .dataframe thead th {\n",
       "        text-align: right;\n",
       "    }\n",
       "</style>\n",
       "<table border=\"1\" class=\"dataframe\">\n",
       "  <thead>\n",
       "    <tr style=\"text-align: right;\">\n",
       "      <th></th>\n",
       "      <th>enrollee_id</th>\n",
       "      <th>city_development_index</th>\n",
       "      <th>training_hours</th>\n",
       "      <th>target</th>\n",
       "    </tr>\n",
       "  </thead>\n",
       "  <tbody>\n",
       "    <tr>\n",
       "      <th>count</th>\n",
       "      <td>3757.000000</td>\n",
       "      <td>3757.000000</td>\n",
       "      <td>3757.000000</td>\n",
       "      <td>3757.000000</td>\n",
       "    </tr>\n",
       "    <tr>\n",
       "      <th>mean</th>\n",
       "      <td>17387.229172</td>\n",
       "      <td>0.788633</td>\n",
       "      <td>64.532340</td>\n",
       "      <td>0.380889</td>\n",
       "    </tr>\n",
       "    <tr>\n",
       "      <th>std</th>\n",
       "      <td>9444.223894</td>\n",
       "      <td>0.134233</td>\n",
       "      <td>60.069682</td>\n",
       "      <td>0.485670</td>\n",
       "    </tr>\n",
       "    <tr>\n",
       "      <th>min</th>\n",
       "      <td>7.000000</td>\n",
       "      <td>0.448000</td>\n",
       "      <td>1.000000</td>\n",
       "      <td>0.000000</td>\n",
       "    </tr>\n",
       "    <tr>\n",
       "      <th>25%</th>\n",
       "      <td>9338.000000</td>\n",
       "      <td>0.624000</td>\n",
       "      <td>23.000000</td>\n",
       "      <td>0.000000</td>\n",
       "    </tr>\n",
       "    <tr>\n",
       "      <th>50%</th>\n",
       "      <td>17681.000000</td>\n",
       "      <td>0.843000</td>\n",
       "      <td>46.000000</td>\n",
       "      <td>0.000000</td>\n",
       "    </tr>\n",
       "    <tr>\n",
       "      <th>75%</th>\n",
       "      <td>25276.000000</td>\n",
       "      <td>0.920000</td>\n",
       "      <td>87.000000</td>\n",
       "      <td>1.000000</td>\n",
       "    </tr>\n",
       "    <tr>\n",
       "      <th>max</th>\n",
       "      <td>33370.000000</td>\n",
       "      <td>0.949000</td>\n",
       "      <td>336.000000</td>\n",
       "      <td>1.000000</td>\n",
       "    </tr>\n",
       "  </tbody>\n",
       "</table>\n",
       "</div>"
      ],
      "text/plain": [
       "        enrollee_id  city_development_index  training_hours       target\n",
       "count   3757.000000             3757.000000     3757.000000  3757.000000\n",
       "mean   17387.229172                0.788633       64.532340     0.380889\n",
       "std     9444.223894                0.134233       60.069682     0.485670\n",
       "min        7.000000                0.448000        1.000000     0.000000\n",
       "25%     9338.000000                0.624000       23.000000     0.000000\n",
       "50%    17681.000000                0.843000       46.000000     0.000000\n",
       "75%    25276.000000                0.920000       87.000000     1.000000\n",
       "max    33370.000000                0.949000      336.000000     1.000000"
      ]
     },
     "execution_count": 37,
     "metadata": {},
     "output_type": "execute_result"
    }
   ],
   "source": [
    "train_data[train_data['enrolled_university'] == 'Full time course'].describe()"
   ]
  },
  {
   "cell_type": "code",
   "execution_count": 38,
   "metadata": {
    "execution": {
     "iopub.execute_input": "2021-03-03T13:33:44.600594Z",
     "iopub.status.busy": "2021-03-03T13:33:44.597978Z",
     "iopub.status.idle": "2021-03-03T13:33:44.623308Z",
     "shell.execute_reply": "2021-03-03T13:33:44.622744Z"
    },
    "papermill": {
     "duration": 0.132862,
     "end_time": "2021-03-03T13:33:44.623490",
     "exception": false,
     "start_time": "2021-03-03T13:33:44.490628",
     "status": "completed"
    },
    "tags": []
   },
   "outputs": [
    {
     "data": {
      "text/html": [
       "<div>\n",
       "<style scoped>\n",
       "    .dataframe tbody tr th:only-of-type {\n",
       "        vertical-align: middle;\n",
       "    }\n",
       "\n",
       "    .dataframe tbody tr th {\n",
       "        vertical-align: top;\n",
       "    }\n",
       "\n",
       "    .dataframe thead th {\n",
       "        text-align: right;\n",
       "    }\n",
       "</style>\n",
       "<table border=\"1\" class=\"dataframe\">\n",
       "  <thead>\n",
       "    <tr style=\"text-align: right;\">\n",
       "      <th></th>\n",
       "      <th>enrollee_id</th>\n",
       "      <th>city_development_index</th>\n",
       "      <th>training_hours</th>\n",
       "      <th>target</th>\n",
       "    </tr>\n",
       "  </thead>\n",
       "  <tbody>\n",
       "    <tr>\n",
       "      <th>count</th>\n",
       "      <td>1198.000000</td>\n",
       "      <td>1198.000000</td>\n",
       "      <td>1198.000000</td>\n",
       "      <td>1198.000000</td>\n",
       "    </tr>\n",
       "    <tr>\n",
       "      <th>mean</th>\n",
       "      <td>17628.087646</td>\n",
       "      <td>0.819777</td>\n",
       "      <td>67.571786</td>\n",
       "      <td>0.252087</td>\n",
       "    </tr>\n",
       "    <tr>\n",
       "      <th>std</th>\n",
       "      <td>9644.413270</td>\n",
       "      <td>0.120055</td>\n",
       "      <td>65.065184</td>\n",
       "      <td>0.434392</td>\n",
       "    </tr>\n",
       "    <tr>\n",
       "      <th>min</th>\n",
       "      <td>11.000000</td>\n",
       "      <td>0.448000</td>\n",
       "      <td>1.000000</td>\n",
       "      <td>0.000000</td>\n",
       "    </tr>\n",
       "    <tr>\n",
       "      <th>25%</th>\n",
       "      <td>9261.250000</td>\n",
       "      <td>0.743500</td>\n",
       "      <td>22.250000</td>\n",
       "      <td>0.000000</td>\n",
       "    </tr>\n",
       "    <tr>\n",
       "      <th>50%</th>\n",
       "      <td>17403.000000</td>\n",
       "      <td>0.887000</td>\n",
       "      <td>47.000000</td>\n",
       "      <td>0.000000</td>\n",
       "    </tr>\n",
       "    <tr>\n",
       "      <th>75%</th>\n",
       "      <td>26395.250000</td>\n",
       "      <td>0.920000</td>\n",
       "      <td>90.000000</td>\n",
       "      <td>1.000000</td>\n",
       "    </tr>\n",
       "    <tr>\n",
       "      <th>max</th>\n",
       "      <td>33349.000000</td>\n",
       "      <td>0.949000</td>\n",
       "      <td>336.000000</td>\n",
       "      <td>1.000000</td>\n",
       "    </tr>\n",
       "  </tbody>\n",
       "</table>\n",
       "</div>"
      ],
      "text/plain": [
       "        enrollee_id  city_development_index  training_hours       target\n",
       "count   1198.000000             1198.000000     1198.000000  1198.000000\n",
       "mean   17628.087646                0.819777       67.571786     0.252087\n",
       "std     9644.413270                0.120055       65.065184     0.434392\n",
       "min       11.000000                0.448000        1.000000     0.000000\n",
       "25%     9261.250000                0.743500       22.250000     0.000000\n",
       "50%    17403.000000                0.887000       47.000000     0.000000\n",
       "75%    26395.250000                0.920000       90.000000     1.000000\n",
       "max    33349.000000                0.949000      336.000000     1.000000"
      ]
     },
     "execution_count": 38,
     "metadata": {},
     "output_type": "execute_result"
    }
   ],
   "source": [
    "train_data[train_data['enrolled_university'] == 'Part time course'].describe()"
   ]
  },
  {
   "cell_type": "code",
   "execution_count": 39,
   "metadata": {
    "execution": {
     "iopub.execute_input": "2021-03-03T13:33:44.836533Z",
     "iopub.status.busy": "2021-03-03T13:33:44.835645Z",
     "iopub.status.idle": "2021-03-03T13:33:44.854749Z",
     "shell.execute_reply": "2021-03-03T13:33:44.855321Z"
    },
    "papermill": {
     "duration": 0.12979,
     "end_time": "2021-03-03T13:33:44.855514",
     "exception": false,
     "start_time": "2021-03-03T13:33:44.725724",
     "status": "completed"
    },
    "tags": []
   },
   "outputs": [
    {
     "data": {
      "text/plain": [
       "0.21140623869146705"
      ]
     },
     "execution_count": 39,
     "metadata": {},
     "output_type": "execute_result"
    }
   ],
   "source": [
    "#High school graduates have the lowest turnover rate, followed by Full time> Part time> no_Enrollment\n",
    "train_data[train_data['enrolled_university'] == 'no_enrollment'].describe()['target']['mean']"
   ]
  },
  {
   "cell_type": "code",
   "execution_count": 40,
   "metadata": {
    "execution": {
     "iopub.execute_input": "2021-03-03T13:33:45.065521Z",
     "iopub.status.busy": "2021-03-03T13:33:45.064859Z",
     "iopub.status.idle": "2021-03-03T13:33:45.230699Z",
     "shell.execute_reply": "2021-03-03T13:33:45.231355Z"
    },
    "papermill": {
     "duration": 0.273672,
     "end_time": "2021-03-03T13:33:45.231574",
     "exception": false,
     "start_time": "2021-03-03T13:33:44.957902",
     "status": "completed"
    },
    "tags": []
   },
   "outputs": [
    {
     "data": {
      "image/png": "[encoded data removed]",
      "text/plain": [
       "<Figure size 576x288 with 1 Axes>"
      ]
     },
     "metadata": {},
     "output_type": "display_data"
    }
   ],
   "source": [
    "fig = plt.figure(figsize=(8,4))\n",
    "sns.countplot(x='enrolled_university', data=train_data);"
   ]
  },
  {
   "cell_type": "code",
   "execution_count": 41,
   "metadata": {
    "execution": {
     "iopub.execute_input": "2021-03-03T13:33:45.439290Z",
     "iopub.status.busy": "2021-03-03T13:33:45.438587Z",
     "iopub.status.idle": "2021-03-03T13:33:45.443355Z",
     "shell.execute_reply": "2021-03-03T13:33:45.444125Z"
    },
    "papermill": {
     "duration": 0.111921,
     "end_time": "2021-03-03T13:33:45.444314",
     "exception": false,
     "start_time": "2021-03-03T13:33:45.332393",
     "status": "completed"
    },
    "tags": []
   },
   "outputs": [
    {
     "data": {
      "text/plain": [
       "['city',\n",
       " 'gender',\n",
       " 'relevent_experience',\n",
       " 'enrolled_university',\n",
       " 'education_level',\n",
       " 'major_discipline',\n",
       " 'experience',\n",
       " 'company_size',\n",
       " 'company_type',\n",
       " 'last_new_job']"
      ]
     },
     "execution_count": 41,
     "metadata": {},
     "output_type": "execute_result"
    }
   ],
   "source": [
    "cat_col"
   ]
  },
  {
   "cell_type": "code",
   "execution_count": 42,
   "metadata": {
    "execution": {
     "iopub.execute_input": "2021-03-03T13:33:45.681971Z",
     "iopub.status.busy": "2021-03-03T13:33:45.681253Z",
     "iopub.status.idle": "2021-03-03T13:33:45.860824Z",
     "shell.execute_reply": "2021-03-03T13:33:45.860129Z"
    },
    "papermill": {
     "duration": 0.311813,
     "end_time": "2021-03-03T13:33:45.860973",
     "exception": false,
     "start_time": "2021-03-03T13:33:45.549160",
     "status": "completed"
    },
    "tags": []
   },
   "outputs": [
    {
     "data": {
      "image/png": "[encoded data removed]",
      "text/plain": [
       "<Figure size 576x288 with 1 Axes>"
      ]
     },
     "metadata": {},
     "output_type": "display_data"
    }
   ],
   "source": [
    "fig = plt.figure(figsize=(8,4))\n",
    "sns.countplot(x='gender', data=train_data, hue='target');"
   ]
  },
  {
   "cell_type": "markdown",
   "metadata": {
    "papermill": {
     "duration": 0.109689,
     "end_time": "2021-03-03T13:33:46.076495",
     "exception": false,
     "start_time": "2021-03-03T13:33:45.966806",
     "status": "completed"
    },
    "tags": []
   },
   "source": [
    "#### Inadequate contrast because the proportion of men is too large"
   ]
  },
  {
   "cell_type": "code",
   "execution_count": 43,
   "metadata": {
    "execution": {
     "iopub.execute_input": "2021-03-03T13:33:46.329970Z",
     "iopub.status.busy": "2021-03-03T13:33:46.328938Z",
     "iopub.status.idle": "2021-03-03T13:33:46.335238Z",
     "shell.execute_reply": "2021-03-03T13:33:46.334580Z"
    },
    "papermill": {
     "duration": 0.155703,
     "end_time": "2021-03-03T13:33:46.335404",
     "exception": false,
     "start_time": "2021-03-03T13:33:46.179701",
     "status": "completed"
    },
    "tags": []
   },
   "outputs": [
    {
     "data": {
      "text/plain": [
       "['city',\n",
       " 'gender',\n",
       " 'relevent_experience',\n",
       " 'enrolled_university',\n",
       " 'education_level',\n",
       " 'major_discipline',\n",
       " 'experience',\n",
       " 'company_size',\n",
       " 'company_type',\n",
       " 'last_new_job']"
      ]
     },
     "execution_count": 43,
     "metadata": {},
     "output_type": "execute_result"
    }
   ],
   "source": [
    "cat_col"
   ]
  },
  {
   "cell_type": "code",
   "execution_count": 44,
   "metadata": {
    "execution": {
     "iopub.execute_input": "2021-03-03T13:33:46.567161Z",
     "iopub.status.busy": "2021-03-03T13:33:46.566479Z",
     "iopub.status.idle": "2021-03-03T13:33:46.745536Z",
     "shell.execute_reply": "2021-03-03T13:33:46.744392Z"
    },
    "papermill": {
     "duration": 0.302373,
     "end_time": "2021-03-03T13:33:46.745698",
     "exception": false,
     "start_time": "2021-03-03T13:33:46.443325",
     "status": "completed"
    },
    "tags": []
   },
   "outputs": [
    {
     "data": {
      "image/png": "[encoded data removed]",
      "text/plain": [
       "<Figure size 576x288 with 1 Axes>"
      ]
     },
     "metadata": {},
     "output_type": "display_data"
    }
   ],
   "source": [
    "fig = plt.figure(figsize=(8,4))\n",
    "sns.countplot(x='relevent_experience', data=train_data, hue='target');"
   ]
  },
  {
   "cell_type": "markdown",
   "metadata": {
    "papermill": {
     "duration": 0.106373,
     "end_time": "2021-03-03T13:33:46.958914",
     "exception": false,
     "start_time": "2021-03-03T13:33:46.852541",
     "status": "completed"
    },
    "tags": []
   },
   "source": [
    "#### If the resume has relevant experience in this job, the turnover rate is low (the higher the expertise, the lower the turnover rate)."
   ]
  },
  {
   "cell_type": "code",
   "execution_count": 45,
   "metadata": {
    "execution": {
     "iopub.execute_input": "2021-03-03T13:33:47.182701Z",
     "iopub.status.busy": "2021-03-03T13:33:47.181786Z",
     "iopub.status.idle": "2021-03-03T13:33:47.186842Z",
     "shell.execute_reply": "2021-03-03T13:33:47.186193Z"
    },
    "papermill": {
     "duration": 0.118957,
     "end_time": "2021-03-03T13:33:47.186999",
     "exception": false,
     "start_time": "2021-03-03T13:33:47.068042",
     "status": "completed"
    },
    "tags": []
   },
   "outputs": [
    {
     "data": {
      "text/plain": [
       "array(['Graduate', 'Masters', 'High School', nan, 'Phd', 'Primary School'],\n",
       "      dtype=object)"
      ]
     },
     "execution_count": 45,
     "metadata": {},
     "output_type": "execute_result"
    }
   ],
   "source": [
    "train_data['education_level'].unique()"
   ]
  },
  {
   "cell_type": "code",
   "execution_count": 46,
   "metadata": {
    "execution": {
     "iopub.execute_input": "2021-03-03T13:33:47.438456Z",
     "iopub.status.busy": "2021-03-03T13:33:47.436458Z",
     "iopub.status.idle": "2021-03-03T13:33:47.658894Z",
     "shell.execute_reply": "2021-03-03T13:33:47.659403Z"
    },
    "papermill": {
     "duration": 0.357399,
     "end_time": "2021-03-03T13:33:47.659626",
     "exception": false,
     "start_time": "2021-03-03T13:33:47.302227",
     "status": "completed"
    },
    "tags": []
   },
   "outputs": [
    {
     "data": {
      "image/png": "[encoded data removed]",
      "text/plain": [
       "<Figure size 576x288 with 1 Axes>"
      ]
     },
     "metadata": {},
     "output_type": "display_data"
    }
   ],
   "source": [
    "fig = plt.figure(figsize=(8,4))\n",
    "sns.countplot(x='education_level', data=train_data, hue='target');"
   ]
  },
  {
   "cell_type": "code",
   "execution_count": 47,
   "metadata": {
    "execution": {
     "iopub.execute_input": "2021-03-03T13:33:47.877892Z",
     "iopub.status.busy": "2021-03-03T13:33:47.877164Z",
     "iopub.status.idle": "2021-03-03T13:33:47.909713Z",
     "shell.execute_reply": "2021-03-03T13:33:47.908986Z"
    },
    "papermill": {
     "duration": 0.141338,
     "end_time": "2021-03-03T13:33:47.909872",
     "exception": false,
     "start_time": "2021-03-03T13:33:47.768534",
     "status": "completed"
    },
    "tags": []
   },
   "outputs": [
    {
     "data": {
      "text/html": [
       "<div>\n",
       "<style scoped>\n",
       "    .dataframe tbody tr th:only-of-type {\n",
       "        vertical-align: middle;\n",
       "    }\n",
       "\n",
       "    .dataframe tbody tr th {\n",
       "        vertical-align: top;\n",
       "    }\n",
       "\n",
       "    .dataframe thead th {\n",
       "        text-align: right;\n",
       "    }\n",
       "</style>\n",
       "<table border=\"1\" class=\"dataframe\">\n",
       "  <thead>\n",
       "    <tr style=\"text-align: right;\">\n",
       "      <th></th>\n",
       "      <th>enrollee_id</th>\n",
       "      <th>city_development_index</th>\n",
       "      <th>training_hours</th>\n",
       "      <th>target</th>\n",
       "    </tr>\n",
       "  </thead>\n",
       "  <tbody>\n",
       "    <tr>\n",
       "      <th>count</th>\n",
       "      <td>11598.000000</td>\n",
       "      <td>11598.000000</td>\n",
       "      <td>11598.000000</td>\n",
       "      <td>11598.000000</td>\n",
       "    </tr>\n",
       "    <tr>\n",
       "      <th>mean</th>\n",
       "      <td>17042.915330</td>\n",
       "      <td>0.823731</td>\n",
       "      <td>65.773409</td>\n",
       "      <td>0.279790</td>\n",
       "    </tr>\n",
       "    <tr>\n",
       "      <th>std</th>\n",
       "      <td>9739.115384</td>\n",
       "      <td>0.127304</td>\n",
       "      <td>60.522653</td>\n",
       "      <td>0.448915</td>\n",
       "    </tr>\n",
       "    <tr>\n",
       "      <th>min</th>\n",
       "      <td>8.000000</td>\n",
       "      <td>0.448000</td>\n",
       "      <td>1.000000</td>\n",
       "      <td>0.000000</td>\n",
       "    </tr>\n",
       "    <tr>\n",
       "      <th>25%</th>\n",
       "      <td>8575.250000</td>\n",
       "      <td>0.698000</td>\n",
       "      <td>23.000000</td>\n",
       "      <td>0.000000</td>\n",
       "    </tr>\n",
       "    <tr>\n",
       "      <th>50%</th>\n",
       "      <td>17231.500000</td>\n",
       "      <td>0.910000</td>\n",
       "      <td>47.000000</td>\n",
       "      <td>0.000000</td>\n",
       "    </tr>\n",
       "    <tr>\n",
       "      <th>75%</th>\n",
       "      <td>25691.750000</td>\n",
       "      <td>0.920000</td>\n",
       "      <td>89.000000</td>\n",
       "      <td>1.000000</td>\n",
       "    </tr>\n",
       "    <tr>\n",
       "      <th>max</th>\n",
       "      <td>33380.000000</td>\n",
       "      <td>0.949000</td>\n",
       "      <td>336.000000</td>\n",
       "      <td>1.000000</td>\n",
       "    </tr>\n",
       "  </tbody>\n",
       "</table>\n",
       "</div>"
      ],
      "text/plain": [
       "        enrollee_id  city_development_index  training_hours        target\n",
       "count  11598.000000            11598.000000    11598.000000  11598.000000\n",
       "mean   17042.915330                0.823731       65.773409      0.279790\n",
       "std     9739.115384                0.127304       60.522653      0.448915\n",
       "min        8.000000                0.448000        1.000000      0.000000\n",
       "25%     8575.250000                0.698000       23.000000      0.000000\n",
       "50%    17231.500000                0.910000       47.000000      0.000000\n",
       "75%    25691.750000                0.920000       89.000000      1.000000\n",
       "max    33380.000000                0.949000      336.000000      1.000000"
      ]
     },
     "execution_count": 47,
     "metadata": {},
     "output_type": "execute_result"
    }
   ],
   "source": [
    "train_data[train_data['education_level'] == 'Graduate'].describe()"
   ]
  },
  {
   "cell_type": "code",
   "execution_count": 48,
   "metadata": {
    "execution": {
     "iopub.execute_input": "2021-03-03T13:33:48.162580Z",
     "iopub.status.busy": "2021-03-03T13:33:48.161872Z",
     "iopub.status.idle": "2021-03-03T13:33:48.169400Z",
     "shell.execute_reply": "2021-03-03T13:33:48.169941Z"
    },
    "papermill": {
     "duration": 0.145854,
     "end_time": "2021-03-03T13:33:48.170240",
     "exception": false,
     "start_time": "2021-03-03T13:33:48.024386",
     "status": "completed"
    },
    "tags": []
   },
   "outputs": [
    {
     "data": {
      "text/plain": [
       "array(['Graduate', 'Masters', 'High School', nan, 'Phd', 'Primary School'],\n",
       "      dtype=object)"
      ]
     },
     "execution_count": 48,
     "metadata": {},
     "output_type": "execute_result"
    }
   ],
   "source": [
    "train_data['education_level'].unique()"
   ]
  },
  {
   "cell_type": "code",
   "execution_count": 49,
   "metadata": {
    "execution": {
     "iopub.execute_input": "2021-03-03T13:33:48.397803Z",
     "iopub.status.busy": "2021-03-03T13:33:48.397081Z",
     "iopub.status.idle": "2021-03-03T13:33:48.404101Z",
     "shell.execute_reply": "2021-03-03T13:33:48.403499Z"
    },
    "papermill": {
     "duration": 0.116295,
     "end_time": "2021-03-03T13:33:48.404247",
     "exception": false,
     "start_time": "2021-03-03T13:33:48.287952",
     "status": "completed"
    },
    "tags": []
   },
   "outputs": [],
   "source": [
    "levels = list(train_data['education_level'].unique())"
   ]
  },
  {
   "cell_type": "code",
   "execution_count": 50,
   "metadata": {
    "execution": {
     "iopub.execute_input": "2021-03-03T13:33:48.628697Z",
     "iopub.status.busy": "2021-03-03T13:33:48.627923Z",
     "iopub.status.idle": "2021-03-03T13:33:48.655643Z",
     "shell.execute_reply": "2021-03-03T13:33:48.656799Z"
    },
    "papermill": {
     "duration": 0.145908,
     "end_time": "2021-03-03T13:33:48.657117",
     "exception": false,
     "start_time": "2021-03-03T13:33:48.511209",
     "status": "completed"
    },
    "tags": []
   },
   "outputs": [
    {
     "name": "stdout",
     "output_type": "stream",
     "text": [
      "Graduate  -->  0.2797896188998103\n",
      "Masters  -->  0.21440036688832836\n",
      "High School  -->  0.19533961328705998\n",
      "nan  -->  nan\n",
      "Phd  -->  0.14009661835748793\n",
      "Primary School  -->  0.1331168831168831\n"
     ]
    }
   ],
   "source": [
    "for level in levels:\n",
    "    print(level, \" --> \", train_data[train_data['education_level'] == level]['target'].mean())"
   ]
  },
  {
   "cell_type": "markdown",
   "metadata": {
    "papermill": {
     "duration": 0.111213,
     "end_time": "2021-03-03T13:33:48.876346",
     "exception": false,
     "start_time": "2021-03-03T13:33:48.765133",
     "status": "completed"
    },
    "tags": []
   },
   "source": [
    "[turnover rate]\n",
    "- Primary School : 13%\n",
    "- High School : 19%\n",
    "- Graduate : 27%\n",
    "- Masters : 21%\n",
    "- Phd : 14%\n",
    "\n",
    "General college graduates have a higher turnover rate than those with very low or very high levels of education.\n",
    "It seems that there is a high proportion of worries about choosing a job. However, it has to be used only as a reference indicator because the percentage of college graduates is too high."
   ]
  },
  {
   "cell_type": "code",
   "execution_count": 51,
   "metadata": {
    "execution": {
     "iopub.execute_input": "2021-03-03T13:33:49.102040Z",
     "iopub.status.busy": "2021-03-03T13:33:49.100889Z",
     "iopub.status.idle": "2021-03-03T13:33:49.106263Z",
     "shell.execute_reply": "2021-03-03T13:33:49.105213Z"
    },
    "papermill": {
     "duration": 0.118595,
     "end_time": "2021-03-03T13:33:49.106441",
     "exception": false,
     "start_time": "2021-03-03T13:33:48.987846",
     "status": "completed"
    },
    "tags": []
   },
   "outputs": [
    {
     "data": {
      "text/plain": [
       "['city',\n",
       " 'gender',\n",
       " 'relevent_experience',\n",
       " 'enrolled_university',\n",
       " 'education_level',\n",
       " 'major_discipline',\n",
       " 'experience',\n",
       " 'company_size',\n",
       " 'company_type',\n",
       " 'last_new_job']"
      ]
     },
     "execution_count": 51,
     "metadata": {},
     "output_type": "execute_result"
    }
   ],
   "source": [
    "cat_col"
   ]
  },
  {
   "cell_type": "code",
   "execution_count": 52,
   "metadata": {
    "execution": {
     "iopub.execute_input": "2021-03-03T13:33:49.357309Z",
     "iopub.status.busy": "2021-03-03T13:33:49.356238Z",
     "iopub.status.idle": "2021-03-03T13:33:49.565295Z",
     "shell.execute_reply": "2021-03-03T13:33:49.564524Z"
    },
    "papermill": {
     "duration": 0.346906,
     "end_time": "2021-03-03T13:33:49.565464",
     "exception": false,
     "start_time": "2021-03-03T13:33:49.218558",
     "status": "completed"
    },
    "tags": []
   },
   "outputs": [
    {
     "data": {
      "image/png": "[encoded data removed]",
      "text/plain": [
       "<Figure size 576x288 with 1 Axes>"
      ]
     },
     "metadata": {},
     "output_type": "display_data"
    }
   ],
   "source": [
    "fig = plt.figure(figsize=(8,4))\n",
    "sns.countplot(x='major_discipline', data=train_data, hue='target');"
   ]
  },
  {
   "cell_type": "code",
   "execution_count": 53,
   "metadata": {
    "execution": {
     "iopub.execute_input": "2021-03-03T13:33:49.794863Z",
     "iopub.status.busy": "2021-03-03T13:33:49.793842Z",
     "iopub.status.idle": "2021-03-03T13:33:49.797282Z",
     "shell.execute_reply": "2021-03-03T13:33:49.796717Z"
    },
    "papermill": {
     "duration": 0.122344,
     "end_time": "2021-03-03T13:33:49.797452",
     "exception": false,
     "start_time": "2021-03-03T13:33:49.675108",
     "status": "completed"
    },
    "tags": []
   },
   "outputs": [],
   "source": [
    "majors = list(train_data['major_discipline'].unique())"
   ]
  },
  {
   "cell_type": "code",
   "execution_count": 54,
   "metadata": {
    "execution": {
     "iopub.execute_input": "2021-03-03T13:33:50.028608Z",
     "iopub.status.busy": "2021-03-03T13:33:50.027558Z",
     "iopub.status.idle": "2021-03-03T13:33:50.059651Z",
     "shell.execute_reply": "2021-03-03T13:33:50.058684Z"
    },
    "papermill": {
     "duration": 0.153548,
     "end_time": "2021-03-03T13:33:50.059861",
     "exception": false,
     "start_time": "2021-03-03T13:33:49.906313",
     "status": "completed"
    },
    "tags": []
   },
   "outputs": [
    {
     "name": "stdout",
     "output_type": "stream",
     "text": [
      "STEM  -->  0.2615926028153464\n",
      "Business Degree  -->  0.26299694189602446\n",
      "nan  -->  nan\n",
      "Arts  -->  0.20948616600790515\n",
      "Humanities  -->  0.21076233183856502\n",
      "No Major  -->  0.24663677130044842\n",
      "Other  -->  0.2677165354330709\n"
     ]
    }
   ],
   "source": [
    "for major in majors:\n",
    "    print(major, \" --> \", train_data[train_data['major_discipline'] == major]['target'].mean())"
   ]
  },
  {
   "cell_type": "markdown",
   "metadata": {
    "papermill": {
     "duration": 0.111547,
     "end_time": "2021-03-03T13:33:50.282747",
     "exception": false,
     "start_time": "2021-03-03T13:33:50.171200",
     "status": "completed"
    },
    "tags": []
   },
   "source": [
    "#### There is no significant difference in the turnover rate depending on the major."
   ]
  },
  {
   "cell_type": "code",
   "execution_count": 55,
   "metadata": {
    "execution": {
     "iopub.execute_input": "2021-03-03T13:33:50.533570Z",
     "iopub.status.busy": "2021-03-03T13:33:50.531937Z",
     "iopub.status.idle": "2021-03-03T13:33:50.764738Z",
     "shell.execute_reply": "2021-03-03T13:33:50.765224Z"
    },
    "papermill": {
     "duration": 0.370475,
     "end_time": "2021-03-03T13:33:50.765416",
     "exception": false,
     "start_time": "2021-03-03T13:33:50.394941",
     "status": "completed"
    },
    "tags": []
   },
   "outputs": [
    {
     "data": {
      "image/png": "[encoded data removed]",
      "text/plain": [
       "<Figure size 576x288 with 1 Axes>"
      ]
     },
     "metadata": {},
     "output_type": "display_data"
    }
   ],
   "source": [
    "fig = plt.figure(figsize=(8,4))\n",
    "sns.countplot(x='company_size', data=train_data, hue='target');"
   ]
  },
  {
   "cell_type": "code",
   "execution_count": 56,
   "metadata": {
    "execution": {
     "iopub.execute_input": "2021-03-03T13:33:50.990188Z",
     "iopub.status.busy": "2021-03-03T13:33:50.989527Z",
     "iopub.status.idle": "2021-03-03T13:33:50.995876Z",
     "shell.execute_reply": "2021-03-03T13:33:50.996366Z"
    },
    "papermill": {
     "duration": 0.119917,
     "end_time": "2021-03-03T13:33:50.996606",
     "exception": false,
     "start_time": "2021-03-03T13:33:50.876689",
     "status": "completed"
    },
    "tags": []
   },
   "outputs": [],
   "source": [
    "sizes = list(train_data['company_size'].unique())"
   ]
  },
  {
   "cell_type": "code",
   "execution_count": 57,
   "metadata": {
    "execution": {
     "iopub.execute_input": "2021-03-03T13:33:51.223707Z",
     "iopub.status.busy": "2021-03-03T13:33:51.223054Z",
     "iopub.status.idle": "2021-03-03T13:33:51.265476Z",
     "shell.execute_reply": "2021-03-03T13:33:51.264781Z"
    },
    "papermill": {
     "duration": 0.157847,
     "end_time": "2021-03-03T13:33:51.265626",
     "exception": false,
     "start_time": "2021-03-03T13:33:51.107779",
     "status": "completed"
    },
    "tags": []
   },
   "outputs": [
    {
     "name": "stdout",
     "output_type": "stream",
     "text": [
      "nan  -->  nan\n",
      "50-99  -->  0.1767758676613688\n",
      "<10  -->  0.1712538226299694\n",
      "10000+  -->  0.1906884596334819\n",
      "5000-9999  -->  0.1811722912966252\n",
      "1000-4999  -->  0.15060240963855423\n",
      "10/49  -->  0.23385452073419444\n",
      "100-500  -->  0.161415791520809\n",
      "500-999  -->  0.1733181299885975\n"
     ]
    }
   ],
   "source": [
    "for size in sizes:\n",
    "    print(size, \" --> \", train_data[train_data['company_size'] == size]['target'].mean())"
   ]
  },
  {
   "cell_type": "markdown",
   "metadata": {
    "papermill": {
     "duration": 0.11755,
     "end_time": "2021-03-03T13:33:51.497609",
     "exception": false,
     "start_time": "2021-03-03T13:33:51.380059",
     "status": "completed"
    },
    "tags": []
   },
   "source": [
    "#### The size of the company also did not significantly affect the turnover rate."
   ]
  },
  {
   "cell_type": "code",
   "execution_count": 58,
   "metadata": {
    "execution": {
     "iopub.execute_input": "2021-03-03T13:33:51.757247Z",
     "iopub.status.busy": "2021-03-03T13:33:51.755915Z",
     "iopub.status.idle": "2021-03-03T13:33:51.980780Z",
     "shell.execute_reply": "2021-03-03T13:33:51.980076Z"
    },
    "papermill": {
     "duration": 0.370241,
     "end_time": "2021-03-03T13:33:51.980941",
     "exception": false,
     "start_time": "2021-03-03T13:33:51.610700",
     "status": "completed"
    },
    "tags": []
   },
   "outputs": [
    {
     "data": {
      "image/png": "[encoded data removed]",
      "text/plain": [
       "<Figure size 576x288 with 1 Axes>"
      ]
     },
     "metadata": {},
     "output_type": "display_data"
    }
   ],
   "source": [
    "fig = plt.figure(figsize=(8,4))\n",
    "sns.countplot(x='company_type', data=train_data, hue='target');"
   ]
  },
  {
   "cell_type": "code",
   "execution_count": 59,
   "metadata": {
    "execution": {
     "iopub.execute_input": "2021-03-03T13:33:52.222707Z",
     "iopub.status.busy": "2021-03-03T13:33:52.222021Z",
     "iopub.status.idle": "2021-03-03T13:33:52.225585Z",
     "shell.execute_reply": "2021-03-03T13:33:52.224972Z"
    },
    "papermill": {
     "duration": 0.126149,
     "end_time": "2021-03-03T13:33:52.225728",
     "exception": false,
     "start_time": "2021-03-03T13:33:52.099579",
     "status": "completed"
    },
    "tags": []
   },
   "outputs": [],
   "source": [
    "types = list(train_data['company_type'].unique())"
   ]
  },
  {
   "cell_type": "code",
   "execution_count": 60,
   "metadata": {
    "execution": {
     "iopub.execute_input": "2021-03-03T13:33:52.461823Z",
     "iopub.status.busy": "2021-03-03T13:33:52.460771Z",
     "iopub.status.idle": "2021-03-03T13:33:52.490067Z",
     "shell.execute_reply": "2021-03-03T13:33:52.489280Z"
    },
    "papermill": {
     "duration": 0.150708,
     "end_time": "2021-03-03T13:33:52.490220",
     "exception": false,
     "start_time": "2021-03-03T13:33:52.339512",
     "status": "completed"
    },
    "tags": []
   },
   "outputs": [
    {
     "name": "stdout",
     "output_type": "stream",
     "text": [
      "nan  -->  nan\n",
      "Pvt Ltd  -->  0.18080880105938676\n",
      "Funded Startup  -->  0.13986013986013987\n",
      "Early Stage Startup  -->  0.23548922056384744\n",
      "Other  -->  0.2396694214876033\n",
      "Public Sector  -->  0.2198952879581152\n",
      "NGO  -->  0.18618042226487524\n"
     ]
    }
   ],
   "source": [
    "for type_one in types:\n",
    "    print(type_one, \" --> \", train_data[train_data['company_type'] == type_one]['target'].mean())"
   ]
  },
  {
   "cell_type": "markdown",
   "metadata": {
    "papermill": {
     "duration": 0.116678,
     "end_time": "2021-03-03T13:33:52.719966",
     "exception": false,
     "start_time": "2021-03-03T13:33:52.603288",
     "status": "completed"
    },
    "tags": []
   },
   "source": [
    "Early start-ups have the highest turnover rate, and funded start-ups have the lowest turnover rate. And Also, It can be used As a reference indicator only."
   ]
  },
  {
   "cell_type": "code",
   "execution_count": 61,
   "metadata": {
    "execution": {
     "iopub.execute_input": "2021-03-03T13:33:52.973161Z",
     "iopub.status.busy": "2021-03-03T13:33:52.972092Z",
     "iopub.status.idle": "2021-03-03T13:33:53.184842Z",
     "shell.execute_reply": "2021-03-03T13:33:53.185298Z"
    },
    "papermill": {
     "duration": 0.353195,
     "end_time": "2021-03-03T13:33:53.185499",
     "exception": false,
     "start_time": "2021-03-03T13:33:52.832304",
     "status": "completed"
    },
    "tags": []
   },
   "outputs": [
    {
     "data": {
      "image/png": "[encoded data removed]",
      "text/plain": [
       "<Figure size 576x288 with 1 Axes>"
      ]
     },
     "metadata": {},
     "output_type": "display_data"
    }
   ],
   "source": [
    "fig = plt.figure(figsize=(8,4))\n",
    "sns.countplot(x='last_new_job', data=train_data, hue='target');"
   ]
  },
  {
   "cell_type": "code",
   "execution_count": 62,
   "metadata": {
    "execution": {
     "iopub.execute_input": "2021-03-03T13:33:53.420783Z",
     "iopub.status.busy": "2021-03-03T13:33:53.419581Z",
     "iopub.status.idle": "2021-03-03T13:33:53.465359Z",
     "shell.execute_reply": "2021-03-03T13:33:53.464736Z"
    },
    "papermill": {
     "duration": 0.16619,
     "end_time": "2021-03-03T13:33:53.465561",
     "exception": false,
     "start_time": "2021-03-03T13:33:53.299371",
     "status": "completed"
    },
    "tags": []
   },
   "outputs": [
    {
     "name": "stdout",
     "output_type": "stream",
     "text": [
      "1  -->  0.26430348258706465\n",
      ">4  -->  0.182370820668693\n",
      "never  -->  0.30138662316476345\n",
      "4  -->  0.22157434402332363\n",
      "3  -->  0.2255859375\n",
      "2  -->  0.2413793103448276\n",
      "nan  -->  nan\n"
     ]
    }
   ],
   "source": [
    "years = list(train_data['last_new_job'].unique())\n",
    "for year in years:\n",
    "    print(year, \" --> \", train_data[train_data['last_new_job'] == year]['target'].mean())"
   ]
  },
  {
   "cell_type": "markdown",
   "metadata": {
    "papermill": {
     "duration": 0.125588,
     "end_time": "2021-03-03T13:33:53.708474",
     "exception": false,
     "start_time": "2021-03-03T13:33:53.582886",
     "status": "completed"
    },
    "tags": []
   },
   "source": [
    "#### If the number of years of previous employment is very high (4 years or more), the turnover rate is low, and if there is no work experience (if it is the first job), the turnover rate is high."
   ]
  },
  {
   "cell_type": "code",
   "execution_count": 63,
   "metadata": {
    "execution": {
     "iopub.execute_input": "2021-03-03T13:33:53.975309Z",
     "iopub.status.busy": "2021-03-03T13:33:53.973703Z",
     "iopub.status.idle": "2021-03-03T13:33:53.980284Z",
     "shell.execute_reply": "2021-03-03T13:33:53.979573Z"
    },
    "papermill": {
     "duration": 0.152349,
     "end_time": "2021-03-03T13:33:53.980482",
     "exception": false,
     "start_time": "2021-03-03T13:33:53.828133",
     "status": "completed"
    },
    "tags": []
   },
   "outputs": [
    {
     "data": {
      "text/html": [
       "<div>\n",
       "<style scoped>\n",
       "    .dataframe tbody tr th:only-of-type {\n",
       "        vertical-align: middle;\n",
       "    }\n",
       "\n",
       "    .dataframe tbody tr th {\n",
       "        vertical-align: top;\n",
       "    }\n",
       "\n",
       "    .dataframe thead th {\n",
       "        text-align: right;\n",
       "    }\n",
       "</style>\n",
       "<table border=\"1\" class=\"dataframe\">\n",
       "  <thead>\n",
       "    <tr style=\"text-align: right;\">\n",
       "      <th></th>\n",
       "      <th>enrollee_id</th>\n",
       "      <th>city</th>\n",
       "      <th>city_development_index</th>\n",
       "      <th>gender</th>\n",
       "      <th>relevent_experience</th>\n",
       "      <th>enrolled_university</th>\n",
       "      <th>education_level</th>\n",
       "      <th>major_discipline</th>\n",
       "      <th>experience</th>\n",
       "      <th>company_size</th>\n",
       "      <th>company_type</th>\n",
       "      <th>last_new_job</th>\n",
       "      <th>training_hours</th>\n",
       "      <th>target</th>\n",
       "    </tr>\n",
       "  </thead>\n",
       "  <tbody>\n",
       "    <tr>\n",
       "      <th>0</th>\n",
       "      <td>8949</td>\n",
       "      <td>city_103</td>\n",
       "      <td>0.920</td>\n",
       "      <td>Male</td>\n",
       "      <td>Has relevent experience</td>\n",
       "      <td>no_enrollment</td>\n",
       "      <td>Graduate</td>\n",
       "      <td>STEM</td>\n",
       "      <td>&gt;20</td>\n",
       "      <td>NaN</td>\n",
       "      <td>NaN</td>\n",
       "      <td>1</td>\n",
       "      <td>36</td>\n",
       "      <td>1.0</td>\n",
       "    </tr>\n",
       "    <tr>\n",
       "      <th>1</th>\n",
       "      <td>29725</td>\n",
       "      <td>city_40</td>\n",
       "      <td>0.776</td>\n",
       "      <td>Male</td>\n",
       "      <td>No relevent experience</td>\n",
       "      <td>no_enrollment</td>\n",
       "      <td>Graduate</td>\n",
       "      <td>STEM</td>\n",
       "      <td>15</td>\n",
       "      <td>50-99</td>\n",
       "      <td>Pvt Ltd</td>\n",
       "      <td>&gt;4</td>\n",
       "      <td>47</td>\n",
       "      <td>0.0</td>\n",
       "    </tr>\n",
       "    <tr>\n",
       "      <th>2</th>\n",
       "      <td>11561</td>\n",
       "      <td>city_21</td>\n",
       "      <td>0.624</td>\n",
       "      <td>NaN</td>\n",
       "      <td>No relevent experience</td>\n",
       "      <td>Full time course</td>\n",
       "      <td>Graduate</td>\n",
       "      <td>STEM</td>\n",
       "      <td>5</td>\n",
       "      <td>NaN</td>\n",
       "      <td>NaN</td>\n",
       "      <td>never</td>\n",
       "      <td>83</td>\n",
       "      <td>0.0</td>\n",
       "    </tr>\n",
       "    <tr>\n",
       "      <th>3</th>\n",
       "      <td>33241</td>\n",
       "      <td>city_115</td>\n",
       "      <td>0.789</td>\n",
       "      <td>NaN</td>\n",
       "      <td>No relevent experience</td>\n",
       "      <td>NaN</td>\n",
       "      <td>Graduate</td>\n",
       "      <td>Business Degree</td>\n",
       "      <td>&lt;1</td>\n",
       "      <td>NaN</td>\n",
       "      <td>Pvt Ltd</td>\n",
       "      <td>never</td>\n",
       "      <td>52</td>\n",
       "      <td>1.0</td>\n",
       "    </tr>\n",
       "    <tr>\n",
       "      <th>4</th>\n",
       "      <td>666</td>\n",
       "      <td>city_162</td>\n",
       "      <td>0.767</td>\n",
       "      <td>Male</td>\n",
       "      <td>Has relevent experience</td>\n",
       "      <td>no_enrollment</td>\n",
       "      <td>Masters</td>\n",
       "      <td>STEM</td>\n",
       "      <td>&gt;20</td>\n",
       "      <td>50-99</td>\n",
       "      <td>Funded Startup</td>\n",
       "      <td>4</td>\n",
       "      <td>8</td>\n",
       "      <td>0.0</td>\n",
       "    </tr>\n",
       "  </tbody>\n",
       "</table>\n",
       "</div>"
      ],
      "text/plain": [
       "   enrollee_id      city  city_development_index gender  \\\n",
       "0         8949  city_103                   0.920   Male   \n",
       "1        29725   city_40                   0.776   Male   \n",
       "2        11561   city_21                   0.624    NaN   \n",
       "3        33241  city_115                   0.789    NaN   \n",
       "4          666  city_162                   0.767   Male   \n",
       "\n",
       "       relevent_experience enrolled_university education_level  \\\n",
       "0  Has relevent experience       no_enrollment        Graduate   \n",
       "1   No relevent experience       no_enrollment        Graduate   \n",
       "2   No relevent experience    Full time course        Graduate   \n",
       "3   No relevent experience                 NaN        Graduate   \n",
       "4  Has relevent experience       no_enrollment         Masters   \n",
       "\n",
       "  major_discipline experience company_size    company_type last_new_job  \\\n",
       "0             STEM        >20          NaN             NaN            1   \n",
       "1             STEM         15        50-99         Pvt Ltd           >4   \n",
       "2             STEM          5          NaN             NaN        never   \n",
       "3  Business Degree         <1          NaN         Pvt Ltd        never   \n",
       "4             STEM        >20        50-99  Funded Startup            4   \n",
       "\n",
       "   training_hours  target  \n",
       "0              36     1.0  \n",
       "1              47     0.0  \n",
       "2              83     0.0  \n",
       "3              52     1.0  \n",
       "4               8     0.0  "
      ]
     },
     "execution_count": 63,
     "metadata": {},
     "output_type": "execute_result"
    }
   ],
   "source": [
    "train_data.head()"
   ]
  },
  {
   "cell_type": "markdown",
   "metadata": {
    "papermill": {
     "duration": 0.125364,
     "end_time": "2021-03-03T13:33:54.235633",
     "exception": false,
     "start_time": "2021-03-03T13:33:54.110269",
     "status": "completed"
    },
    "tags": []
   },
   "source": [
    "### Step 4. Feature Engineering - drop Null"
   ]
  },
  {
   "cell_type": "code",
   "execution_count": 64,
   "metadata": {
    "execution": {
     "iopub.execute_input": "2021-03-03T13:33:54.470811Z",
     "iopub.status.busy": "2021-03-03T13:33:54.469771Z",
     "iopub.status.idle": "2021-03-03T13:33:54.498599Z",
     "shell.execute_reply": "2021-03-03T13:33:54.499138Z"
    },
    "papermill": {
     "duration": 0.149177,
     "end_time": "2021-03-03T13:33:54.499324",
     "exception": false,
     "start_time": "2021-03-03T13:33:54.350147",
     "status": "completed"
    },
    "tags": []
   },
   "outputs": [
    {
     "data": {
      "text/plain": [
       "enrollee_id                  0\n",
       "city                         0\n",
       "city_development_index       0\n",
       "gender                    4508\n",
       "relevent_experience          0\n",
       "enrolled_university        386\n",
       "education_level            460\n",
       "major_discipline          2813\n",
       "experience                  65\n",
       "company_size              5938\n",
       "company_type              6140\n",
       "last_new_job               423\n",
       "training_hours               0\n",
       "target                       0\n",
       "dtype: int64"
      ]
     },
     "execution_count": 64,
     "metadata": {},
     "output_type": "execute_result"
    }
   ],
   "source": [
    "train_data.isnull().sum()"
   ]
  },
  {
   "cell_type": "code",
   "execution_count": 65,
   "metadata": {
    "execution": {
     "iopub.execute_input": "2021-03-03T13:33:54.737827Z",
     "iopub.status.busy": "2021-03-03T13:33:54.736639Z",
     "iopub.status.idle": "2021-03-03T13:33:54.769902Z",
     "shell.execute_reply": "2021-03-03T13:33:54.769288Z"
    },
    "papermill": {
     "duration": 0.153643,
     "end_time": "2021-03-03T13:33:54.770059",
     "exception": false,
     "start_time": "2021-03-03T13:33:54.616416",
     "status": "completed"
    },
    "tags": []
   },
   "outputs": [
    {
     "data": {
      "text/html": [
       "<div>\n",
       "<style scoped>\n",
       "    .dataframe tbody tr th:only-of-type {\n",
       "        vertical-align: middle;\n",
       "    }\n",
       "\n",
       "    .dataframe tbody tr th {\n",
       "        vertical-align: top;\n",
       "    }\n",
       "\n",
       "    .dataframe thead th {\n",
       "        text-align: right;\n",
       "    }\n",
       "</style>\n",
       "<table border=\"1\" class=\"dataframe\">\n",
       "  <thead>\n",
       "    <tr style=\"text-align: right;\">\n",
       "      <th></th>\n",
       "      <th>enrollee_id</th>\n",
       "      <th>city</th>\n",
       "      <th>city_development_index</th>\n",
       "      <th>gender</th>\n",
       "      <th>relevent_experience</th>\n",
       "      <th>enrolled_university</th>\n",
       "      <th>education_level</th>\n",
       "      <th>major_discipline</th>\n",
       "      <th>experience</th>\n",
       "      <th>company_size</th>\n",
       "      <th>company_type</th>\n",
       "      <th>last_new_job</th>\n",
       "      <th>training_hours</th>\n",
       "      <th>target</th>\n",
       "    </tr>\n",
       "  </thead>\n",
       "  <tbody>\n",
       "    <tr>\n",
       "      <th>0</th>\n",
       "      <td>8949</td>\n",
       "      <td>city_103</td>\n",
       "      <td>0.920</td>\n",
       "      <td>Male</td>\n",
       "      <td>Has relevent experience</td>\n",
       "      <td>no_enrollment</td>\n",
       "      <td>Graduate</td>\n",
       "      <td>STEM</td>\n",
       "      <td>&gt;20</td>\n",
       "      <td>NaN</td>\n",
       "      <td>NaN</td>\n",
       "      <td>1</td>\n",
       "      <td>36</td>\n",
       "      <td>1.0</td>\n",
       "    </tr>\n",
       "    <tr>\n",
       "      <th>1</th>\n",
       "      <td>29725</td>\n",
       "      <td>city_40</td>\n",
       "      <td>0.776</td>\n",
       "      <td>Male</td>\n",
       "      <td>No relevent experience</td>\n",
       "      <td>no_enrollment</td>\n",
       "      <td>Graduate</td>\n",
       "      <td>STEM</td>\n",
       "      <td>15</td>\n",
       "      <td>50-99</td>\n",
       "      <td>Pvt Ltd</td>\n",
       "      <td>&gt;4</td>\n",
       "      <td>47</td>\n",
       "      <td>0.0</td>\n",
       "    </tr>\n",
       "    <tr>\n",
       "      <th>2</th>\n",
       "      <td>11561</td>\n",
       "      <td>city_21</td>\n",
       "      <td>0.624</td>\n",
       "      <td>NaN</td>\n",
       "      <td>No relevent experience</td>\n",
       "      <td>Full time course</td>\n",
       "      <td>Graduate</td>\n",
       "      <td>STEM</td>\n",
       "      <td>5</td>\n",
       "      <td>NaN</td>\n",
       "      <td>NaN</td>\n",
       "      <td>never</td>\n",
       "      <td>83</td>\n",
       "      <td>0.0</td>\n",
       "    </tr>\n",
       "    <tr>\n",
       "      <th>3</th>\n",
       "      <td>33241</td>\n",
       "      <td>city_115</td>\n",
       "      <td>0.789</td>\n",
       "      <td>NaN</td>\n",
       "      <td>No relevent experience</td>\n",
       "      <td>NaN</td>\n",
       "      <td>Graduate</td>\n",
       "      <td>Business Degree</td>\n",
       "      <td>&lt;1</td>\n",
       "      <td>NaN</td>\n",
       "      <td>Pvt Ltd</td>\n",
       "      <td>never</td>\n",
       "      <td>52</td>\n",
       "      <td>1.0</td>\n",
       "    </tr>\n",
       "    <tr>\n",
       "      <th>4</th>\n",
       "      <td>666</td>\n",
       "      <td>city_162</td>\n",
       "      <td>0.767</td>\n",
       "      <td>Male</td>\n",
       "      <td>Has relevent experience</td>\n",
       "      <td>no_enrollment</td>\n",
       "      <td>Masters</td>\n",
       "      <td>STEM</td>\n",
       "      <td>&gt;20</td>\n",
       "      <td>50-99</td>\n",
       "      <td>Funded Startup</td>\n",
       "      <td>4</td>\n",
       "      <td>8</td>\n",
       "      <td>0.0</td>\n",
       "    </tr>\n",
       "    <tr>\n",
       "      <th>...</th>\n",
       "      <td>...</td>\n",
       "      <td>...</td>\n",
       "      <td>...</td>\n",
       "      <td>...</td>\n",
       "      <td>...</td>\n",
       "      <td>...</td>\n",
       "      <td>...</td>\n",
       "      <td>...</td>\n",
       "      <td>...</td>\n",
       "      <td>...</td>\n",
       "      <td>...</td>\n",
       "      <td>...</td>\n",
       "      <td>...</td>\n",
       "      <td>...</td>\n",
       "    </tr>\n",
       "    <tr>\n",
       "      <th>19153</th>\n",
       "      <td>7386</td>\n",
       "      <td>city_173</td>\n",
       "      <td>0.878</td>\n",
       "      <td>Male</td>\n",
       "      <td>No relevent experience</td>\n",
       "      <td>no_enrollment</td>\n",
       "      <td>Graduate</td>\n",
       "      <td>Humanities</td>\n",
       "      <td>14</td>\n",
       "      <td>NaN</td>\n",
       "      <td>NaN</td>\n",
       "      <td>1</td>\n",
       "      <td>42</td>\n",
       "      <td>1.0</td>\n",
       "    </tr>\n",
       "    <tr>\n",
       "      <th>19154</th>\n",
       "      <td>31398</td>\n",
       "      <td>city_103</td>\n",
       "      <td>0.920</td>\n",
       "      <td>Male</td>\n",
       "      <td>Has relevent experience</td>\n",
       "      <td>no_enrollment</td>\n",
       "      <td>Graduate</td>\n",
       "      <td>STEM</td>\n",
       "      <td>14</td>\n",
       "      <td>NaN</td>\n",
       "      <td>NaN</td>\n",
       "      <td>4</td>\n",
       "      <td>52</td>\n",
       "      <td>1.0</td>\n",
       "    </tr>\n",
       "    <tr>\n",
       "      <th>19155</th>\n",
       "      <td>24576</td>\n",
       "      <td>city_103</td>\n",
       "      <td>0.920</td>\n",
       "      <td>Male</td>\n",
       "      <td>Has relevent experience</td>\n",
       "      <td>no_enrollment</td>\n",
       "      <td>Graduate</td>\n",
       "      <td>STEM</td>\n",
       "      <td>&gt;20</td>\n",
       "      <td>50-99</td>\n",
       "      <td>Pvt Ltd</td>\n",
       "      <td>4</td>\n",
       "      <td>44</td>\n",
       "      <td>0.0</td>\n",
       "    </tr>\n",
       "    <tr>\n",
       "      <th>19156</th>\n",
       "      <td>5756</td>\n",
       "      <td>city_65</td>\n",
       "      <td>0.802</td>\n",
       "      <td>Male</td>\n",
       "      <td>Has relevent experience</td>\n",
       "      <td>no_enrollment</td>\n",
       "      <td>High School</td>\n",
       "      <td>NaN</td>\n",
       "      <td>&lt;1</td>\n",
       "      <td>500-999</td>\n",
       "      <td>Pvt Ltd</td>\n",
       "      <td>2</td>\n",
       "      <td>97</td>\n",
       "      <td>0.0</td>\n",
       "    </tr>\n",
       "    <tr>\n",
       "      <th>19157</th>\n",
       "      <td>23834</td>\n",
       "      <td>city_67</td>\n",
       "      <td>0.855</td>\n",
       "      <td>NaN</td>\n",
       "      <td>No relevent experience</td>\n",
       "      <td>no_enrollment</td>\n",
       "      <td>Primary School</td>\n",
       "      <td>NaN</td>\n",
       "      <td>2</td>\n",
       "      <td>NaN</td>\n",
       "      <td>NaN</td>\n",
       "      <td>1</td>\n",
       "      <td>127</td>\n",
       "      <td>0.0</td>\n",
       "    </tr>\n",
       "  </tbody>\n",
       "</table>\n",
       "<p>19158 rows × 14 columns</p>\n",
       "</div>"
      ],
      "text/plain": [
       "       enrollee_id      city  city_development_index gender  \\\n",
       "0             8949  city_103                   0.920   Male   \n",
       "1            29725   city_40                   0.776   Male   \n",
       "2            11561   city_21                   0.624    NaN   \n",
       "3            33241  city_115                   0.789    NaN   \n",
       "4              666  city_162                   0.767   Male   \n",
       "...            ...       ...                     ...    ...   \n",
       "19153         7386  city_173                   0.878   Male   \n",
       "19154        31398  city_103                   0.920   Male   \n",
       "19155        24576  city_103                   0.920   Male   \n",
       "19156         5756   city_65                   0.802   Male   \n",
       "19157        23834   city_67                   0.855    NaN   \n",
       "\n",
       "           relevent_experience enrolled_university education_level  \\\n",
       "0      Has relevent experience       no_enrollment        Graduate   \n",
       "1       No relevent experience       no_enrollment        Graduate   \n",
       "2       No relevent experience    Full time course        Graduate   \n",
       "3       No relevent experience                 NaN        Graduate   \n",
       "4      Has relevent experience       no_enrollment         Masters   \n",
       "...                        ...                 ...             ...   \n",
       "19153   No relevent experience       no_enrollment        Graduate   \n",
       "19154  Has relevent experience       no_enrollment        Graduate   \n",
       "19155  Has relevent experience       no_enrollment        Graduate   \n",
       "19156  Has relevent experience       no_enrollment     High School   \n",
       "19157   No relevent experience       no_enrollment  Primary School   \n",
       "\n",
       "      major_discipline experience company_size    company_type last_new_job  \\\n",
       "0                 STEM        >20          NaN             NaN            1   \n",
       "1                 STEM         15        50-99         Pvt Ltd           >4   \n",
       "2                 STEM          5          NaN             NaN        never   \n",
       "3      Business Degree         <1          NaN         Pvt Ltd        never   \n",
       "4                 STEM        >20        50-99  Funded Startup            4   \n",
       "...                ...        ...          ...             ...          ...   \n",
       "19153       Humanities         14          NaN             NaN            1   \n",
       "19154             STEM         14          NaN             NaN            4   \n",
       "19155             STEM        >20        50-99         Pvt Ltd            4   \n",
       "19156              NaN         <1      500-999         Pvt Ltd            2   \n",
       "19157              NaN          2          NaN             NaN            1   \n",
       "\n",
       "       training_hours  target  \n",
       "0                  36     1.0  \n",
       "1                  47     0.0  \n",
       "2                  83     0.0  \n",
       "3                  52     1.0  \n",
       "4                   8     0.0  \n",
       "...               ...     ...  \n",
       "19153              42     1.0  \n",
       "19154              52     1.0  \n",
       "19155              44     0.0  \n",
       "19156              97     0.0  \n",
       "19157             127     0.0  \n",
       "\n",
       "[19158 rows x 14 columns]"
      ]
     },
     "execution_count": 65,
     "metadata": {},
     "output_type": "execute_result"
    }
   ],
   "source": [
    "train_data"
   ]
  },
  {
   "cell_type": "code",
   "execution_count": 66,
   "metadata": {
    "execution": {
     "iopub.execute_input": "2021-03-03T13:33:55.024023Z",
     "iopub.status.busy": "2021-03-03T13:33:55.023290Z",
     "iopub.status.idle": "2021-03-03T13:33:55.052655Z",
     "shell.execute_reply": "2021-03-03T13:33:55.051916Z"
    },
    "papermill": {
     "duration": 0.156789,
     "end_time": "2021-03-03T13:33:55.052823",
     "exception": false,
     "start_time": "2021-03-03T13:33:54.896034",
     "status": "completed"
    },
    "tags": []
   },
   "outputs": [],
   "source": [
    "train_data_dropna = train_data.dropna()\n"
   ]
  },
  {
   "cell_type": "code",
   "execution_count": 67,
   "metadata": {
    "execution": {
     "iopub.execute_input": "2021-03-03T13:33:55.294220Z",
     "iopub.status.busy": "2021-03-03T13:33:55.293514Z",
     "iopub.status.idle": "2021-03-03T13:33:55.302667Z",
     "shell.execute_reply": "2021-03-03T13:33:55.303336Z"
    },
    "papermill": {
     "duration": 0.130871,
     "end_time": "2021-03-03T13:33:55.303581",
     "exception": false,
     "start_time": "2021-03-03T13:33:55.172710",
     "status": "completed"
    },
    "tags": []
   },
   "outputs": [],
   "source": [
    "test_data_dropna = test_data.dropna()"
   ]
  },
  {
   "cell_type": "code",
   "execution_count": 68,
   "metadata": {
    "execution": {
     "iopub.execute_input": "2021-03-03T13:33:55.547686Z",
     "iopub.status.busy": "2021-03-03T13:33:55.546797Z",
     "iopub.status.idle": "2021-03-03T13:33:55.575368Z",
     "shell.execute_reply": "2021-03-03T13:33:55.575872Z"
    },
    "papermill": {
     "duration": 0.15262,
     "end_time": "2021-03-03T13:33:55.576062",
     "exception": false,
     "start_time": "2021-03-03T13:33:55.423442",
     "status": "completed"
    },
    "tags": []
   },
   "outputs": [
    {
     "data": {
      "text/html": [
       "<div>\n",
       "<style scoped>\n",
       "    .dataframe tbody tr th:only-of-type {\n",
       "        vertical-align: middle;\n",
       "    }\n",
       "\n",
       "    .dataframe tbody tr th {\n",
       "        vertical-align: top;\n",
       "    }\n",
       "\n",
       "    .dataframe thead th {\n",
       "        text-align: right;\n",
       "    }\n",
       "</style>\n",
       "<table border=\"1\" class=\"dataframe\">\n",
       "  <thead>\n",
       "    <tr style=\"text-align: right;\">\n",
       "      <th></th>\n",
       "      <th>enrollee_id</th>\n",
       "      <th>city</th>\n",
       "      <th>city_development_index</th>\n",
       "      <th>gender</th>\n",
       "      <th>relevent_experience</th>\n",
       "      <th>enrolled_university</th>\n",
       "      <th>education_level</th>\n",
       "      <th>major_discipline</th>\n",
       "      <th>experience</th>\n",
       "      <th>company_size</th>\n",
       "      <th>company_type</th>\n",
       "      <th>last_new_job</th>\n",
       "      <th>training_hours</th>\n",
       "      <th>target</th>\n",
       "    </tr>\n",
       "  </thead>\n",
       "  <tbody>\n",
       "    <tr>\n",
       "      <th>1</th>\n",
       "      <td>29725</td>\n",
       "      <td>city_40</td>\n",
       "      <td>0.776</td>\n",
       "      <td>Male</td>\n",
       "      <td>No relevent experience</td>\n",
       "      <td>no_enrollment</td>\n",
       "      <td>Graduate</td>\n",
       "      <td>STEM</td>\n",
       "      <td>15</td>\n",
       "      <td>50-99</td>\n",
       "      <td>Pvt Ltd</td>\n",
       "      <td>&gt;4</td>\n",
       "      <td>47</td>\n",
       "      <td>0.0</td>\n",
       "    </tr>\n",
       "    <tr>\n",
       "      <th>4</th>\n",
       "      <td>666</td>\n",
       "      <td>city_162</td>\n",
       "      <td>0.767</td>\n",
       "      <td>Male</td>\n",
       "      <td>Has relevent experience</td>\n",
       "      <td>no_enrollment</td>\n",
       "      <td>Masters</td>\n",
       "      <td>STEM</td>\n",
       "      <td>&gt;20</td>\n",
       "      <td>50-99</td>\n",
       "      <td>Funded Startup</td>\n",
       "      <td>4</td>\n",
       "      <td>8</td>\n",
       "      <td>0.0</td>\n",
       "    </tr>\n",
       "    <tr>\n",
       "      <th>7</th>\n",
       "      <td>402</td>\n",
       "      <td>city_46</td>\n",
       "      <td>0.762</td>\n",
       "      <td>Male</td>\n",
       "      <td>Has relevent experience</td>\n",
       "      <td>no_enrollment</td>\n",
       "      <td>Graduate</td>\n",
       "      <td>STEM</td>\n",
       "      <td>13</td>\n",
       "      <td>&lt;10</td>\n",
       "      <td>Pvt Ltd</td>\n",
       "      <td>&gt;4</td>\n",
       "      <td>18</td>\n",
       "      <td>1.0</td>\n",
       "    </tr>\n",
       "    <tr>\n",
       "      <th>8</th>\n",
       "      <td>27107</td>\n",
       "      <td>city_103</td>\n",
       "      <td>0.920</td>\n",
       "      <td>Male</td>\n",
       "      <td>Has relevent experience</td>\n",
       "      <td>no_enrollment</td>\n",
       "      <td>Graduate</td>\n",
       "      <td>STEM</td>\n",
       "      <td>7</td>\n",
       "      <td>50-99</td>\n",
       "      <td>Pvt Ltd</td>\n",
       "      <td>1</td>\n",
       "      <td>46</td>\n",
       "      <td>1.0</td>\n",
       "    </tr>\n",
       "    <tr>\n",
       "      <th>11</th>\n",
       "      <td>23853</td>\n",
       "      <td>city_103</td>\n",
       "      <td>0.920</td>\n",
       "      <td>Male</td>\n",
       "      <td>Has relevent experience</td>\n",
       "      <td>no_enrollment</td>\n",
       "      <td>Graduate</td>\n",
       "      <td>STEM</td>\n",
       "      <td>5</td>\n",
       "      <td>5000-9999</td>\n",
       "      <td>Pvt Ltd</td>\n",
       "      <td>1</td>\n",
       "      <td>108</td>\n",
       "      <td>0.0</td>\n",
       "    </tr>\n",
       "    <tr>\n",
       "      <th>...</th>\n",
       "      <td>...</td>\n",
       "      <td>...</td>\n",
       "      <td>...</td>\n",
       "      <td>...</td>\n",
       "      <td>...</td>\n",
       "      <td>...</td>\n",
       "      <td>...</td>\n",
       "      <td>...</td>\n",
       "      <td>...</td>\n",
       "      <td>...</td>\n",
       "      <td>...</td>\n",
       "      <td>...</td>\n",
       "      <td>...</td>\n",
       "      <td>...</td>\n",
       "    </tr>\n",
       "    <tr>\n",
       "      <th>19147</th>\n",
       "      <td>21319</td>\n",
       "      <td>city_21</td>\n",
       "      <td>0.624</td>\n",
       "      <td>Male</td>\n",
       "      <td>No relevent experience</td>\n",
       "      <td>Full time course</td>\n",
       "      <td>Graduate</td>\n",
       "      <td>STEM</td>\n",
       "      <td>1</td>\n",
       "      <td>100-500</td>\n",
       "      <td>Pvt Ltd</td>\n",
       "      <td>1</td>\n",
       "      <td>52</td>\n",
       "      <td>1.0</td>\n",
       "    </tr>\n",
       "    <tr>\n",
       "      <th>19149</th>\n",
       "      <td>251</td>\n",
       "      <td>city_103</td>\n",
       "      <td>0.920</td>\n",
       "      <td>Male</td>\n",
       "      <td>Has relevent experience</td>\n",
       "      <td>no_enrollment</td>\n",
       "      <td>Masters</td>\n",
       "      <td>STEM</td>\n",
       "      <td>9</td>\n",
       "      <td>50-99</td>\n",
       "      <td>Pvt Ltd</td>\n",
       "      <td>1</td>\n",
       "      <td>36</td>\n",
       "      <td>1.0</td>\n",
       "    </tr>\n",
       "    <tr>\n",
       "      <th>19150</th>\n",
       "      <td>32313</td>\n",
       "      <td>city_160</td>\n",
       "      <td>0.920</td>\n",
       "      <td>Female</td>\n",
       "      <td>Has relevent experience</td>\n",
       "      <td>no_enrollment</td>\n",
       "      <td>Graduate</td>\n",
       "      <td>STEM</td>\n",
       "      <td>10</td>\n",
       "      <td>100-500</td>\n",
       "      <td>Public Sector</td>\n",
       "      <td>3</td>\n",
       "      <td>23</td>\n",
       "      <td>0.0</td>\n",
       "    </tr>\n",
       "    <tr>\n",
       "      <th>19152</th>\n",
       "      <td>29754</td>\n",
       "      <td>city_103</td>\n",
       "      <td>0.920</td>\n",
       "      <td>Female</td>\n",
       "      <td>Has relevent experience</td>\n",
       "      <td>no_enrollment</td>\n",
       "      <td>Graduate</td>\n",
       "      <td>Humanities</td>\n",
       "      <td>7</td>\n",
       "      <td>10/49</td>\n",
       "      <td>Funded Startup</td>\n",
       "      <td>1</td>\n",
       "      <td>25</td>\n",
       "      <td>0.0</td>\n",
       "    </tr>\n",
       "    <tr>\n",
       "      <th>19155</th>\n",
       "      <td>24576</td>\n",
       "      <td>city_103</td>\n",
       "      <td>0.920</td>\n",
       "      <td>Male</td>\n",
       "      <td>Has relevent experience</td>\n",
       "      <td>no_enrollment</td>\n",
       "      <td>Graduate</td>\n",
       "      <td>STEM</td>\n",
       "      <td>&gt;20</td>\n",
       "      <td>50-99</td>\n",
       "      <td>Pvt Ltd</td>\n",
       "      <td>4</td>\n",
       "      <td>44</td>\n",
       "      <td>0.0</td>\n",
       "    </tr>\n",
       "  </tbody>\n",
       "</table>\n",
       "<p>8955 rows × 14 columns</p>\n",
       "</div>"
      ],
      "text/plain": [
       "       enrollee_id      city  city_development_index  gender  \\\n",
       "1            29725   city_40                   0.776    Male   \n",
       "4              666  city_162                   0.767    Male   \n",
       "7              402   city_46                   0.762    Male   \n",
       "8            27107  city_103                   0.920    Male   \n",
       "11           23853  city_103                   0.920    Male   \n",
       "...            ...       ...                     ...     ...   \n",
       "19147        21319   city_21                   0.624    Male   \n",
       "19149          251  city_103                   0.920    Male   \n",
       "19150        32313  city_160                   0.920  Female   \n",
       "19152        29754  city_103                   0.920  Female   \n",
       "19155        24576  city_103                   0.920    Male   \n",
       "\n",
       "           relevent_experience enrolled_university education_level  \\\n",
       "1       No relevent experience       no_enrollment        Graduate   \n",
       "4      Has relevent experience       no_enrollment         Masters   \n",
       "7      Has relevent experience       no_enrollment        Graduate   \n",
       "8      Has relevent experience       no_enrollment        Graduate   \n",
       "11     Has relevent experience       no_enrollment        Graduate   \n",
       "...                        ...                 ...             ...   \n",
       "19147   No relevent experience    Full time course        Graduate   \n",
       "19149  Has relevent experience       no_enrollment         Masters   \n",
       "19150  Has relevent experience       no_enrollment        Graduate   \n",
       "19152  Has relevent experience       no_enrollment        Graduate   \n",
       "19155  Has relevent experience       no_enrollment        Graduate   \n",
       "\n",
       "      major_discipline experience company_size    company_type last_new_job  \\\n",
       "1                 STEM         15        50-99         Pvt Ltd           >4   \n",
       "4                 STEM        >20        50-99  Funded Startup            4   \n",
       "7                 STEM         13          <10         Pvt Ltd           >4   \n",
       "8                 STEM          7        50-99         Pvt Ltd            1   \n",
       "11                STEM          5    5000-9999         Pvt Ltd            1   \n",
       "...                ...        ...          ...             ...          ...   \n",
       "19147             STEM          1      100-500         Pvt Ltd            1   \n",
       "19149             STEM          9        50-99         Pvt Ltd            1   \n",
       "19150             STEM         10      100-500   Public Sector            3   \n",
       "19152       Humanities          7        10/49  Funded Startup            1   \n",
       "19155             STEM        >20        50-99         Pvt Ltd            4   \n",
       "\n",
       "       training_hours  target  \n",
       "1                  47     0.0  \n",
       "4                   8     0.0  \n",
       "7                  18     1.0  \n",
       "8                  46     1.0  \n",
       "11                108     0.0  \n",
       "...               ...     ...  \n",
       "19147              52     1.0  \n",
       "19149              36     1.0  \n",
       "19150              23     0.0  \n",
       "19152              25     0.0  \n",
       "19155              44     0.0  \n",
       "\n",
       "[8955 rows x 14 columns]"
      ]
     },
     "execution_count": 68,
     "metadata": {},
     "output_type": "execute_result"
    }
   ],
   "source": [
    "train_data_dropna"
   ]
  },
  {
   "cell_type": "code",
   "execution_count": 69,
   "metadata": {
    "execution": {
     "iopub.execute_input": "2021-03-03T13:33:55.817647Z",
     "iopub.status.busy": "2021-03-03T13:33:55.816958Z",
     "iopub.status.idle": "2021-03-03T13:33:55.886858Z",
     "shell.execute_reply": "2021-03-03T13:33:55.887526Z"
    },
    "papermill": {
     "duration": 0.190752,
     "end_time": "2021-03-03T13:33:55.887740",
     "exception": false,
     "start_time": "2021-03-03T13:33:55.696988",
     "status": "completed"
    },
    "tags": []
   },
   "outputs": [],
   "source": [
    "for col in cat_col:\n",
    "    train_data_dropna = pd.concat([train_data_dropna, pd.get_dummies(train_data_dropna[col])], axis=1)\n",
    "    del(train_data_dropna[col])"
   ]
  },
  {
   "cell_type": "code",
   "execution_count": 70,
   "metadata": {
    "execution": {
     "iopub.execute_input": "2021-03-03T13:33:56.135719Z",
     "iopub.status.busy": "2021-03-03T13:33:56.134978Z",
     "iopub.status.idle": "2021-03-03T13:33:56.167295Z",
     "shell.execute_reply": "2021-03-03T13:33:56.167840Z"
    },
    "papermill": {
     "duration": 0.156669,
     "end_time": "2021-03-03T13:33:56.168030",
     "exception": false,
     "start_time": "2021-03-03T13:33:56.011361",
     "status": "completed"
    },
    "tags": []
   },
   "outputs": [
    {
     "data": {
      "text/html": [
       "<div>\n",
       "<style scoped>\n",
       "    .dataframe tbody tr th:only-of-type {\n",
       "        vertical-align: middle;\n",
       "    }\n",
       "\n",
       "    .dataframe tbody tr th {\n",
       "        vertical-align: top;\n",
       "    }\n",
       "\n",
       "    .dataframe thead th {\n",
       "        text-align: right;\n",
       "    }\n",
       "</style>\n",
       "<table border=\"1\" class=\"dataframe\">\n",
       "  <thead>\n",
       "    <tr style=\"text-align: right;\">\n",
       "      <th></th>\n",
       "      <th>enrollee_id</th>\n",
       "      <th>city_development_index</th>\n",
       "      <th>training_hours</th>\n",
       "      <th>target</th>\n",
       "      <th>city_1</th>\n",
       "      <th>city_10</th>\n",
       "      <th>city_100</th>\n",
       "      <th>city_101</th>\n",
       "      <th>city_102</th>\n",
       "      <th>city_103</th>\n",
       "      <th>...</th>\n",
       "      <th>NGO</th>\n",
       "      <th>Other</th>\n",
       "      <th>Public Sector</th>\n",
       "      <th>Pvt Ltd</th>\n",
       "      <th>1</th>\n",
       "      <th>2</th>\n",
       "      <th>3</th>\n",
       "      <th>4</th>\n",
       "      <th>&gt;4</th>\n",
       "      <th>never</th>\n",
       "    </tr>\n",
       "  </thead>\n",
       "  <tbody>\n",
       "    <tr>\n",
       "      <th>1</th>\n",
       "      <td>29725</td>\n",
       "      <td>0.776</td>\n",
       "      <td>47</td>\n",
       "      <td>0.0</td>\n",
       "      <td>0</td>\n",
       "      <td>0</td>\n",
       "      <td>0</td>\n",
       "      <td>0</td>\n",
       "      <td>0</td>\n",
       "      <td>0</td>\n",
       "      <td>...</td>\n",
       "      <td>0</td>\n",
       "      <td>0</td>\n",
       "      <td>0</td>\n",
       "      <td>1</td>\n",
       "      <td>0</td>\n",
       "      <td>0</td>\n",
       "      <td>0</td>\n",
       "      <td>0</td>\n",
       "      <td>1</td>\n",
       "      <td>0</td>\n",
       "    </tr>\n",
       "    <tr>\n",
       "      <th>4</th>\n",
       "      <td>666</td>\n",
       "      <td>0.767</td>\n",
       "      <td>8</td>\n",
       "      <td>0.0</td>\n",
       "      <td>0</td>\n",
       "      <td>0</td>\n",
       "      <td>0</td>\n",
       "      <td>0</td>\n",
       "      <td>0</td>\n",
       "      <td>0</td>\n",
       "      <td>...</td>\n",
       "      <td>0</td>\n",
       "      <td>0</td>\n",
       "      <td>0</td>\n",
       "      <td>0</td>\n",
       "      <td>0</td>\n",
       "      <td>0</td>\n",
       "      <td>0</td>\n",
       "      <td>1</td>\n",
       "      <td>0</td>\n",
       "      <td>0</td>\n",
       "    </tr>\n",
       "    <tr>\n",
       "      <th>7</th>\n",
       "      <td>402</td>\n",
       "      <td>0.762</td>\n",
       "      <td>18</td>\n",
       "      <td>1.0</td>\n",
       "      <td>0</td>\n",
       "      <td>0</td>\n",
       "      <td>0</td>\n",
       "      <td>0</td>\n",
       "      <td>0</td>\n",
       "      <td>0</td>\n",
       "      <td>...</td>\n",
       "      <td>0</td>\n",
       "      <td>0</td>\n",
       "      <td>0</td>\n",
       "      <td>1</td>\n",
       "      <td>0</td>\n",
       "      <td>0</td>\n",
       "      <td>0</td>\n",
       "      <td>0</td>\n",
       "      <td>1</td>\n",
       "      <td>0</td>\n",
       "    </tr>\n",
       "    <tr>\n",
       "      <th>8</th>\n",
       "      <td>27107</td>\n",
       "      <td>0.920</td>\n",
       "      <td>46</td>\n",
       "      <td>1.0</td>\n",
       "      <td>0</td>\n",
       "      <td>0</td>\n",
       "      <td>0</td>\n",
       "      <td>0</td>\n",
       "      <td>0</td>\n",
       "      <td>1</td>\n",
       "      <td>...</td>\n",
       "      <td>0</td>\n",
       "      <td>0</td>\n",
       "      <td>0</td>\n",
       "      <td>1</td>\n",
       "      <td>1</td>\n",
       "      <td>0</td>\n",
       "      <td>0</td>\n",
       "      <td>0</td>\n",
       "      <td>0</td>\n",
       "      <td>0</td>\n",
       "    </tr>\n",
       "    <tr>\n",
       "      <th>11</th>\n",
       "      <td>23853</td>\n",
       "      <td>0.920</td>\n",
       "      <td>108</td>\n",
       "      <td>0.0</td>\n",
       "      <td>0</td>\n",
       "      <td>0</td>\n",
       "      <td>0</td>\n",
       "      <td>0</td>\n",
       "      <td>0</td>\n",
       "      <td>1</td>\n",
       "      <td>...</td>\n",
       "      <td>0</td>\n",
       "      <td>0</td>\n",
       "      <td>0</td>\n",
       "      <td>1</td>\n",
       "      <td>1</td>\n",
       "      <td>0</td>\n",
       "      <td>0</td>\n",
       "      <td>0</td>\n",
       "      <td>0</td>\n",
       "      <td>0</td>\n",
       "    </tr>\n",
       "    <tr>\n",
       "      <th>...</th>\n",
       "      <td>...</td>\n",
       "      <td>...</td>\n",
       "      <td>...</td>\n",
       "      <td>...</td>\n",
       "      <td>...</td>\n",
       "      <td>...</td>\n",
       "      <td>...</td>\n",
       "      <td>...</td>\n",
       "      <td>...</td>\n",
       "      <td>...</td>\n",
       "      <td>...</td>\n",
       "      <td>...</td>\n",
       "      <td>...</td>\n",
       "      <td>...</td>\n",
       "      <td>...</td>\n",
       "      <td>...</td>\n",
       "      <td>...</td>\n",
       "      <td>...</td>\n",
       "      <td>...</td>\n",
       "      <td>...</td>\n",
       "      <td>...</td>\n",
       "    </tr>\n",
       "    <tr>\n",
       "      <th>19147</th>\n",
       "      <td>21319</td>\n",
       "      <td>0.624</td>\n",
       "      <td>52</td>\n",
       "      <td>1.0</td>\n",
       "      <td>0</td>\n",
       "      <td>0</td>\n",
       "      <td>0</td>\n",
       "      <td>0</td>\n",
       "      <td>0</td>\n",
       "      <td>0</td>\n",
       "      <td>...</td>\n",
       "      <td>0</td>\n",
       "      <td>0</td>\n",
       "      <td>0</td>\n",
       "      <td>1</td>\n",
       "      <td>1</td>\n",
       "      <td>0</td>\n",
       "      <td>0</td>\n",
       "      <td>0</td>\n",
       "      <td>0</td>\n",
       "      <td>0</td>\n",
       "    </tr>\n",
       "    <tr>\n",
       "      <th>19149</th>\n",
       "      <td>251</td>\n",
       "      <td>0.920</td>\n",
       "      <td>36</td>\n",
       "      <td>1.0</td>\n",
       "      <td>0</td>\n",
       "      <td>0</td>\n",
       "      <td>0</td>\n",
       "      <td>0</td>\n",
       "      <td>0</td>\n",
       "      <td>1</td>\n",
       "      <td>...</td>\n",
       "      <td>0</td>\n",
       "      <td>0</td>\n",
       "      <td>0</td>\n",
       "      <td>1</td>\n",
       "      <td>1</td>\n",
       "      <td>0</td>\n",
       "      <td>0</td>\n",
       "      <td>0</td>\n",
       "      <td>0</td>\n",
       "      <td>0</td>\n",
       "    </tr>\n",
       "    <tr>\n",
       "      <th>19150</th>\n",
       "      <td>32313</td>\n",
       "      <td>0.920</td>\n",
       "      <td>23</td>\n",
       "      <td>0.0</td>\n",
       "      <td>0</td>\n",
       "      <td>0</td>\n",
       "      <td>0</td>\n",
       "      <td>0</td>\n",
       "      <td>0</td>\n",
       "      <td>0</td>\n",
       "      <td>...</td>\n",
       "      <td>0</td>\n",
       "      <td>0</td>\n",
       "      <td>1</td>\n",
       "      <td>0</td>\n",
       "      <td>0</td>\n",
       "      <td>0</td>\n",
       "      <td>1</td>\n",
       "      <td>0</td>\n",
       "      <td>0</td>\n",
       "      <td>0</td>\n",
       "    </tr>\n",
       "    <tr>\n",
       "      <th>19152</th>\n",
       "      <td>29754</td>\n",
       "      <td>0.920</td>\n",
       "      <td>25</td>\n",
       "      <td>0.0</td>\n",
       "      <td>0</td>\n",
       "      <td>0</td>\n",
       "      <td>0</td>\n",
       "      <td>0</td>\n",
       "      <td>0</td>\n",
       "      <td>1</td>\n",
       "      <td>...</td>\n",
       "      <td>0</td>\n",
       "      <td>0</td>\n",
       "      <td>0</td>\n",
       "      <td>0</td>\n",
       "      <td>1</td>\n",
       "      <td>0</td>\n",
       "      <td>0</td>\n",
       "      <td>0</td>\n",
       "      <td>0</td>\n",
       "      <td>0</td>\n",
       "    </tr>\n",
       "    <tr>\n",
       "      <th>19155</th>\n",
       "      <td>24576</td>\n",
       "      <td>0.920</td>\n",
       "      <td>44</td>\n",
       "      <td>0.0</td>\n",
       "      <td>0</td>\n",
       "      <td>0</td>\n",
       "      <td>0</td>\n",
       "      <td>0</td>\n",
       "      <td>0</td>\n",
       "      <td>1</td>\n",
       "      <td>...</td>\n",
       "      <td>0</td>\n",
       "      <td>0</td>\n",
       "      <td>0</td>\n",
       "      <td>1</td>\n",
       "      <td>0</td>\n",
       "      <td>0</td>\n",
       "      <td>0</td>\n",
       "      <td>1</td>\n",
       "      <td>0</td>\n",
       "      <td>0</td>\n",
       "    </tr>\n",
       "  </tbody>\n",
       "</table>\n",
       "<p>8955 rows × 179 columns</p>\n",
       "</div>"
      ],
      "text/plain": [
       "       enrollee_id  city_development_index  training_hours  target  city_1  \\\n",
       "1            29725                   0.776              47     0.0       0   \n",
       "4              666                   0.767               8     0.0       0   \n",
       "7              402                   0.762              18     1.0       0   \n",
       "8            27107                   0.920              46     1.0       0   \n",
       "11           23853                   0.920             108     0.0       0   \n",
       "...            ...                     ...             ...     ...     ...   \n",
       "19147        21319                   0.624              52     1.0       0   \n",
       "19149          251                   0.920              36     1.0       0   \n",
       "19150        32313                   0.920              23     0.0       0   \n",
       "19152        29754                   0.920              25     0.0       0   \n",
       "19155        24576                   0.920              44     0.0       0   \n",
       "\n",
       "       city_10  city_100  city_101  city_102  city_103  ...  NGO  Other  \\\n",
       "1            0         0         0         0         0  ...    0      0   \n",
       "4            0         0         0         0         0  ...    0      0   \n",
       "7            0         0         0         0         0  ...    0      0   \n",
       "8            0         0         0         0         1  ...    0      0   \n",
       "11           0         0         0         0         1  ...    0      0   \n",
       "...        ...       ...       ...       ...       ...  ...  ...    ...   \n",
       "19147        0         0         0         0         0  ...    0      0   \n",
       "19149        0         0         0         0         1  ...    0      0   \n",
       "19150        0         0         0         0         0  ...    0      0   \n",
       "19152        0         0         0         0         1  ...    0      0   \n",
       "19155        0         0         0         0         1  ...    0      0   \n",
       "\n",
       "       Public Sector  Pvt Ltd  1  2  3  4  >4  never  \n",
       "1                  0        1  0  0  0  0   1      0  \n",
       "4                  0        0  0  0  0  1   0      0  \n",
       "7                  0        1  0  0  0  0   1      0  \n",
       "8                  0        1  1  0  0  0   0      0  \n",
       "11                 0        1  1  0  0  0   0      0  \n",
       "...              ...      ... .. .. .. ..  ..    ...  \n",
       "19147              0        1  1  0  0  0   0      0  \n",
       "19149              0        1  1  0  0  0   0      0  \n",
       "19150              1        0  0  0  1  0   0      0  \n",
       "19152              0        0  1  0  0  0   0      0  \n",
       "19155              0        1  0  0  0  1   0      0  \n",
       "\n",
       "[8955 rows x 179 columns]"
      ]
     },
     "execution_count": 70,
     "metadata": {},
     "output_type": "execute_result"
    }
   ],
   "source": [
    "train_data_dropna"
   ]
  },
  {
   "cell_type": "code",
   "execution_count": 71,
   "metadata": {
    "execution": {
     "iopub.execute_input": "2021-03-03T13:33:56.421059Z",
     "iopub.status.busy": "2021-03-03T13:33:56.420041Z",
     "iopub.status.idle": "2021-03-03T13:33:56.452677Z",
     "shell.execute_reply": "2021-03-03T13:33:56.452101Z"
    },
    "papermill": {
     "duration": 0.162587,
     "end_time": "2021-03-03T13:33:56.452843",
     "exception": false,
     "start_time": "2021-03-03T13:33:56.290256",
     "status": "completed"
    },
    "tags": []
   },
   "outputs": [],
   "source": [
    "for col in cat_col:\n",
    "    test_data_dropna = pd.concat([test_data_dropna, pd.get_dummies(test_data_dropna[col])], axis=1)\n",
    "    del(test_data_dropna[col])"
   ]
  },
  {
   "cell_type": "code",
   "execution_count": 72,
   "metadata": {
    "execution": {
     "iopub.execute_input": "2021-03-03T13:33:56.729878Z",
     "iopub.status.busy": "2021-03-03T13:33:56.725881Z",
     "iopub.status.idle": "2021-03-03T13:33:56.736131Z",
     "shell.execute_reply": "2021-03-03T13:33:56.735482Z"
    },
    "papermill": {
     "duration": 0.162071,
     "end_time": "2021-03-03T13:33:56.736278",
     "exception": false,
     "start_time": "2021-03-03T13:33:56.574207",
     "status": "completed"
    },
    "tags": []
   },
   "outputs": [
    {
     "data": {
      "text/html": [
       "<div>\n",
       "<style scoped>\n",
       "    .dataframe tbody tr th:only-of-type {\n",
       "        vertical-align: middle;\n",
       "    }\n",
       "\n",
       "    .dataframe tbody tr th {\n",
       "        vertical-align: top;\n",
       "    }\n",
       "\n",
       "    .dataframe thead th {\n",
       "        text-align: right;\n",
       "    }\n",
       "</style>\n",
       "<table border=\"1\" class=\"dataframe\">\n",
       "  <thead>\n",
       "    <tr style=\"text-align: right;\">\n",
       "      <th></th>\n",
       "      <th>enrollee_id</th>\n",
       "      <th>city_development_index</th>\n",
       "      <th>training_hours</th>\n",
       "      <th>city_10</th>\n",
       "      <th>city_100</th>\n",
       "      <th>city_101</th>\n",
       "      <th>city_102</th>\n",
       "      <th>city_103</th>\n",
       "      <th>city_104</th>\n",
       "      <th>city_105</th>\n",
       "      <th>...</th>\n",
       "      <th>NGO</th>\n",
       "      <th>Other</th>\n",
       "      <th>Public Sector</th>\n",
       "      <th>Pvt Ltd</th>\n",
       "      <th>1</th>\n",
       "      <th>2</th>\n",
       "      <th>3</th>\n",
       "      <th>4</th>\n",
       "      <th>&gt;4</th>\n",
       "      <th>never</th>\n",
       "    </tr>\n",
       "  </thead>\n",
       "  <tbody>\n",
       "    <tr>\n",
       "      <th>3</th>\n",
       "      <td>27385</td>\n",
       "      <td>0.827</td>\n",
       "      <td>39</td>\n",
       "      <td>0</td>\n",
       "      <td>0</td>\n",
       "      <td>0</td>\n",
       "      <td>0</td>\n",
       "      <td>0</td>\n",
       "      <td>0</td>\n",
       "      <td>0</td>\n",
       "      <td>...</td>\n",
       "      <td>0</td>\n",
       "      <td>0</td>\n",
       "      <td>0</td>\n",
       "      <td>1</td>\n",
       "      <td>1</td>\n",
       "      <td>0</td>\n",
       "      <td>0</td>\n",
       "      <td>0</td>\n",
       "      <td>0</td>\n",
       "      <td>0</td>\n",
       "    </tr>\n",
       "    <tr>\n",
       "      <th>4</th>\n",
       "      <td>27724</td>\n",
       "      <td>0.920</td>\n",
       "      <td>72</td>\n",
       "      <td>0</td>\n",
       "      <td>0</td>\n",
       "      <td>0</td>\n",
       "      <td>0</td>\n",
       "      <td>1</td>\n",
       "      <td>0</td>\n",
       "      <td>0</td>\n",
       "      <td>...</td>\n",
       "      <td>0</td>\n",
       "      <td>0</td>\n",
       "      <td>0</td>\n",
       "      <td>1</td>\n",
       "      <td>0</td>\n",
       "      <td>0</td>\n",
       "      <td>0</td>\n",
       "      <td>0</td>\n",
       "      <td>1</td>\n",
       "      <td>0</td>\n",
       "    </tr>\n",
       "    <tr>\n",
       "      <th>11</th>\n",
       "      <td>9272</td>\n",
       "      <td>0.698</td>\n",
       "      <td>51</td>\n",
       "      <td>0</td>\n",
       "      <td>0</td>\n",
       "      <td>0</td>\n",
       "      <td>0</td>\n",
       "      <td>0</td>\n",
       "      <td>0</td>\n",
       "      <td>0</td>\n",
       "      <td>...</td>\n",
       "      <td>0</td>\n",
       "      <td>0</td>\n",
       "      <td>0</td>\n",
       "      <td>1</td>\n",
       "      <td>0</td>\n",
       "      <td>1</td>\n",
       "      <td>0</td>\n",
       "      <td>0</td>\n",
       "      <td>0</td>\n",
       "      <td>0</td>\n",
       "    </tr>\n",
       "    <tr>\n",
       "      <th>12</th>\n",
       "      <td>14249</td>\n",
       "      <td>0.762</td>\n",
       "      <td>48</td>\n",
       "      <td>0</td>\n",
       "      <td>0</td>\n",
       "      <td>0</td>\n",
       "      <td>0</td>\n",
       "      <td>0</td>\n",
       "      <td>0</td>\n",
       "      <td>0</td>\n",
       "      <td>...</td>\n",
       "      <td>0</td>\n",
       "      <td>1</td>\n",
       "      <td>0</td>\n",
       "      <td>0</td>\n",
       "      <td>0</td>\n",
       "      <td>0</td>\n",
       "      <td>0</td>\n",
       "      <td>0</td>\n",
       "      <td>0</td>\n",
       "      <td>1</td>\n",
       "    </tr>\n",
       "    <tr>\n",
       "      <th>16</th>\n",
       "      <td>7865</td>\n",
       "      <td>0.624</td>\n",
       "      <td>4</td>\n",
       "      <td>0</td>\n",
       "      <td>0</td>\n",
       "      <td>0</td>\n",
       "      <td>0</td>\n",
       "      <td>0</td>\n",
       "      <td>0</td>\n",
       "      <td>0</td>\n",
       "      <td>...</td>\n",
       "      <td>0</td>\n",
       "      <td>0</td>\n",
       "      <td>0</td>\n",
       "      <td>1</td>\n",
       "      <td>1</td>\n",
       "      <td>0</td>\n",
       "      <td>0</td>\n",
       "      <td>0</td>\n",
       "      <td>0</td>\n",
       "      <td>0</td>\n",
       "    </tr>\n",
       "    <tr>\n",
       "      <th>...</th>\n",
       "      <td>...</td>\n",
       "      <td>...</td>\n",
       "      <td>...</td>\n",
       "      <td>...</td>\n",
       "      <td>...</td>\n",
       "      <td>...</td>\n",
       "      <td>...</td>\n",
       "      <td>...</td>\n",
       "      <td>...</td>\n",
       "      <td>...</td>\n",
       "      <td>...</td>\n",
       "      <td>...</td>\n",
       "      <td>...</td>\n",
       "      <td>...</td>\n",
       "      <td>...</td>\n",
       "      <td>...</td>\n",
       "      <td>...</td>\n",
       "      <td>...</td>\n",
       "      <td>...</td>\n",
       "      <td>...</td>\n",
       "      <td>...</td>\n",
       "    </tr>\n",
       "    <tr>\n",
       "      <th>2113</th>\n",
       "      <td>10726</td>\n",
       "      <td>0.884</td>\n",
       "      <td>16</td>\n",
       "      <td>0</td>\n",
       "      <td>0</td>\n",
       "      <td>0</td>\n",
       "      <td>0</td>\n",
       "      <td>0</td>\n",
       "      <td>0</td>\n",
       "      <td>0</td>\n",
       "      <td>...</td>\n",
       "      <td>0</td>\n",
       "      <td>0</td>\n",
       "      <td>1</td>\n",
       "      <td>0</td>\n",
       "      <td>1</td>\n",
       "      <td>0</td>\n",
       "      <td>0</td>\n",
       "      <td>0</td>\n",
       "      <td>0</td>\n",
       "      <td>0</td>\n",
       "    </tr>\n",
       "    <tr>\n",
       "      <th>2115</th>\n",
       "      <td>13833</td>\n",
       "      <td>0.624</td>\n",
       "      <td>8</td>\n",
       "      <td>0</td>\n",
       "      <td>0</td>\n",
       "      <td>0</td>\n",
       "      <td>0</td>\n",
       "      <td>0</td>\n",
       "      <td>0</td>\n",
       "      <td>0</td>\n",
       "      <td>...</td>\n",
       "      <td>0</td>\n",
       "      <td>0</td>\n",
       "      <td>0</td>\n",
       "      <td>1</td>\n",
       "      <td>1</td>\n",
       "      <td>0</td>\n",
       "      <td>0</td>\n",
       "      <td>0</td>\n",
       "      <td>0</td>\n",
       "      <td>0</td>\n",
       "    </tr>\n",
       "    <tr>\n",
       "      <th>2117</th>\n",
       "      <td>21500</td>\n",
       "      <td>0.725</td>\n",
       "      <td>160</td>\n",
       "      <td>0</td>\n",
       "      <td>0</td>\n",
       "      <td>0</td>\n",
       "      <td>0</td>\n",
       "      <td>0</td>\n",
       "      <td>0</td>\n",
       "      <td>0</td>\n",
       "      <td>...</td>\n",
       "      <td>0</td>\n",
       "      <td>0</td>\n",
       "      <td>0</td>\n",
       "      <td>0</td>\n",
       "      <td>0</td>\n",
       "      <td>0</td>\n",
       "      <td>0</td>\n",
       "      <td>0</td>\n",
       "      <td>0</td>\n",
       "      <td>1</td>\n",
       "    </tr>\n",
       "    <tr>\n",
       "      <th>2121</th>\n",
       "      <td>27163</td>\n",
       "      <td>0.878</td>\n",
       "      <td>58</td>\n",
       "      <td>0</td>\n",
       "      <td>0</td>\n",
       "      <td>0</td>\n",
       "      <td>0</td>\n",
       "      <td>0</td>\n",
       "      <td>0</td>\n",
       "      <td>0</td>\n",
       "      <td>...</td>\n",
       "      <td>0</td>\n",
       "      <td>0</td>\n",
       "      <td>0</td>\n",
       "      <td>1</td>\n",
       "      <td>0</td>\n",
       "      <td>0</td>\n",
       "      <td>0</td>\n",
       "      <td>0</td>\n",
       "      <td>1</td>\n",
       "      <td>0</td>\n",
       "    </tr>\n",
       "    <tr>\n",
       "      <th>2128</th>\n",
       "      <td>12215</td>\n",
       "      <td>0.804</td>\n",
       "      <td>11</td>\n",
       "      <td>0</td>\n",
       "      <td>0</td>\n",
       "      <td>0</td>\n",
       "      <td>1</td>\n",
       "      <td>0</td>\n",
       "      <td>0</td>\n",
       "      <td>0</td>\n",
       "      <td>...</td>\n",
       "      <td>0</td>\n",
       "      <td>0</td>\n",
       "      <td>0</td>\n",
       "      <td>1</td>\n",
       "      <td>0</td>\n",
       "      <td>1</td>\n",
       "      <td>0</td>\n",
       "      <td>0</td>\n",
       "      <td>0</td>\n",
       "      <td>0</td>\n",
       "    </tr>\n",
       "  </tbody>\n",
       "</table>\n",
       "<p>1019 rows × 150 columns</p>\n",
       "</div>"
      ],
      "text/plain": [
       "      enrollee_id  city_development_index  training_hours  city_10  city_100  \\\n",
       "3           27385                   0.827              39        0         0   \n",
       "4           27724                   0.920              72        0         0   \n",
       "11           9272                   0.698              51        0         0   \n",
       "12          14249                   0.762              48        0         0   \n",
       "16           7865                   0.624               4        0         0   \n",
       "...           ...                     ...             ...      ...       ...   \n",
       "2113        10726                   0.884              16        0         0   \n",
       "2115        13833                   0.624               8        0         0   \n",
       "2117        21500                   0.725             160        0         0   \n",
       "2121        27163                   0.878              58        0         0   \n",
       "2128        12215                   0.804              11        0         0   \n",
       "\n",
       "      city_101  city_102  city_103  city_104  city_105  ...  NGO  Other  \\\n",
       "3            0         0         0         0         0  ...    0      0   \n",
       "4            0         0         1         0         0  ...    0      0   \n",
       "11           0         0         0         0         0  ...    0      0   \n",
       "12           0         0         0         0         0  ...    0      1   \n",
       "16           0         0         0         0         0  ...    0      0   \n",
       "...        ...       ...       ...       ...       ...  ...  ...    ...   \n",
       "2113         0         0         0         0         0  ...    0      0   \n",
       "2115         0         0         0         0         0  ...    0      0   \n",
       "2117         0         0         0         0         0  ...    0      0   \n",
       "2121         0         0         0         0         0  ...    0      0   \n",
       "2128         0         1         0         0         0  ...    0      0   \n",
       "\n",
       "      Public Sector  Pvt Ltd  1  2  3  4  >4  never  \n",
       "3                 0        1  1  0  0  0   0      0  \n",
       "4                 0        1  0  0  0  0   1      0  \n",
       "11                0        1  0  1  0  0   0      0  \n",
       "12                0        0  0  0  0  0   0      1  \n",
       "16                0        1  1  0  0  0   0      0  \n",
       "...             ...      ... .. .. .. ..  ..    ...  \n",
       "2113              1        0  1  0  0  0   0      0  \n",
       "2115              0        1  1  0  0  0   0      0  \n",
       "2117              0        0  0  0  0  0   0      1  \n",
       "2121              0        1  0  0  0  0   1      0  \n",
       "2128              0        1  0  1  0  0   0      0  \n",
       "\n",
       "[1019 rows x 150 columns]"
      ]
     },
     "execution_count": 72,
     "metadata": {},
     "output_type": "execute_result"
    }
   ],
   "source": [
    "test_data_dropna"
   ]
  },
  {
   "cell_type": "code",
   "execution_count": 73,
   "metadata": {
    "execution": {
     "iopub.execute_input": "2021-03-03T13:33:56.994548Z",
     "iopub.status.busy": "2021-03-03T13:33:56.993548Z",
     "iopub.status.idle": "2021-03-03T13:33:56.999351Z",
     "shell.execute_reply": "2021-03-03T13:33:56.998713Z"
    },
    "papermill": {
     "duration": 0.142811,
     "end_time": "2021-03-03T13:33:56.999517",
     "exception": false,
     "start_time": "2021-03-03T13:33:56.856706",
     "status": "completed"
    },
    "tags": []
   },
   "outputs": [
    {
     "name": "stdout",
     "output_type": "stream",
     "text": [
      "target\n",
      "city_1\n",
      "city_106\n",
      "city_107\n",
      "city_109\n",
      "city_117\n",
      "city_120\n",
      "city_126\n",
      "city_127\n",
      "city_129\n",
      "city_131\n",
      "city_144\n",
      "city_145\n",
      "city_146\n",
      "city_155\n",
      "city_166\n",
      "city_18\n",
      "city_2\n",
      "city_26\n",
      "city_33\n",
      "city_37\n",
      "city_48\n",
      "city_53\n",
      "city_55\n",
      "city_59\n",
      "city_62\n",
      "city_7\n",
      "city_78\n",
      "city_81\n"
     ]
    }
   ],
   "source": [
    "del_col = []\n",
    "for col in list(train_data_dropna.columns):\n",
    "    if col not in list(test_data_dropna.columns):\n",
    "        print(col)\n",
    "        if col != 'target':\n",
    "            del_col.append(col)"
   ]
  },
  {
   "cell_type": "code",
   "execution_count": 74,
   "metadata": {
    "execution": {
     "iopub.execute_input": "2021-03-03T13:33:57.272204Z",
     "iopub.status.busy": "2021-03-03T13:33:57.271388Z",
     "iopub.status.idle": "2021-03-03T13:33:57.277138Z",
     "shell.execute_reply": "2021-03-03T13:33:57.278875Z"
    },
    "papermill": {
     "duration": 0.157658,
     "end_time": "2021-03-03T13:33:57.279251",
     "exception": false,
     "start_time": "2021-03-03T13:33:57.121593",
     "status": "completed"
    },
    "tags": []
   },
   "outputs": [
    {
     "data": {
      "text/plain": [
       "['city_1',\n",
       " 'city_106',\n",
       " 'city_107',\n",
       " 'city_109',\n",
       " 'city_117',\n",
       " 'city_120',\n",
       " 'city_126',\n",
       " 'city_127',\n",
       " 'city_129',\n",
       " 'city_131',\n",
       " 'city_144',\n",
       " 'city_145',\n",
       " 'city_146',\n",
       " 'city_155',\n",
       " 'city_166',\n",
       " 'city_18',\n",
       " 'city_2',\n",
       " 'city_26',\n",
       " 'city_33',\n",
       " 'city_37',\n",
       " 'city_48',\n",
       " 'city_53',\n",
       " 'city_55',\n",
       " 'city_59',\n",
       " 'city_62',\n",
       " 'city_7',\n",
       " 'city_78',\n",
       " 'city_81']"
      ]
     },
     "execution_count": 74,
     "metadata": {},
     "output_type": "execute_result"
    }
   ],
   "source": [
    "del_col"
   ]
  },
  {
   "cell_type": "code",
   "execution_count": 75,
   "metadata": {
    "execution": {
     "iopub.execute_input": "2021-03-03T13:33:57.568779Z",
     "iopub.status.busy": "2021-03-03T13:33:57.568058Z",
     "iopub.status.idle": "2021-03-03T13:33:57.589029Z",
     "shell.execute_reply": "2021-03-03T13:33:57.589584Z"
    },
    "papermill": {
     "duration": 0.153022,
     "end_time": "2021-03-03T13:33:57.589767",
     "exception": false,
     "start_time": "2021-03-03T13:33:57.436745",
     "status": "completed"
    },
    "tags": []
   },
   "outputs": [],
   "source": [
    "for col in del_col:\n",
    "    del(train_data_dropna[col])"
   ]
  },
  {
   "cell_type": "code",
   "execution_count": 76,
   "metadata": {
    "execution": {
     "iopub.execute_input": "2021-03-03T13:33:57.847620Z",
     "iopub.status.busy": "2021-03-03T13:33:57.846448Z",
     "iopub.status.idle": "2021-03-03T13:33:57.880604Z",
     "shell.execute_reply": "2021-03-03T13:33:57.879966Z"
    },
    "papermill": {
     "duration": 0.166194,
     "end_time": "2021-03-03T13:33:57.880762",
     "exception": false,
     "start_time": "2021-03-03T13:33:57.714568",
     "status": "completed"
    },
    "tags": []
   },
   "outputs": [
    {
     "data": {
      "text/html": [
       "<div>\n",
       "<style scoped>\n",
       "    .dataframe tbody tr th:only-of-type {\n",
       "        vertical-align: middle;\n",
       "    }\n",
       "\n",
       "    .dataframe tbody tr th {\n",
       "        vertical-align: top;\n",
       "    }\n",
       "\n",
       "    .dataframe thead th {\n",
       "        text-align: right;\n",
       "    }\n",
       "</style>\n",
       "<table border=\"1\" class=\"dataframe\">\n",
       "  <thead>\n",
       "    <tr style=\"text-align: right;\">\n",
       "      <th></th>\n",
       "      <th>enrollee_id</th>\n",
       "      <th>city_development_index</th>\n",
       "      <th>training_hours</th>\n",
       "      <th>target</th>\n",
       "      <th>city_10</th>\n",
       "      <th>city_100</th>\n",
       "      <th>city_101</th>\n",
       "      <th>city_102</th>\n",
       "      <th>city_103</th>\n",
       "      <th>city_104</th>\n",
       "      <th>...</th>\n",
       "      <th>NGO</th>\n",
       "      <th>Other</th>\n",
       "      <th>Public Sector</th>\n",
       "      <th>Pvt Ltd</th>\n",
       "      <th>1</th>\n",
       "      <th>2</th>\n",
       "      <th>3</th>\n",
       "      <th>4</th>\n",
       "      <th>&gt;4</th>\n",
       "      <th>never</th>\n",
       "    </tr>\n",
       "  </thead>\n",
       "  <tbody>\n",
       "    <tr>\n",
       "      <th>1</th>\n",
       "      <td>29725</td>\n",
       "      <td>0.776</td>\n",
       "      <td>47</td>\n",
       "      <td>0.0</td>\n",
       "      <td>0</td>\n",
       "      <td>0</td>\n",
       "      <td>0</td>\n",
       "      <td>0</td>\n",
       "      <td>0</td>\n",
       "      <td>0</td>\n",
       "      <td>...</td>\n",
       "      <td>0</td>\n",
       "      <td>0</td>\n",
       "      <td>0</td>\n",
       "      <td>1</td>\n",
       "      <td>0</td>\n",
       "      <td>0</td>\n",
       "      <td>0</td>\n",
       "      <td>0</td>\n",
       "      <td>1</td>\n",
       "      <td>0</td>\n",
       "    </tr>\n",
       "    <tr>\n",
       "      <th>4</th>\n",
       "      <td>666</td>\n",
       "      <td>0.767</td>\n",
       "      <td>8</td>\n",
       "      <td>0.0</td>\n",
       "      <td>0</td>\n",
       "      <td>0</td>\n",
       "      <td>0</td>\n",
       "      <td>0</td>\n",
       "      <td>0</td>\n",
       "      <td>0</td>\n",
       "      <td>...</td>\n",
       "      <td>0</td>\n",
       "      <td>0</td>\n",
       "      <td>0</td>\n",
       "      <td>0</td>\n",
       "      <td>0</td>\n",
       "      <td>0</td>\n",
       "      <td>0</td>\n",
       "      <td>1</td>\n",
       "      <td>0</td>\n",
       "      <td>0</td>\n",
       "    </tr>\n",
       "    <tr>\n",
       "      <th>7</th>\n",
       "      <td>402</td>\n",
       "      <td>0.762</td>\n",
       "      <td>18</td>\n",
       "      <td>1.0</td>\n",
       "      <td>0</td>\n",
       "      <td>0</td>\n",
       "      <td>0</td>\n",
       "      <td>0</td>\n",
       "      <td>0</td>\n",
       "      <td>0</td>\n",
       "      <td>...</td>\n",
       "      <td>0</td>\n",
       "      <td>0</td>\n",
       "      <td>0</td>\n",
       "      <td>1</td>\n",
       "      <td>0</td>\n",
       "      <td>0</td>\n",
       "      <td>0</td>\n",
       "      <td>0</td>\n",
       "      <td>1</td>\n",
       "      <td>0</td>\n",
       "    </tr>\n",
       "    <tr>\n",
       "      <th>8</th>\n",
       "      <td>27107</td>\n",
       "      <td>0.920</td>\n",
       "      <td>46</td>\n",
       "      <td>1.0</td>\n",
       "      <td>0</td>\n",
       "      <td>0</td>\n",
       "      <td>0</td>\n",
       "      <td>0</td>\n",
       "      <td>1</td>\n",
       "      <td>0</td>\n",
       "      <td>...</td>\n",
       "      <td>0</td>\n",
       "      <td>0</td>\n",
       "      <td>0</td>\n",
       "      <td>1</td>\n",
       "      <td>1</td>\n",
       "      <td>0</td>\n",
       "      <td>0</td>\n",
       "      <td>0</td>\n",
       "      <td>0</td>\n",
       "      <td>0</td>\n",
       "    </tr>\n",
       "    <tr>\n",
       "      <th>11</th>\n",
       "      <td>23853</td>\n",
       "      <td>0.920</td>\n",
       "      <td>108</td>\n",
       "      <td>0.0</td>\n",
       "      <td>0</td>\n",
       "      <td>0</td>\n",
       "      <td>0</td>\n",
       "      <td>0</td>\n",
       "      <td>1</td>\n",
       "      <td>0</td>\n",
       "      <td>...</td>\n",
       "      <td>0</td>\n",
       "      <td>0</td>\n",
       "      <td>0</td>\n",
       "      <td>1</td>\n",
       "      <td>1</td>\n",
       "      <td>0</td>\n",
       "      <td>0</td>\n",
       "      <td>0</td>\n",
       "      <td>0</td>\n",
       "      <td>0</td>\n",
       "    </tr>\n",
       "    <tr>\n",
       "      <th>...</th>\n",
       "      <td>...</td>\n",
       "      <td>...</td>\n",
       "      <td>...</td>\n",
       "      <td>...</td>\n",
       "      <td>...</td>\n",
       "      <td>...</td>\n",
       "      <td>...</td>\n",
       "      <td>...</td>\n",
       "      <td>...</td>\n",
       "      <td>...</td>\n",
       "      <td>...</td>\n",
       "      <td>...</td>\n",
       "      <td>...</td>\n",
       "      <td>...</td>\n",
       "      <td>...</td>\n",
       "      <td>...</td>\n",
       "      <td>...</td>\n",
       "      <td>...</td>\n",
       "      <td>...</td>\n",
       "      <td>...</td>\n",
       "      <td>...</td>\n",
       "    </tr>\n",
       "    <tr>\n",
       "      <th>19147</th>\n",
       "      <td>21319</td>\n",
       "      <td>0.624</td>\n",
       "      <td>52</td>\n",
       "      <td>1.0</td>\n",
       "      <td>0</td>\n",
       "      <td>0</td>\n",
       "      <td>0</td>\n",
       "      <td>0</td>\n",
       "      <td>0</td>\n",
       "      <td>0</td>\n",
       "      <td>...</td>\n",
       "      <td>0</td>\n",
       "      <td>0</td>\n",
       "      <td>0</td>\n",
       "      <td>1</td>\n",
       "      <td>1</td>\n",
       "      <td>0</td>\n",
       "      <td>0</td>\n",
       "      <td>0</td>\n",
       "      <td>0</td>\n",
       "      <td>0</td>\n",
       "    </tr>\n",
       "    <tr>\n",
       "      <th>19149</th>\n",
       "      <td>251</td>\n",
       "      <td>0.920</td>\n",
       "      <td>36</td>\n",
       "      <td>1.0</td>\n",
       "      <td>0</td>\n",
       "      <td>0</td>\n",
       "      <td>0</td>\n",
       "      <td>0</td>\n",
       "      <td>1</td>\n",
       "      <td>0</td>\n",
       "      <td>...</td>\n",
       "      <td>0</td>\n",
       "      <td>0</td>\n",
       "      <td>0</td>\n",
       "      <td>1</td>\n",
       "      <td>1</td>\n",
       "      <td>0</td>\n",
       "      <td>0</td>\n",
       "      <td>0</td>\n",
       "      <td>0</td>\n",
       "      <td>0</td>\n",
       "    </tr>\n",
       "    <tr>\n",
       "      <th>19150</th>\n",
       "      <td>32313</td>\n",
       "      <td>0.920</td>\n",
       "      <td>23</td>\n",
       "      <td>0.0</td>\n",
       "      <td>0</td>\n",
       "      <td>0</td>\n",
       "      <td>0</td>\n",
       "      <td>0</td>\n",
       "      <td>0</td>\n",
       "      <td>0</td>\n",
       "      <td>...</td>\n",
       "      <td>0</td>\n",
       "      <td>0</td>\n",
       "      <td>1</td>\n",
       "      <td>0</td>\n",
       "      <td>0</td>\n",
       "      <td>0</td>\n",
       "      <td>1</td>\n",
       "      <td>0</td>\n",
       "      <td>0</td>\n",
       "      <td>0</td>\n",
       "    </tr>\n",
       "    <tr>\n",
       "      <th>19152</th>\n",
       "      <td>29754</td>\n",
       "      <td>0.920</td>\n",
       "      <td>25</td>\n",
       "      <td>0.0</td>\n",
       "      <td>0</td>\n",
       "      <td>0</td>\n",
       "      <td>0</td>\n",
       "      <td>0</td>\n",
       "      <td>1</td>\n",
       "      <td>0</td>\n",
       "      <td>...</td>\n",
       "      <td>0</td>\n",
       "      <td>0</td>\n",
       "      <td>0</td>\n",
       "      <td>0</td>\n",
       "      <td>1</td>\n",
       "      <td>0</td>\n",
       "      <td>0</td>\n",
       "      <td>0</td>\n",
       "      <td>0</td>\n",
       "      <td>0</td>\n",
       "    </tr>\n",
       "    <tr>\n",
       "      <th>19155</th>\n",
       "      <td>24576</td>\n",
       "      <td>0.920</td>\n",
       "      <td>44</td>\n",
       "      <td>0.0</td>\n",
       "      <td>0</td>\n",
       "      <td>0</td>\n",
       "      <td>0</td>\n",
       "      <td>0</td>\n",
       "      <td>1</td>\n",
       "      <td>0</td>\n",
       "      <td>...</td>\n",
       "      <td>0</td>\n",
       "      <td>0</td>\n",
       "      <td>0</td>\n",
       "      <td>1</td>\n",
       "      <td>0</td>\n",
       "      <td>0</td>\n",
       "      <td>0</td>\n",
       "      <td>1</td>\n",
       "      <td>0</td>\n",
       "      <td>0</td>\n",
       "    </tr>\n",
       "  </tbody>\n",
       "</table>\n",
       "<p>8955 rows × 151 columns</p>\n",
       "</div>"
      ],
      "text/plain": [
       "       enrollee_id  city_development_index  training_hours  target  city_10  \\\n",
       "1            29725                   0.776              47     0.0        0   \n",
       "4              666                   0.767               8     0.0        0   \n",
       "7              402                   0.762              18     1.0        0   \n",
       "8            27107                   0.920              46     1.0        0   \n",
       "11           23853                   0.920             108     0.0        0   \n",
       "...            ...                     ...             ...     ...      ...   \n",
       "19147        21319                   0.624              52     1.0        0   \n",
       "19149          251                   0.920              36     1.0        0   \n",
       "19150        32313                   0.920              23     0.0        0   \n",
       "19152        29754                   0.920              25     0.0        0   \n",
       "19155        24576                   0.920              44     0.0        0   \n",
       "\n",
       "       city_100  city_101  city_102  city_103  city_104  ...  NGO  Other  \\\n",
       "1             0         0         0         0         0  ...    0      0   \n",
       "4             0         0         0         0         0  ...    0      0   \n",
       "7             0         0         0         0         0  ...    0      0   \n",
       "8             0         0         0         1         0  ...    0      0   \n",
       "11            0         0         0         1         0  ...    0      0   \n",
       "...         ...       ...       ...       ...       ...  ...  ...    ...   \n",
       "19147         0         0         0         0         0  ...    0      0   \n",
       "19149         0         0         0         1         0  ...    0      0   \n",
       "19150         0         0         0         0         0  ...    0      0   \n",
       "19152         0         0         0         1         0  ...    0      0   \n",
       "19155         0         0         0         1         0  ...    0      0   \n",
       "\n",
       "       Public Sector  Pvt Ltd  1  2  3  4  >4  never  \n",
       "1                  0        1  0  0  0  0   1      0  \n",
       "4                  0        0  0  0  0  1   0      0  \n",
       "7                  0        1  0  0  0  0   1      0  \n",
       "8                  0        1  1  0  0  0   0      0  \n",
       "11                 0        1  1  0  0  0   0      0  \n",
       "...              ...      ... .. .. .. ..  ..    ...  \n",
       "19147              0        1  1  0  0  0   0      0  \n",
       "19149              0        1  1  0  0  0   0      0  \n",
       "19150              1        0  0  0  1  0   0      0  \n",
       "19152              0        0  1  0  0  0   0      0  \n",
       "19155              0        1  0  0  0  1   0      0  \n",
       "\n",
       "[8955 rows x 151 columns]"
      ]
     },
     "execution_count": 76,
     "metadata": {},
     "output_type": "execute_result"
    }
   ],
   "source": [
    "train_data_dropna"
   ]
  },
  {
   "cell_type": "code",
   "execution_count": 77,
   "metadata": {
    "execution": {
     "iopub.execute_input": "2021-03-03T13:33:58.151237Z",
     "iopub.status.busy": "2021-03-03T13:33:58.150496Z",
     "iopub.status.idle": "2021-03-03T13:33:58.180405Z",
     "shell.execute_reply": "2021-03-03T13:33:58.180965Z"
    },
    "papermill": {
     "duration": 0.165537,
     "end_time": "2021-03-03T13:33:58.181149",
     "exception": false,
     "start_time": "2021-03-03T13:33:58.015612",
     "status": "completed"
    },
    "tags": []
   },
   "outputs": [
    {
     "data": {
      "text/html": [
       "<div>\n",
       "<style scoped>\n",
       "    .dataframe tbody tr th:only-of-type {\n",
       "        vertical-align: middle;\n",
       "    }\n",
       "\n",
       "    .dataframe tbody tr th {\n",
       "        vertical-align: top;\n",
       "    }\n",
       "\n",
       "    .dataframe thead th {\n",
       "        text-align: right;\n",
       "    }\n",
       "</style>\n",
       "<table border=\"1\" class=\"dataframe\">\n",
       "  <thead>\n",
       "    <tr style=\"text-align: right;\">\n",
       "      <th></th>\n",
       "      <th>enrollee_id</th>\n",
       "      <th>city_development_index</th>\n",
       "      <th>training_hours</th>\n",
       "      <th>city_10</th>\n",
       "      <th>city_100</th>\n",
       "      <th>city_101</th>\n",
       "      <th>city_102</th>\n",
       "      <th>city_103</th>\n",
       "      <th>city_104</th>\n",
       "      <th>city_105</th>\n",
       "      <th>...</th>\n",
       "      <th>NGO</th>\n",
       "      <th>Other</th>\n",
       "      <th>Public Sector</th>\n",
       "      <th>Pvt Ltd</th>\n",
       "      <th>1</th>\n",
       "      <th>2</th>\n",
       "      <th>3</th>\n",
       "      <th>4</th>\n",
       "      <th>&gt;4</th>\n",
       "      <th>never</th>\n",
       "    </tr>\n",
       "  </thead>\n",
       "  <tbody>\n",
       "    <tr>\n",
       "      <th>3</th>\n",
       "      <td>27385</td>\n",
       "      <td>0.827</td>\n",
       "      <td>39</td>\n",
       "      <td>0</td>\n",
       "      <td>0</td>\n",
       "      <td>0</td>\n",
       "      <td>0</td>\n",
       "      <td>0</td>\n",
       "      <td>0</td>\n",
       "      <td>0</td>\n",
       "      <td>...</td>\n",
       "      <td>0</td>\n",
       "      <td>0</td>\n",
       "      <td>0</td>\n",
       "      <td>1</td>\n",
       "      <td>1</td>\n",
       "      <td>0</td>\n",
       "      <td>0</td>\n",
       "      <td>0</td>\n",
       "      <td>0</td>\n",
       "      <td>0</td>\n",
       "    </tr>\n",
       "    <tr>\n",
       "      <th>4</th>\n",
       "      <td>27724</td>\n",
       "      <td>0.920</td>\n",
       "      <td>72</td>\n",
       "      <td>0</td>\n",
       "      <td>0</td>\n",
       "      <td>0</td>\n",
       "      <td>0</td>\n",
       "      <td>1</td>\n",
       "      <td>0</td>\n",
       "      <td>0</td>\n",
       "      <td>...</td>\n",
       "      <td>0</td>\n",
       "      <td>0</td>\n",
       "      <td>0</td>\n",
       "      <td>1</td>\n",
       "      <td>0</td>\n",
       "      <td>0</td>\n",
       "      <td>0</td>\n",
       "      <td>0</td>\n",
       "      <td>1</td>\n",
       "      <td>0</td>\n",
       "    </tr>\n",
       "    <tr>\n",
       "      <th>11</th>\n",
       "      <td>9272</td>\n",
       "      <td>0.698</td>\n",
       "      <td>51</td>\n",
       "      <td>0</td>\n",
       "      <td>0</td>\n",
       "      <td>0</td>\n",
       "      <td>0</td>\n",
       "      <td>0</td>\n",
       "      <td>0</td>\n",
       "      <td>0</td>\n",
       "      <td>...</td>\n",
       "      <td>0</td>\n",
       "      <td>0</td>\n",
       "      <td>0</td>\n",
       "      <td>1</td>\n",
       "      <td>0</td>\n",
       "      <td>1</td>\n",
       "      <td>0</td>\n",
       "      <td>0</td>\n",
       "      <td>0</td>\n",
       "      <td>0</td>\n",
       "    </tr>\n",
       "    <tr>\n",
       "      <th>12</th>\n",
       "      <td>14249</td>\n",
       "      <td>0.762</td>\n",
       "      <td>48</td>\n",
       "      <td>0</td>\n",
       "      <td>0</td>\n",
       "      <td>0</td>\n",
       "      <td>0</td>\n",
       "      <td>0</td>\n",
       "      <td>0</td>\n",
       "      <td>0</td>\n",
       "      <td>...</td>\n",
       "      <td>0</td>\n",
       "      <td>1</td>\n",
       "      <td>0</td>\n",
       "      <td>0</td>\n",
       "      <td>0</td>\n",
       "      <td>0</td>\n",
       "      <td>0</td>\n",
       "      <td>0</td>\n",
       "      <td>0</td>\n",
       "      <td>1</td>\n",
       "    </tr>\n",
       "    <tr>\n",
       "      <th>16</th>\n",
       "      <td>7865</td>\n",
       "      <td>0.624</td>\n",
       "      <td>4</td>\n",
       "      <td>0</td>\n",
       "      <td>0</td>\n",
       "      <td>0</td>\n",
       "      <td>0</td>\n",
       "      <td>0</td>\n",
       "      <td>0</td>\n",
       "      <td>0</td>\n",
       "      <td>...</td>\n",
       "      <td>0</td>\n",
       "      <td>0</td>\n",
       "      <td>0</td>\n",
       "      <td>1</td>\n",
       "      <td>1</td>\n",
       "      <td>0</td>\n",
       "      <td>0</td>\n",
       "      <td>0</td>\n",
       "      <td>0</td>\n",
       "      <td>0</td>\n",
       "    </tr>\n",
       "    <tr>\n",
       "      <th>...</th>\n",
       "      <td>...</td>\n",
       "      <td>...</td>\n",
       "      <td>...</td>\n",
       "      <td>...</td>\n",
       "      <td>...</td>\n",
       "      <td>...</td>\n",
       "      <td>...</td>\n",
       "      <td>...</td>\n",
       "      <td>...</td>\n",
       "      <td>...</td>\n",
       "      <td>...</td>\n",
       "      <td>...</td>\n",
       "      <td>...</td>\n",
       "      <td>...</td>\n",
       "      <td>...</td>\n",
       "      <td>...</td>\n",
       "      <td>...</td>\n",
       "      <td>...</td>\n",
       "      <td>...</td>\n",
       "      <td>...</td>\n",
       "      <td>...</td>\n",
       "    </tr>\n",
       "    <tr>\n",
       "      <th>2113</th>\n",
       "      <td>10726</td>\n",
       "      <td>0.884</td>\n",
       "      <td>16</td>\n",
       "      <td>0</td>\n",
       "      <td>0</td>\n",
       "      <td>0</td>\n",
       "      <td>0</td>\n",
       "      <td>0</td>\n",
       "      <td>0</td>\n",
       "      <td>0</td>\n",
       "      <td>...</td>\n",
       "      <td>0</td>\n",
       "      <td>0</td>\n",
       "      <td>1</td>\n",
       "      <td>0</td>\n",
       "      <td>1</td>\n",
       "      <td>0</td>\n",
       "      <td>0</td>\n",
       "      <td>0</td>\n",
       "      <td>0</td>\n",
       "      <td>0</td>\n",
       "    </tr>\n",
       "    <tr>\n",
       "      <th>2115</th>\n",
       "      <td>13833</td>\n",
       "      <td>0.624</td>\n",
       "      <td>8</td>\n",
       "      <td>0</td>\n",
       "      <td>0</td>\n",
       "      <td>0</td>\n",
       "      <td>0</td>\n",
       "      <td>0</td>\n",
       "      <td>0</td>\n",
       "      <td>0</td>\n",
       "      <td>...</td>\n",
       "      <td>0</td>\n",
       "      <td>0</td>\n",
       "      <td>0</td>\n",
       "      <td>1</td>\n",
       "      <td>1</td>\n",
       "      <td>0</td>\n",
       "      <td>0</td>\n",
       "      <td>0</td>\n",
       "      <td>0</td>\n",
       "      <td>0</td>\n",
       "    </tr>\n",
       "    <tr>\n",
       "      <th>2117</th>\n",
       "      <td>21500</td>\n",
       "      <td>0.725</td>\n",
       "      <td>160</td>\n",
       "      <td>0</td>\n",
       "      <td>0</td>\n",
       "      <td>0</td>\n",
       "      <td>0</td>\n",
       "      <td>0</td>\n",
       "      <td>0</td>\n",
       "      <td>0</td>\n",
       "      <td>...</td>\n",
       "      <td>0</td>\n",
       "      <td>0</td>\n",
       "      <td>0</td>\n",
       "      <td>0</td>\n",
       "      <td>0</td>\n",
       "      <td>0</td>\n",
       "      <td>0</td>\n",
       "      <td>0</td>\n",
       "      <td>0</td>\n",
       "      <td>1</td>\n",
       "    </tr>\n",
       "    <tr>\n",
       "      <th>2121</th>\n",
       "      <td>27163</td>\n",
       "      <td>0.878</td>\n",
       "      <td>58</td>\n",
       "      <td>0</td>\n",
       "      <td>0</td>\n",
       "      <td>0</td>\n",
       "      <td>0</td>\n",
       "      <td>0</td>\n",
       "      <td>0</td>\n",
       "      <td>0</td>\n",
       "      <td>...</td>\n",
       "      <td>0</td>\n",
       "      <td>0</td>\n",
       "      <td>0</td>\n",
       "      <td>1</td>\n",
       "      <td>0</td>\n",
       "      <td>0</td>\n",
       "      <td>0</td>\n",
       "      <td>0</td>\n",
       "      <td>1</td>\n",
       "      <td>0</td>\n",
       "    </tr>\n",
       "    <tr>\n",
       "      <th>2128</th>\n",
       "      <td>12215</td>\n",
       "      <td>0.804</td>\n",
       "      <td>11</td>\n",
       "      <td>0</td>\n",
       "      <td>0</td>\n",
       "      <td>0</td>\n",
       "      <td>1</td>\n",
       "      <td>0</td>\n",
       "      <td>0</td>\n",
       "      <td>0</td>\n",
       "      <td>...</td>\n",
       "      <td>0</td>\n",
       "      <td>0</td>\n",
       "      <td>0</td>\n",
       "      <td>1</td>\n",
       "      <td>0</td>\n",
       "      <td>1</td>\n",
       "      <td>0</td>\n",
       "      <td>0</td>\n",
       "      <td>0</td>\n",
       "      <td>0</td>\n",
       "    </tr>\n",
       "  </tbody>\n",
       "</table>\n",
       "<p>1019 rows × 150 columns</p>\n",
       "</div>"
      ],
      "text/plain": [
       "      enrollee_id  city_development_index  training_hours  city_10  city_100  \\\n",
       "3           27385                   0.827              39        0         0   \n",
       "4           27724                   0.920              72        0         0   \n",
       "11           9272                   0.698              51        0         0   \n",
       "12          14249                   0.762              48        0         0   \n",
       "16           7865                   0.624               4        0         0   \n",
       "...           ...                     ...             ...      ...       ...   \n",
       "2113        10726                   0.884              16        0         0   \n",
       "2115        13833                   0.624               8        0         0   \n",
       "2117        21500                   0.725             160        0         0   \n",
       "2121        27163                   0.878              58        0         0   \n",
       "2128        12215                   0.804              11        0         0   \n",
       "\n",
       "      city_101  city_102  city_103  city_104  city_105  ...  NGO  Other  \\\n",
       "3            0         0         0         0         0  ...    0      0   \n",
       "4            0         0         1         0         0  ...    0      0   \n",
       "11           0         0         0         0         0  ...    0      0   \n",
       "12           0         0         0         0         0  ...    0      1   \n",
       "16           0         0         0         0         0  ...    0      0   \n",
       "...        ...       ...       ...       ...       ...  ...  ...    ...   \n",
       "2113         0         0         0         0         0  ...    0      0   \n",
       "2115         0         0         0         0         0  ...    0      0   \n",
       "2117         0         0         0         0         0  ...    0      0   \n",
       "2121         0         0         0         0         0  ...    0      0   \n",
       "2128         0         1         0         0         0  ...    0      0   \n",
       "\n",
       "      Public Sector  Pvt Ltd  1  2  3  4  >4  never  \n",
       "3                 0        1  1  0  0  0   0      0  \n",
       "4                 0        1  0  0  0  0   1      0  \n",
       "11                0        1  0  1  0  0   0      0  \n",
       "12                0        0  0  0  0  0   0      1  \n",
       "16                0        1  1  0  0  0   0      0  \n",
       "...             ...      ... .. .. .. ..  ..    ...  \n",
       "2113              1        0  1  0  0  0   0      0  \n",
       "2115              0        1  1  0  0  0   0      0  \n",
       "2117              0        0  0  0  0  0   0      1  \n",
       "2121              0        1  0  0  0  0   1      0  \n",
       "2128              0        1  0  1  0  0   0      0  \n",
       "\n",
       "[1019 rows x 150 columns]"
      ]
     },
     "execution_count": 77,
     "metadata": {},
     "output_type": "execute_result"
    }
   ],
   "source": [
    "test_data_dropna"
   ]
  },
  {
   "cell_type": "code",
   "execution_count": 78,
   "metadata": {
    "execution": {
     "iopub.execute_input": "2021-03-03T13:33:58.447407Z",
     "iopub.status.busy": "2021-03-03T13:33:58.446319Z",
     "iopub.status.idle": "2021-03-03T13:33:58.458625Z",
     "shell.execute_reply": "2021-03-03T13:33:58.459098Z"
    },
    "papermill": {
     "duration": 0.146413,
     "end_time": "2021-03-03T13:33:58.459289",
     "exception": false,
     "start_time": "2021-03-03T13:33:58.312876",
     "status": "completed"
    },
    "tags": []
   },
   "outputs": [
    {
     "data": {
      "text/plain": [
       "0"
      ]
     },
     "execution_count": 78,
     "metadata": {},
     "output_type": "execute_result"
    }
   ],
   "source": [
    "train_data_dropna.isnull().sum().sum()"
   ]
  },
  {
   "cell_type": "code",
   "execution_count": 79,
   "metadata": {
    "execution": {
     "iopub.execute_input": "2021-03-03T13:33:58.720369Z",
     "iopub.status.busy": "2021-03-03T13:33:58.719364Z",
     "iopub.status.idle": "2021-03-03T13:33:58.728372Z",
     "shell.execute_reply": "2021-03-03T13:33:58.728870Z"
    },
    "papermill": {
     "duration": 0.142942,
     "end_time": "2021-03-03T13:33:58.729057",
     "exception": false,
     "start_time": "2021-03-03T13:33:58.586115",
     "status": "completed"
    },
    "tags": []
   },
   "outputs": [
    {
     "data": {
      "text/plain": [
       "0"
      ]
     },
     "execution_count": 79,
     "metadata": {},
     "output_type": "execute_result"
    }
   ],
   "source": [
    "test_data_dropna.isnull().sum().sum()"
   ]
  },
  {
   "cell_type": "markdown",
   "metadata": {
    "papermill": {
     "duration": 0.130519,
     "end_time": "2021-03-03T13:33:59.000373",
     "exception": false,
     "start_time": "2021-03-03T13:33:58.869854",
     "status": "completed"
    },
    "tags": []
   },
   "source": [
    "#### All the null values are dropped."
   ]
  },
  {
   "cell_type": "markdown",
   "metadata": {
    "papermill": {
     "duration": 0.129864,
     "end_time": "2021-03-03T13:33:59.265159",
     "exception": false,
     "start_time": "2021-03-03T13:33:59.135295",
     "status": "completed"
    },
    "tags": []
   },
   "source": [
    "### Step 4. Split Train and Validation Set"
   ]
  },
  {
   "cell_type": "code",
   "execution_count": 80,
   "metadata": {
    "execution": {
     "iopub.execute_input": "2021-03-03T13:33:59.529412Z",
     "iopub.status.busy": "2021-03-03T13:33:59.528497Z",
     "iopub.status.idle": "2021-03-03T13:33:59.823364Z",
     "shell.execute_reply": "2021-03-03T13:33:59.822683Z"
    },
    "papermill": {
     "duration": 0.428957,
     "end_time": "2021-03-03T13:33:59.823527",
     "exception": false,
     "start_time": "2021-03-03T13:33:59.394570",
     "status": "completed"
    },
    "tags": []
   },
   "outputs": [],
   "source": [
    "from sklearn.model_selection import train_test_split"
   ]
  },
  {
   "cell_type": "code",
   "execution_count": 81,
   "metadata": {
    "execution": {
     "iopub.execute_input": "2021-03-03T13:34:00.082208Z",
     "iopub.status.busy": "2021-03-03T13:34:00.081103Z",
     "iopub.status.idle": "2021-03-03T13:34:00.087616Z",
     "shell.execute_reply": "2021-03-03T13:34:00.087087Z"
    },
    "papermill": {
     "duration": 0.141228,
     "end_time": "2021-03-03T13:34:00.087779",
     "exception": false,
     "start_time": "2021-03-03T13:33:59.946551",
     "status": "completed"
    },
    "tags": []
   },
   "outputs": [],
   "source": [
    "y = train_data_dropna['target']"
   ]
  },
  {
   "cell_type": "code",
   "execution_count": 82,
   "metadata": {
    "execution": {
     "iopub.execute_input": "2021-03-03T13:34:00.344509Z",
     "iopub.status.busy": "2021-03-03T13:34:00.343517Z",
     "iopub.status.idle": "2021-03-03T13:34:00.350786Z",
     "shell.execute_reply": "2021-03-03T13:34:00.351252Z"
    },
    "papermill": {
     "duration": 0.138636,
     "end_time": "2021-03-03T13:34:00.351459",
     "exception": false,
     "start_time": "2021-03-03T13:34:00.212823",
     "status": "completed"
    },
    "tags": []
   },
   "outputs": [],
   "source": [
    "X = train_data_dropna.drop('target',axis=1)"
   ]
  },
  {
   "cell_type": "code",
   "execution_count": 83,
   "metadata": {
    "execution": {
     "iopub.execute_input": "2021-03-03T13:34:00.654005Z",
     "iopub.status.busy": "2021-03-03T13:34:00.653024Z",
     "iopub.status.idle": "2021-03-03T13:34:00.682894Z",
     "shell.execute_reply": "2021-03-03T13:34:00.683395Z"
    },
    "papermill": {
     "duration": 0.20955,
     "end_time": "2021-03-03T13:34:00.683616",
     "exception": false,
     "start_time": "2021-03-03T13:34:00.474066",
     "status": "completed"
    },
    "tags": []
   },
   "outputs": [
    {
     "data": {
      "text/html": [
       "<div>\n",
       "<style scoped>\n",
       "    .dataframe tbody tr th:only-of-type {\n",
       "        vertical-align: middle;\n",
       "    }\n",
       "\n",
       "    .dataframe tbody tr th {\n",
       "        vertical-align: top;\n",
       "    }\n",
       "\n",
       "    .dataframe thead th {\n",
       "        text-align: right;\n",
       "    }\n",
       "</style>\n",
       "<table border=\"1\" class=\"dataframe\">\n",
       "  <thead>\n",
       "    <tr style=\"text-align: right;\">\n",
       "      <th></th>\n",
       "      <th>enrollee_id</th>\n",
       "      <th>city_development_index</th>\n",
       "      <th>training_hours</th>\n",
       "      <th>city_10</th>\n",
       "      <th>city_100</th>\n",
       "      <th>city_101</th>\n",
       "      <th>city_102</th>\n",
       "      <th>city_103</th>\n",
       "      <th>city_104</th>\n",
       "      <th>city_105</th>\n",
       "      <th>...</th>\n",
       "      <th>NGO</th>\n",
       "      <th>Other</th>\n",
       "      <th>Public Sector</th>\n",
       "      <th>Pvt Ltd</th>\n",
       "      <th>1</th>\n",
       "      <th>2</th>\n",
       "      <th>3</th>\n",
       "      <th>4</th>\n",
       "      <th>&gt;4</th>\n",
       "      <th>never</th>\n",
       "    </tr>\n",
       "  </thead>\n",
       "  <tbody>\n",
       "    <tr>\n",
       "      <th>1</th>\n",
       "      <td>29725</td>\n",
       "      <td>0.776</td>\n",
       "      <td>47</td>\n",
       "      <td>0</td>\n",
       "      <td>0</td>\n",
       "      <td>0</td>\n",
       "      <td>0</td>\n",
       "      <td>0</td>\n",
       "      <td>0</td>\n",
       "      <td>0</td>\n",
       "      <td>...</td>\n",
       "      <td>0</td>\n",
       "      <td>0</td>\n",
       "      <td>0</td>\n",
       "      <td>1</td>\n",
       "      <td>0</td>\n",
       "      <td>0</td>\n",
       "      <td>0</td>\n",
       "      <td>0</td>\n",
       "      <td>1</td>\n",
       "      <td>0</td>\n",
       "    </tr>\n",
       "    <tr>\n",
       "      <th>4</th>\n",
       "      <td>666</td>\n",
       "      <td>0.767</td>\n",
       "      <td>8</td>\n",
       "      <td>0</td>\n",
       "      <td>0</td>\n",
       "      <td>0</td>\n",
       "      <td>0</td>\n",
       "      <td>0</td>\n",
       "      <td>0</td>\n",
       "      <td>0</td>\n",
       "      <td>...</td>\n",
       "      <td>0</td>\n",
       "      <td>0</td>\n",
       "      <td>0</td>\n",
       "      <td>0</td>\n",
       "      <td>0</td>\n",
       "      <td>0</td>\n",
       "      <td>0</td>\n",
       "      <td>1</td>\n",
       "      <td>0</td>\n",
       "      <td>0</td>\n",
       "    </tr>\n",
       "    <tr>\n",
       "      <th>7</th>\n",
       "      <td>402</td>\n",
       "      <td>0.762</td>\n",
       "      <td>18</td>\n",
       "      <td>0</td>\n",
       "      <td>0</td>\n",
       "      <td>0</td>\n",
       "      <td>0</td>\n",
       "      <td>0</td>\n",
       "      <td>0</td>\n",
       "      <td>0</td>\n",
       "      <td>...</td>\n",
       "      <td>0</td>\n",
       "      <td>0</td>\n",
       "      <td>0</td>\n",
       "      <td>1</td>\n",
       "      <td>0</td>\n",
       "      <td>0</td>\n",
       "      <td>0</td>\n",
       "      <td>0</td>\n",
       "      <td>1</td>\n",
       "      <td>0</td>\n",
       "    </tr>\n",
       "    <tr>\n",
       "      <th>8</th>\n",
       "      <td>27107</td>\n",
       "      <td>0.920</td>\n",
       "      <td>46</td>\n",
       "      <td>0</td>\n",
       "      <td>0</td>\n",
       "      <td>0</td>\n",
       "      <td>0</td>\n",
       "      <td>1</td>\n",
       "      <td>0</td>\n",
       "      <td>0</td>\n",
       "      <td>...</td>\n",
       "      <td>0</td>\n",
       "      <td>0</td>\n",
       "      <td>0</td>\n",
       "      <td>1</td>\n",
       "      <td>1</td>\n",
       "      <td>0</td>\n",
       "      <td>0</td>\n",
       "      <td>0</td>\n",
       "      <td>0</td>\n",
       "      <td>0</td>\n",
       "    </tr>\n",
       "    <tr>\n",
       "      <th>11</th>\n",
       "      <td>23853</td>\n",
       "      <td>0.920</td>\n",
       "      <td>108</td>\n",
       "      <td>0</td>\n",
       "      <td>0</td>\n",
       "      <td>0</td>\n",
       "      <td>0</td>\n",
       "      <td>1</td>\n",
       "      <td>0</td>\n",
       "      <td>0</td>\n",
       "      <td>...</td>\n",
       "      <td>0</td>\n",
       "      <td>0</td>\n",
       "      <td>0</td>\n",
       "      <td>1</td>\n",
       "      <td>1</td>\n",
       "      <td>0</td>\n",
       "      <td>0</td>\n",
       "      <td>0</td>\n",
       "      <td>0</td>\n",
       "      <td>0</td>\n",
       "    </tr>\n",
       "    <tr>\n",
       "      <th>...</th>\n",
       "      <td>...</td>\n",
       "      <td>...</td>\n",
       "      <td>...</td>\n",
       "      <td>...</td>\n",
       "      <td>...</td>\n",
       "      <td>...</td>\n",
       "      <td>...</td>\n",
       "      <td>...</td>\n",
       "      <td>...</td>\n",
       "      <td>...</td>\n",
       "      <td>...</td>\n",
       "      <td>...</td>\n",
       "      <td>...</td>\n",
       "      <td>...</td>\n",
       "      <td>...</td>\n",
       "      <td>...</td>\n",
       "      <td>...</td>\n",
       "      <td>...</td>\n",
       "      <td>...</td>\n",
       "      <td>...</td>\n",
       "      <td>...</td>\n",
       "    </tr>\n",
       "    <tr>\n",
       "      <th>19147</th>\n",
       "      <td>21319</td>\n",
       "      <td>0.624</td>\n",
       "      <td>52</td>\n",
       "      <td>0</td>\n",
       "      <td>0</td>\n",
       "      <td>0</td>\n",
       "      <td>0</td>\n",
       "      <td>0</td>\n",
       "      <td>0</td>\n",
       "      <td>0</td>\n",
       "      <td>...</td>\n",
       "      <td>0</td>\n",
       "      <td>0</td>\n",
       "      <td>0</td>\n",
       "      <td>1</td>\n",
       "      <td>1</td>\n",
       "      <td>0</td>\n",
       "      <td>0</td>\n",
       "      <td>0</td>\n",
       "      <td>0</td>\n",
       "      <td>0</td>\n",
       "    </tr>\n",
       "    <tr>\n",
       "      <th>19149</th>\n",
       "      <td>251</td>\n",
       "      <td>0.920</td>\n",
       "      <td>36</td>\n",
       "      <td>0</td>\n",
       "      <td>0</td>\n",
       "      <td>0</td>\n",
       "      <td>0</td>\n",
       "      <td>1</td>\n",
       "      <td>0</td>\n",
       "      <td>0</td>\n",
       "      <td>...</td>\n",
       "      <td>0</td>\n",
       "      <td>0</td>\n",
       "      <td>0</td>\n",
       "      <td>1</td>\n",
       "      <td>1</td>\n",
       "      <td>0</td>\n",
       "      <td>0</td>\n",
       "      <td>0</td>\n",
       "      <td>0</td>\n",
       "      <td>0</td>\n",
       "    </tr>\n",
       "    <tr>\n",
       "      <th>19150</th>\n",
       "      <td>32313</td>\n",
       "      <td>0.920</td>\n",
       "      <td>23</td>\n",
       "      <td>0</td>\n",
       "      <td>0</td>\n",
       "      <td>0</td>\n",
       "      <td>0</td>\n",
       "      <td>0</td>\n",
       "      <td>0</td>\n",
       "      <td>0</td>\n",
       "      <td>...</td>\n",
       "      <td>0</td>\n",
       "      <td>0</td>\n",
       "      <td>1</td>\n",
       "      <td>0</td>\n",
       "      <td>0</td>\n",
       "      <td>0</td>\n",
       "      <td>1</td>\n",
       "      <td>0</td>\n",
       "      <td>0</td>\n",
       "      <td>0</td>\n",
       "    </tr>\n",
       "    <tr>\n",
       "      <th>19152</th>\n",
       "      <td>29754</td>\n",
       "      <td>0.920</td>\n",
       "      <td>25</td>\n",
       "      <td>0</td>\n",
       "      <td>0</td>\n",
       "      <td>0</td>\n",
       "      <td>0</td>\n",
       "      <td>1</td>\n",
       "      <td>0</td>\n",
       "      <td>0</td>\n",
       "      <td>...</td>\n",
       "      <td>0</td>\n",
       "      <td>0</td>\n",
       "      <td>0</td>\n",
       "      <td>0</td>\n",
       "      <td>1</td>\n",
       "      <td>0</td>\n",
       "      <td>0</td>\n",
       "      <td>0</td>\n",
       "      <td>0</td>\n",
       "      <td>0</td>\n",
       "    </tr>\n",
       "    <tr>\n",
       "      <th>19155</th>\n",
       "      <td>24576</td>\n",
       "      <td>0.920</td>\n",
       "      <td>44</td>\n",
       "      <td>0</td>\n",
       "      <td>0</td>\n",
       "      <td>0</td>\n",
       "      <td>0</td>\n",
       "      <td>1</td>\n",
       "      <td>0</td>\n",
       "      <td>0</td>\n",
       "      <td>...</td>\n",
       "      <td>0</td>\n",
       "      <td>0</td>\n",
       "      <td>0</td>\n",
       "      <td>1</td>\n",
       "      <td>0</td>\n",
       "      <td>0</td>\n",
       "      <td>0</td>\n",
       "      <td>1</td>\n",
       "      <td>0</td>\n",
       "      <td>0</td>\n",
       "    </tr>\n",
       "  </tbody>\n",
       "</table>\n",
       "<p>8955 rows × 150 columns</p>\n",
       "</div>"
      ],
      "text/plain": [
       "       enrollee_id  city_development_index  training_hours  city_10  city_100  \\\n",
       "1            29725                   0.776              47        0         0   \n",
       "4              666                   0.767               8        0         0   \n",
       "7              402                   0.762              18        0         0   \n",
       "8            27107                   0.920              46        0         0   \n",
       "11           23853                   0.920             108        0         0   \n",
       "...            ...                     ...             ...      ...       ...   \n",
       "19147        21319                   0.624              52        0         0   \n",
       "19149          251                   0.920              36        0         0   \n",
       "19150        32313                   0.920              23        0         0   \n",
       "19152        29754                   0.920              25        0         0   \n",
       "19155        24576                   0.920              44        0         0   \n",
       "\n",
       "       city_101  city_102  city_103  city_104  city_105  ...  NGO  Other  \\\n",
       "1             0         0         0         0         0  ...    0      0   \n",
       "4             0         0         0         0         0  ...    0      0   \n",
       "7             0         0         0         0         0  ...    0      0   \n",
       "8             0         0         1         0         0  ...    0      0   \n",
       "11            0         0         1         0         0  ...    0      0   \n",
       "...         ...       ...       ...       ...       ...  ...  ...    ...   \n",
       "19147         0         0         0         0         0  ...    0      0   \n",
       "19149         0         0         1         0         0  ...    0      0   \n",
       "19150         0         0         0         0         0  ...    0      0   \n",
       "19152         0         0         1         0         0  ...    0      0   \n",
       "19155         0         0         1         0         0  ...    0      0   \n",
       "\n",
       "       Public Sector  Pvt Ltd  1  2  3  4  >4  never  \n",
       "1                  0        1  0  0  0  0   1      0  \n",
       "4                  0        0  0  0  0  1   0      0  \n",
       "7                  0        1  0  0  0  0   1      0  \n",
       "8                  0        1  1  0  0  0   0      0  \n",
       "11                 0        1  1  0  0  0   0      0  \n",
       "...              ...      ... .. .. .. ..  ..    ...  \n",
       "19147              0        1  1  0  0  0   0      0  \n",
       "19149              0        1  1  0  0  0   0      0  \n",
       "19150              1        0  0  0  1  0   0      0  \n",
       "19152              0        0  1  0  0  0   0      0  \n",
       "19155              0        1  0  0  0  1   0      0  \n",
       "\n",
       "[8955 rows x 150 columns]"
      ]
     },
     "execution_count": 83,
     "metadata": {},
     "output_type": "execute_result"
    }
   ],
   "source": [
    "X"
   ]
  },
  {
   "cell_type": "code",
   "execution_count": 84,
   "metadata": {
    "execution": {
     "iopub.execute_input": "2021-03-03T13:34:00.942338Z",
     "iopub.status.busy": "2021-03-03T13:34:00.941278Z",
     "iopub.status.idle": "2021-03-03T13:34:00.951612Z",
     "shell.execute_reply": "2021-03-03T13:34:00.952117Z"
    },
    "papermill": {
     "duration": 0.14062,
     "end_time": "2021-03-03T13:34:00.952309",
     "exception": false,
     "start_time": "2021-03-03T13:34:00.811689",
     "status": "completed"
    },
    "tags": []
   },
   "outputs": [],
   "source": [
    "X_train, X_valid, y_train, y_valid = train_test_split(X, y, shuffle=True, random_state=1, test_size=0.3)"
   ]
  },
  {
   "cell_type": "code",
   "execution_count": 85,
   "metadata": {
    "execution": {
     "iopub.execute_input": "2021-03-03T13:34:01.209985Z",
     "iopub.status.busy": "2021-03-03T13:34:01.209015Z",
     "iopub.status.idle": "2021-03-03T13:34:01.239270Z",
     "shell.execute_reply": "2021-03-03T13:34:01.238611Z"
    },
    "papermill": {
     "duration": 0.158854,
     "end_time": "2021-03-03T13:34:01.239433",
     "exception": false,
     "start_time": "2021-03-03T13:34:01.080579",
     "status": "completed"
    },
    "tags": []
   },
   "outputs": [
    {
     "data": {
      "text/html": [
       "<div>\n",
       "<style scoped>\n",
       "    .dataframe tbody tr th:only-of-type {\n",
       "        vertical-align: middle;\n",
       "    }\n",
       "\n",
       "    .dataframe tbody tr th {\n",
       "        vertical-align: top;\n",
       "    }\n",
       "\n",
       "    .dataframe thead th {\n",
       "        text-align: right;\n",
       "    }\n",
       "</style>\n",
       "<table border=\"1\" class=\"dataframe\">\n",
       "  <thead>\n",
       "    <tr style=\"text-align: right;\">\n",
       "      <th></th>\n",
       "      <th>enrollee_id</th>\n",
       "      <th>city_development_index</th>\n",
       "      <th>training_hours</th>\n",
       "      <th>city_10</th>\n",
       "      <th>city_100</th>\n",
       "      <th>city_101</th>\n",
       "      <th>city_102</th>\n",
       "      <th>city_103</th>\n",
       "      <th>city_104</th>\n",
       "      <th>city_105</th>\n",
       "      <th>...</th>\n",
       "      <th>NGO</th>\n",
       "      <th>Other</th>\n",
       "      <th>Public Sector</th>\n",
       "      <th>Pvt Ltd</th>\n",
       "      <th>1</th>\n",
       "      <th>2</th>\n",
       "      <th>3</th>\n",
       "      <th>4</th>\n",
       "      <th>&gt;4</th>\n",
       "      <th>never</th>\n",
       "    </tr>\n",
       "  </thead>\n",
       "  <tbody>\n",
       "    <tr>\n",
       "      <th>15590</th>\n",
       "      <td>7729</td>\n",
       "      <td>0.624</td>\n",
       "      <td>42</td>\n",
       "      <td>0</td>\n",
       "      <td>0</td>\n",
       "      <td>0</td>\n",
       "      <td>0</td>\n",
       "      <td>0</td>\n",
       "      <td>0</td>\n",
       "      <td>0</td>\n",
       "      <td>...</td>\n",
       "      <td>0</td>\n",
       "      <td>0</td>\n",
       "      <td>0</td>\n",
       "      <td>0</td>\n",
       "      <td>0</td>\n",
       "      <td>1</td>\n",
       "      <td>0</td>\n",
       "      <td>0</td>\n",
       "      <td>0</td>\n",
       "      <td>0</td>\n",
       "    </tr>\n",
       "    <tr>\n",
       "      <th>18064</th>\n",
       "      <td>2845</td>\n",
       "      <td>0.804</td>\n",
       "      <td>45</td>\n",
       "      <td>0</td>\n",
       "      <td>0</td>\n",
       "      <td>0</td>\n",
       "      <td>1</td>\n",
       "      <td>0</td>\n",
       "      <td>0</td>\n",
       "      <td>0</td>\n",
       "      <td>...</td>\n",
       "      <td>0</td>\n",
       "      <td>0</td>\n",
       "      <td>0</td>\n",
       "      <td>1</td>\n",
       "      <td>1</td>\n",
       "      <td>0</td>\n",
       "      <td>0</td>\n",
       "      <td>0</td>\n",
       "      <td>0</td>\n",
       "      <td>0</td>\n",
       "    </tr>\n",
       "    <tr>\n",
       "      <th>18357</th>\n",
       "      <td>22109</td>\n",
       "      <td>0.624</td>\n",
       "      <td>68</td>\n",
       "      <td>0</td>\n",
       "      <td>0</td>\n",
       "      <td>0</td>\n",
       "      <td>0</td>\n",
       "      <td>0</td>\n",
       "      <td>0</td>\n",
       "      <td>0</td>\n",
       "      <td>...</td>\n",
       "      <td>0</td>\n",
       "      <td>0</td>\n",
       "      <td>0</td>\n",
       "      <td>0</td>\n",
       "      <td>0</td>\n",
       "      <td>0</td>\n",
       "      <td>0</td>\n",
       "      <td>0</td>\n",
       "      <td>0</td>\n",
       "      <td>1</td>\n",
       "    </tr>\n",
       "    <tr>\n",
       "      <th>9063</th>\n",
       "      <td>1394</td>\n",
       "      <td>0.895</td>\n",
       "      <td>22</td>\n",
       "      <td>1</td>\n",
       "      <td>0</td>\n",
       "      <td>0</td>\n",
       "      <td>0</td>\n",
       "      <td>0</td>\n",
       "      <td>0</td>\n",
       "      <td>0</td>\n",
       "      <td>...</td>\n",
       "      <td>0</td>\n",
       "      <td>0</td>\n",
       "      <td>0</td>\n",
       "      <td>0</td>\n",
       "      <td>0</td>\n",
       "      <td>0</td>\n",
       "      <td>0</td>\n",
       "      <td>1</td>\n",
       "      <td>0</td>\n",
       "      <td>0</td>\n",
       "    </tr>\n",
       "    <tr>\n",
       "      <th>4653</th>\n",
       "      <td>19206</td>\n",
       "      <td>0.920</td>\n",
       "      <td>15</td>\n",
       "      <td>0</td>\n",
       "      <td>0</td>\n",
       "      <td>0</td>\n",
       "      <td>0</td>\n",
       "      <td>1</td>\n",
       "      <td>0</td>\n",
       "      <td>0</td>\n",
       "      <td>...</td>\n",
       "      <td>0</td>\n",
       "      <td>0</td>\n",
       "      <td>1</td>\n",
       "      <td>0</td>\n",
       "      <td>1</td>\n",
       "      <td>0</td>\n",
       "      <td>0</td>\n",
       "      <td>0</td>\n",
       "      <td>0</td>\n",
       "      <td>0</td>\n",
       "    </tr>\n",
       "    <tr>\n",
       "      <th>...</th>\n",
       "      <td>...</td>\n",
       "      <td>...</td>\n",
       "      <td>...</td>\n",
       "      <td>...</td>\n",
       "      <td>...</td>\n",
       "      <td>...</td>\n",
       "      <td>...</td>\n",
       "      <td>...</td>\n",
       "      <td>...</td>\n",
       "      <td>...</td>\n",
       "      <td>...</td>\n",
       "      <td>...</td>\n",
       "      <td>...</td>\n",
       "      <td>...</td>\n",
       "      <td>...</td>\n",
       "      <td>...</td>\n",
       "      <td>...</td>\n",
       "      <td>...</td>\n",
       "      <td>...</td>\n",
       "      <td>...</td>\n",
       "      <td>...</td>\n",
       "    </tr>\n",
       "    <tr>\n",
       "      <th>6041</th>\n",
       "      <td>27528</td>\n",
       "      <td>0.920</td>\n",
       "      <td>8</td>\n",
       "      <td>0</td>\n",
       "      <td>0</td>\n",
       "      <td>0</td>\n",
       "      <td>0</td>\n",
       "      <td>1</td>\n",
       "      <td>0</td>\n",
       "      <td>0</td>\n",
       "      <td>...</td>\n",
       "      <td>0</td>\n",
       "      <td>0</td>\n",
       "      <td>0</td>\n",
       "      <td>1</td>\n",
       "      <td>0</td>\n",
       "      <td>0</td>\n",
       "      <td>1</td>\n",
       "      <td>0</td>\n",
       "      <td>0</td>\n",
       "      <td>0</td>\n",
       "    </tr>\n",
       "    <tr>\n",
       "      <th>16712</th>\n",
       "      <td>7549</td>\n",
       "      <td>0.920</td>\n",
       "      <td>14</td>\n",
       "      <td>0</td>\n",
       "      <td>0</td>\n",
       "      <td>0</td>\n",
       "      <td>0</td>\n",
       "      <td>1</td>\n",
       "      <td>0</td>\n",
       "      <td>0</td>\n",
       "      <td>...</td>\n",
       "      <td>0</td>\n",
       "      <td>0</td>\n",
       "      <td>0</td>\n",
       "      <td>1</td>\n",
       "      <td>0</td>\n",
       "      <td>0</td>\n",
       "      <td>0</td>\n",
       "      <td>0</td>\n",
       "      <td>1</td>\n",
       "      <td>0</td>\n",
       "    </tr>\n",
       "    <tr>\n",
       "      <th>1916</th>\n",
       "      <td>3742</td>\n",
       "      <td>0.920</td>\n",
       "      <td>47</td>\n",
       "      <td>0</td>\n",
       "      <td>0</td>\n",
       "      <td>0</td>\n",
       "      <td>0</td>\n",
       "      <td>1</td>\n",
       "      <td>0</td>\n",
       "      <td>0</td>\n",
       "      <td>...</td>\n",
       "      <td>0</td>\n",
       "      <td>0</td>\n",
       "      <td>0</td>\n",
       "      <td>1</td>\n",
       "      <td>0</td>\n",
       "      <td>0</td>\n",
       "      <td>0</td>\n",
       "      <td>0</td>\n",
       "      <td>1</td>\n",
       "      <td>0</td>\n",
       "    </tr>\n",
       "    <tr>\n",
       "      <th>11019</th>\n",
       "      <td>154</td>\n",
       "      <td>0.754</td>\n",
       "      <td>31</td>\n",
       "      <td>0</td>\n",
       "      <td>0</td>\n",
       "      <td>0</td>\n",
       "      <td>0</td>\n",
       "      <td>0</td>\n",
       "      <td>0</td>\n",
       "      <td>0</td>\n",
       "      <td>...</td>\n",
       "      <td>0</td>\n",
       "      <td>0</td>\n",
       "      <td>1</td>\n",
       "      <td>0</td>\n",
       "      <td>1</td>\n",
       "      <td>0</td>\n",
       "      <td>0</td>\n",
       "      <td>0</td>\n",
       "      <td>0</td>\n",
       "      <td>0</td>\n",
       "    </tr>\n",
       "    <tr>\n",
       "      <th>492</th>\n",
       "      <td>24366</td>\n",
       "      <td>0.624</td>\n",
       "      <td>78</td>\n",
       "      <td>0</td>\n",
       "      <td>0</td>\n",
       "      <td>0</td>\n",
       "      <td>0</td>\n",
       "      <td>0</td>\n",
       "      <td>0</td>\n",
       "      <td>0</td>\n",
       "      <td>...</td>\n",
       "      <td>0</td>\n",
       "      <td>0</td>\n",
       "      <td>0</td>\n",
       "      <td>1</td>\n",
       "      <td>0</td>\n",
       "      <td>0</td>\n",
       "      <td>0</td>\n",
       "      <td>1</td>\n",
       "      <td>0</td>\n",
       "      <td>0</td>\n",
       "    </tr>\n",
       "  </tbody>\n",
       "</table>\n",
       "<p>6268 rows × 150 columns</p>\n",
       "</div>"
      ],
      "text/plain": [
       "       enrollee_id  city_development_index  training_hours  city_10  city_100  \\\n",
       "15590         7729                   0.624              42        0         0   \n",
       "18064         2845                   0.804              45        0         0   \n",
       "18357        22109                   0.624              68        0         0   \n",
       "9063          1394                   0.895              22        1         0   \n",
       "4653         19206                   0.920              15        0         0   \n",
       "...            ...                     ...             ...      ...       ...   \n",
       "6041         27528                   0.920               8        0         0   \n",
       "16712         7549                   0.920              14        0         0   \n",
       "1916          3742                   0.920              47        0         0   \n",
       "11019          154                   0.754              31        0         0   \n",
       "492          24366                   0.624              78        0         0   \n",
       "\n",
       "       city_101  city_102  city_103  city_104  city_105  ...  NGO  Other  \\\n",
       "15590         0         0         0         0         0  ...    0      0   \n",
       "18064         0         1         0         0         0  ...    0      0   \n",
       "18357         0         0         0         0         0  ...    0      0   \n",
       "9063          0         0         0         0         0  ...    0      0   \n",
       "4653          0         0         1         0         0  ...    0      0   \n",
       "...         ...       ...       ...       ...       ...  ...  ...    ...   \n",
       "6041          0         0         1         0         0  ...    0      0   \n",
       "16712         0         0         1         0         0  ...    0      0   \n",
       "1916          0         0         1         0         0  ...    0      0   \n",
       "11019         0         0         0         0         0  ...    0      0   \n",
       "492           0         0         0         0         0  ...    0      0   \n",
       "\n",
       "       Public Sector  Pvt Ltd  1  2  3  4  >4  never  \n",
       "15590              0        0  0  1  0  0   0      0  \n",
       "18064              0        1  1  0  0  0   0      0  \n",
       "18357              0        0  0  0  0  0   0      1  \n",
       "9063               0        0  0  0  0  1   0      0  \n",
       "4653               1        0  1  0  0  0   0      0  \n",
       "...              ...      ... .. .. .. ..  ..    ...  \n",
       "6041               0        1  0  0  1  0   0      0  \n",
       "16712              0        1  0  0  0  0   1      0  \n",
       "1916               0        1  0  0  0  0   1      0  \n",
       "11019              1        0  1  0  0  0   0      0  \n",
       "492                0        1  0  0  0  1   0      0  \n",
       "\n",
       "[6268 rows x 150 columns]"
      ]
     },
     "execution_count": 85,
     "metadata": {},
     "output_type": "execute_result"
    }
   ],
   "source": [
    "X_train"
   ]
  },
  {
   "cell_type": "code",
   "execution_count": 86,
   "metadata": {
    "execution": {
     "iopub.execute_input": "2021-03-03T13:34:01.510887Z",
     "iopub.status.busy": "2021-03-03T13:34:01.510222Z",
     "iopub.status.idle": "2021-03-03T13:34:01.537990Z",
     "shell.execute_reply": "2021-03-03T13:34:01.537246Z"
    },
    "papermill": {
     "duration": 0.168483,
     "end_time": "2021-03-03T13:34:01.538153",
     "exception": false,
     "start_time": "2021-03-03T13:34:01.369670",
     "status": "completed"
    },
    "tags": []
   },
   "outputs": [
    {
     "data": {
      "text/html": [
       "<div>\n",
       "<style scoped>\n",
       "    .dataframe tbody tr th:only-of-type {\n",
       "        vertical-align: middle;\n",
       "    }\n",
       "\n",
       "    .dataframe tbody tr th {\n",
       "        vertical-align: top;\n",
       "    }\n",
       "\n",
       "    .dataframe thead th {\n",
       "        text-align: right;\n",
       "    }\n",
       "</style>\n",
       "<table border=\"1\" class=\"dataframe\">\n",
       "  <thead>\n",
       "    <tr style=\"text-align: right;\">\n",
       "      <th></th>\n",
       "      <th>enrollee_id</th>\n",
       "      <th>city_development_index</th>\n",
       "      <th>training_hours</th>\n",
       "      <th>city_10</th>\n",
       "      <th>city_100</th>\n",
       "      <th>city_101</th>\n",
       "      <th>city_102</th>\n",
       "      <th>city_103</th>\n",
       "      <th>city_104</th>\n",
       "      <th>city_105</th>\n",
       "      <th>...</th>\n",
       "      <th>NGO</th>\n",
       "      <th>Other</th>\n",
       "      <th>Public Sector</th>\n",
       "      <th>Pvt Ltd</th>\n",
       "      <th>1</th>\n",
       "      <th>2</th>\n",
       "      <th>3</th>\n",
       "      <th>4</th>\n",
       "      <th>&gt;4</th>\n",
       "      <th>never</th>\n",
       "    </tr>\n",
       "  </thead>\n",
       "  <tbody>\n",
       "    <tr>\n",
       "      <th>13337</th>\n",
       "      <td>28933</td>\n",
       "      <td>0.624</td>\n",
       "      <td>156</td>\n",
       "      <td>0</td>\n",
       "      <td>0</td>\n",
       "      <td>0</td>\n",
       "      <td>0</td>\n",
       "      <td>0</td>\n",
       "      <td>0</td>\n",
       "      <td>0</td>\n",
       "      <td>...</td>\n",
       "      <td>0</td>\n",
       "      <td>0</td>\n",
       "      <td>0</td>\n",
       "      <td>1</td>\n",
       "      <td>1</td>\n",
       "      <td>0</td>\n",
       "      <td>0</td>\n",
       "      <td>0</td>\n",
       "      <td>0</td>\n",
       "      <td>0</td>\n",
       "    </tr>\n",
       "    <tr>\n",
       "      <th>10598</th>\n",
       "      <td>5761</td>\n",
       "      <td>0.896</td>\n",
       "      <td>109</td>\n",
       "      <td>0</td>\n",
       "      <td>0</td>\n",
       "      <td>0</td>\n",
       "      <td>0</td>\n",
       "      <td>0</td>\n",
       "      <td>0</td>\n",
       "      <td>0</td>\n",
       "      <td>...</td>\n",
       "      <td>0</td>\n",
       "      <td>0</td>\n",
       "      <td>0</td>\n",
       "      <td>1</td>\n",
       "      <td>1</td>\n",
       "      <td>0</td>\n",
       "      <td>0</td>\n",
       "      <td>0</td>\n",
       "      <td>0</td>\n",
       "      <td>0</td>\n",
       "    </tr>\n",
       "    <tr>\n",
       "      <th>596</th>\n",
       "      <td>15259</td>\n",
       "      <td>0.920</td>\n",
       "      <td>46</td>\n",
       "      <td>0</td>\n",
       "      <td>0</td>\n",
       "      <td>0</td>\n",
       "      <td>0</td>\n",
       "      <td>1</td>\n",
       "      <td>0</td>\n",
       "      <td>0</td>\n",
       "      <td>...</td>\n",
       "      <td>0</td>\n",
       "      <td>0</td>\n",
       "      <td>0</td>\n",
       "      <td>1</td>\n",
       "      <td>0</td>\n",
       "      <td>0</td>\n",
       "      <td>0</td>\n",
       "      <td>0</td>\n",
       "      <td>1</td>\n",
       "      <td>0</td>\n",
       "    </tr>\n",
       "    <tr>\n",
       "      <th>19047</th>\n",
       "      <td>10182</td>\n",
       "      <td>0.920</td>\n",
       "      <td>60</td>\n",
       "      <td>0</td>\n",
       "      <td>0</td>\n",
       "      <td>0</td>\n",
       "      <td>0</td>\n",
       "      <td>1</td>\n",
       "      <td>0</td>\n",
       "      <td>0</td>\n",
       "      <td>...</td>\n",
       "      <td>0</td>\n",
       "      <td>0</td>\n",
       "      <td>0</td>\n",
       "      <td>1</td>\n",
       "      <td>0</td>\n",
       "      <td>1</td>\n",
       "      <td>0</td>\n",
       "      <td>0</td>\n",
       "      <td>0</td>\n",
       "      <td>0</td>\n",
       "    </tr>\n",
       "    <tr>\n",
       "      <th>15395</th>\n",
       "      <td>23100</td>\n",
       "      <td>0.920</td>\n",
       "      <td>2</td>\n",
       "      <td>0</td>\n",
       "      <td>0</td>\n",
       "      <td>0</td>\n",
       "      <td>0</td>\n",
       "      <td>1</td>\n",
       "      <td>0</td>\n",
       "      <td>0</td>\n",
       "      <td>...</td>\n",
       "      <td>0</td>\n",
       "      <td>0</td>\n",
       "      <td>0</td>\n",
       "      <td>1</td>\n",
       "      <td>0</td>\n",
       "      <td>0</td>\n",
       "      <td>1</td>\n",
       "      <td>0</td>\n",
       "      <td>0</td>\n",
       "      <td>0</td>\n",
       "    </tr>\n",
       "    <tr>\n",
       "      <th>...</th>\n",
       "      <td>...</td>\n",
       "      <td>...</td>\n",
       "      <td>...</td>\n",
       "      <td>...</td>\n",
       "      <td>...</td>\n",
       "      <td>...</td>\n",
       "      <td>...</td>\n",
       "      <td>...</td>\n",
       "      <td>...</td>\n",
       "      <td>...</td>\n",
       "      <td>...</td>\n",
       "      <td>...</td>\n",
       "      <td>...</td>\n",
       "      <td>...</td>\n",
       "      <td>...</td>\n",
       "      <td>...</td>\n",
       "      <td>...</td>\n",
       "      <td>...</td>\n",
       "      <td>...</td>\n",
       "      <td>...</td>\n",
       "      <td>...</td>\n",
       "    </tr>\n",
       "    <tr>\n",
       "      <th>6194</th>\n",
       "      <td>54</td>\n",
       "      <td>0.754</td>\n",
       "      <td>34</td>\n",
       "      <td>0</td>\n",
       "      <td>0</td>\n",
       "      <td>0</td>\n",
       "      <td>0</td>\n",
       "      <td>0</td>\n",
       "      <td>0</td>\n",
       "      <td>0</td>\n",
       "      <td>...</td>\n",
       "      <td>1</td>\n",
       "      <td>0</td>\n",
       "      <td>0</td>\n",
       "      <td>0</td>\n",
       "      <td>1</td>\n",
       "      <td>0</td>\n",
       "      <td>0</td>\n",
       "      <td>0</td>\n",
       "      <td>0</td>\n",
       "      <td>0</td>\n",
       "    </tr>\n",
       "    <tr>\n",
       "      <th>8334</th>\n",
       "      <td>28256</td>\n",
       "      <td>0.924</td>\n",
       "      <td>28</td>\n",
       "      <td>0</td>\n",
       "      <td>0</td>\n",
       "      <td>0</td>\n",
       "      <td>0</td>\n",
       "      <td>0</td>\n",
       "      <td>1</td>\n",
       "      <td>0</td>\n",
       "      <td>...</td>\n",
       "      <td>0</td>\n",
       "      <td>0</td>\n",
       "      <td>0</td>\n",
       "      <td>1</td>\n",
       "      <td>1</td>\n",
       "      <td>0</td>\n",
       "      <td>0</td>\n",
       "      <td>0</td>\n",
       "      <td>0</td>\n",
       "      <td>0</td>\n",
       "    </tr>\n",
       "    <tr>\n",
       "      <th>8069</th>\n",
       "      <td>11375</td>\n",
       "      <td>0.920</td>\n",
       "      <td>50</td>\n",
       "      <td>0</td>\n",
       "      <td>0</td>\n",
       "      <td>0</td>\n",
       "      <td>0</td>\n",
       "      <td>1</td>\n",
       "      <td>0</td>\n",
       "      <td>0</td>\n",
       "      <td>...</td>\n",
       "      <td>0</td>\n",
       "      <td>0</td>\n",
       "      <td>0</td>\n",
       "      <td>1</td>\n",
       "      <td>1</td>\n",
       "      <td>0</td>\n",
       "      <td>0</td>\n",
       "      <td>0</td>\n",
       "      <td>0</td>\n",
       "      <td>0</td>\n",
       "    </tr>\n",
       "    <tr>\n",
       "      <th>76</th>\n",
       "      <td>22683</td>\n",
       "      <td>0.893</td>\n",
       "      <td>65</td>\n",
       "      <td>0</td>\n",
       "      <td>0</td>\n",
       "      <td>0</td>\n",
       "      <td>0</td>\n",
       "      <td>0</td>\n",
       "      <td>0</td>\n",
       "      <td>0</td>\n",
       "      <td>...</td>\n",
       "      <td>0</td>\n",
       "      <td>0</td>\n",
       "      <td>0</td>\n",
       "      <td>1</td>\n",
       "      <td>0</td>\n",
       "      <td>1</td>\n",
       "      <td>0</td>\n",
       "      <td>0</td>\n",
       "      <td>0</td>\n",
       "      <td>0</td>\n",
       "    </tr>\n",
       "    <tr>\n",
       "      <th>13039</th>\n",
       "      <td>7853</td>\n",
       "      <td>0.840</td>\n",
       "      <td>11</td>\n",
       "      <td>0</td>\n",
       "      <td>0</td>\n",
       "      <td>0</td>\n",
       "      <td>0</td>\n",
       "      <td>0</td>\n",
       "      <td>0</td>\n",
       "      <td>0</td>\n",
       "      <td>...</td>\n",
       "      <td>0</td>\n",
       "      <td>0</td>\n",
       "      <td>0</td>\n",
       "      <td>1</td>\n",
       "      <td>1</td>\n",
       "      <td>0</td>\n",
       "      <td>0</td>\n",
       "      <td>0</td>\n",
       "      <td>0</td>\n",
       "      <td>0</td>\n",
       "    </tr>\n",
       "  </tbody>\n",
       "</table>\n",
       "<p>2687 rows × 150 columns</p>\n",
       "</div>"
      ],
      "text/plain": [
       "       enrollee_id  city_development_index  training_hours  city_10  city_100  \\\n",
       "13337        28933                   0.624             156        0         0   \n",
       "10598         5761                   0.896             109        0         0   \n",
       "596          15259                   0.920              46        0         0   \n",
       "19047        10182                   0.920              60        0         0   \n",
       "15395        23100                   0.920               2        0         0   \n",
       "...            ...                     ...             ...      ...       ...   \n",
       "6194            54                   0.754              34        0         0   \n",
       "8334         28256                   0.924              28        0         0   \n",
       "8069         11375                   0.920              50        0         0   \n",
       "76           22683                   0.893              65        0         0   \n",
       "13039         7853                   0.840              11        0         0   \n",
       "\n",
       "       city_101  city_102  city_103  city_104  city_105  ...  NGO  Other  \\\n",
       "13337         0         0         0         0         0  ...    0      0   \n",
       "10598         0         0         0         0         0  ...    0      0   \n",
       "596           0         0         1         0         0  ...    0      0   \n",
       "19047         0         0         1         0         0  ...    0      0   \n",
       "15395         0         0         1         0         0  ...    0      0   \n",
       "...         ...       ...       ...       ...       ...  ...  ...    ...   \n",
       "6194          0         0         0         0         0  ...    1      0   \n",
       "8334          0         0         0         1         0  ...    0      0   \n",
       "8069          0         0         1         0         0  ...    0      0   \n",
       "76            0         0         0         0         0  ...    0      0   \n",
       "13039         0         0         0         0         0  ...    0      0   \n",
       "\n",
       "       Public Sector  Pvt Ltd  1  2  3  4  >4  never  \n",
       "13337              0        1  1  0  0  0   0      0  \n",
       "10598              0        1  1  0  0  0   0      0  \n",
       "596                0        1  0  0  0  0   1      0  \n",
       "19047              0        1  0  1  0  0   0      0  \n",
       "15395              0        1  0  0  1  0   0      0  \n",
       "...              ...      ... .. .. .. ..  ..    ...  \n",
       "6194               0        0  1  0  0  0   0      0  \n",
       "8334               0        1  1  0  0  0   0      0  \n",
       "8069               0        1  1  0  0  0   0      0  \n",
       "76                 0        1  0  1  0  0   0      0  \n",
       "13039              0        1  1  0  0  0   0      0  \n",
       "\n",
       "[2687 rows x 150 columns]"
      ]
     },
     "execution_count": 86,
     "metadata": {},
     "output_type": "execute_result"
    }
   ],
   "source": [
    "X_valid"
   ]
  },
  {
   "cell_type": "code",
   "execution_count": 87,
   "metadata": {
    "execution": {
     "iopub.execute_input": "2021-03-03T13:34:01.850502Z",
     "iopub.status.busy": "2021-03-03T13:34:01.849404Z",
     "iopub.status.idle": "2021-03-03T13:34:01.855856Z",
     "shell.execute_reply": "2021-03-03T13:34:01.855214Z"
    },
    "papermill": {
     "duration": 0.172274,
     "end_time": "2021-03-03T13:34:01.856017",
     "exception": false,
     "start_time": "2021-03-03T13:34:01.683743",
     "status": "completed"
    },
    "tags": []
   },
   "outputs": [
    {
     "data": {
      "text/plain": [
       "15590    0.0\n",
       "18064    0.0\n",
       "18357    1.0\n",
       "9063     0.0\n",
       "4653     0.0\n",
       "        ... \n",
       "6041     0.0\n",
       "16712    0.0\n",
       "1916     0.0\n",
       "11019    0.0\n",
       "492      1.0\n",
       "Name: target, Length: 6268, dtype: float64"
      ]
     },
     "execution_count": 87,
     "metadata": {},
     "output_type": "execute_result"
    }
   ],
   "source": [
    "y_train"
   ]
  },
  {
   "cell_type": "code",
   "execution_count": 88,
   "metadata": {
    "execution": {
     "iopub.execute_input": "2021-03-03T13:34:02.159298Z",
     "iopub.status.busy": "2021-03-03T13:34:02.158376Z",
     "iopub.status.idle": "2021-03-03T13:34:02.163724Z",
     "shell.execute_reply": "2021-03-03T13:34:02.163136Z"
    },
    "papermill": {
     "duration": 0.14334,
     "end_time": "2021-03-03T13:34:02.163913",
     "exception": false,
     "start_time": "2021-03-03T13:34:02.020573",
     "status": "completed"
    },
    "tags": []
   },
   "outputs": [
    {
     "data": {
      "text/plain": [
       "13337    0.0\n",
       "10598    0.0\n",
       "596      0.0\n",
       "19047    0.0\n",
       "15395    0.0\n",
       "        ... \n",
       "6194     0.0\n",
       "8334     0.0\n",
       "8069     0.0\n",
       "76       0.0\n",
       "13039    1.0\n",
       "Name: target, Length: 2687, dtype: float64"
      ]
     },
     "execution_count": 88,
     "metadata": {},
     "output_type": "execute_result"
    }
   ],
   "source": [
    "y_valid"
   ]
  },
  {
   "cell_type": "markdown",
   "metadata": {
    "papermill": {
     "duration": 0.130084,
     "end_time": "2021-03-03T13:34:02.428614",
     "exception": false,
     "start_time": "2021-03-03T13:34:02.298530",
     "status": "completed"
    },
    "tags": []
   },
   "source": [
    "### Step 5. Model Creation and Training"
   ]
  },
  {
   "cell_type": "code",
   "execution_count": 89,
   "metadata": {
    "execution": {
     "iopub.execute_input": "2021-03-03T13:34:02.693281Z",
     "iopub.status.busy": "2021-03-03T13:34:02.692330Z",
     "iopub.status.idle": "2021-03-03T13:34:02.839687Z",
     "shell.execute_reply": "2021-03-03T13:34:02.839022Z"
    },
    "papermill": {
     "duration": 0.279289,
     "end_time": "2021-03-03T13:34:02.839858",
     "exception": false,
     "start_time": "2021-03-03T13:34:02.560569",
     "status": "completed"
    },
    "tags": []
   },
   "outputs": [],
   "source": [
    "from sklearn.linear_model import LogisticRegression\n",
    "model = LogisticRegression()"
   ]
  },
  {
   "cell_type": "code",
   "execution_count": 90,
   "metadata": {
    "execution": {
     "iopub.execute_input": "2021-03-03T13:34:03.122636Z",
     "iopub.status.busy": "2021-03-03T13:34:03.121865Z",
     "iopub.status.idle": "2021-03-03T13:34:03.414256Z",
     "shell.execute_reply": "2021-03-03T13:34:03.413669Z"
    },
    "papermill": {
     "duration": 0.438557,
     "end_time": "2021-03-03T13:34:03.414408",
     "exception": false,
     "start_time": "2021-03-03T13:34:02.975851",
     "status": "completed"
    },
    "tags": []
   },
   "outputs": [
    {
     "data": {
      "text/plain": [
       "LogisticRegression()"
      ]
     },
     "execution_count": 90,
     "metadata": {},
     "output_type": "execute_result"
    }
   ],
   "source": [
    "model.fit(X_train,y_train)"
   ]
  },
  {
   "cell_type": "code",
   "execution_count": 91,
   "metadata": {
    "execution": {
     "iopub.execute_input": "2021-03-03T13:34:03.695534Z",
     "iopub.status.busy": "2021-03-03T13:34:03.694454Z",
     "iopub.status.idle": "2021-03-03T13:34:03.709112Z",
     "shell.execute_reply": "2021-03-03T13:34:03.707835Z"
    },
    "papermill": {
     "duration": 0.163903,
     "end_time": "2021-03-03T13:34:03.709598",
     "exception": false,
     "start_time": "2021-03-03T13:34:03.545695",
     "status": "completed"
    },
    "tags": []
   },
   "outputs": [],
   "source": [
    "predictions = model.predict(X_valid)"
   ]
  },
  {
   "cell_type": "code",
   "execution_count": 92,
   "metadata": {
    "execution": {
     "iopub.execute_input": "2021-03-03T13:34:03.985164Z",
     "iopub.status.busy": "2021-03-03T13:34:03.984493Z",
     "iopub.status.idle": "2021-03-03T13:34:03.987580Z",
     "shell.execute_reply": "2021-03-03T13:34:03.988211Z"
    },
    "papermill": {
     "duration": 0.137999,
     "end_time": "2021-03-03T13:34:03.988406",
     "exception": false,
     "start_time": "2021-03-03T13:34:03.850407",
     "status": "completed"
    },
    "tags": []
   },
   "outputs": [
    {
     "data": {
      "text/plain": [
       "array([1., 0., 0., ..., 0., 0., 0.])"
      ]
     },
     "execution_count": 92,
     "metadata": {},
     "output_type": "execute_result"
    }
   ],
   "source": [
    "predictions"
   ]
  },
  {
   "cell_type": "markdown",
   "metadata": {
    "papermill": {
     "duration": 0.130173,
     "end_time": "2021-03-03T13:34:04.253652",
     "exception": false,
     "start_time": "2021-03-03T13:34:04.123479",
     "status": "completed"
    },
    "tags": []
   },
   "source": [
    "### Step 6. Measurement of Validation data Accuracy"
   ]
  },
  {
   "cell_type": "code",
   "execution_count": 93,
   "metadata": {
    "execution": {
     "iopub.execute_input": "2021-03-03T13:34:04.515613Z",
     "iopub.status.busy": "2021-03-03T13:34:04.514820Z",
     "iopub.status.idle": "2021-03-03T13:34:04.518667Z",
     "shell.execute_reply": "2021-03-03T13:34:04.519180Z"
    },
    "papermill": {
     "duration": 0.135233,
     "end_time": "2021-03-03T13:34:04.519375",
     "exception": false,
     "start_time": "2021-03-03T13:34:04.384142",
     "status": "completed"
    },
    "tags": []
   },
   "outputs": [],
   "source": [
    "from sklearn.metrics import accuracy_score"
   ]
  },
  {
   "cell_type": "code",
   "execution_count": 94,
   "metadata": {
    "execution": {
     "iopub.execute_input": "2021-03-03T13:34:04.794107Z",
     "iopub.status.busy": "2021-03-03T13:34:04.792224Z",
     "iopub.status.idle": "2021-03-03T13:34:04.802933Z",
     "shell.execute_reply": "2021-03-03T13:34:04.802190Z"
    },
    "papermill": {
     "duration": 0.15455,
     "end_time": "2021-03-03T13:34:04.803089",
     "exception": false,
     "start_time": "2021-03-03T13:34:04.648539",
     "status": "completed"
    },
    "tags": []
   },
   "outputs": [
    {
     "data": {
      "text/plain": [
       "0.8548567175288426"
      ]
     },
     "execution_count": 94,
     "metadata": {},
     "output_type": "execute_result"
    }
   ],
   "source": [
    "accuracy_score(predictions, y_valid)"
   ]
  }
 ],
 "metadata": {
  "kernelspec": {
   "display_name": "Python 3",
   "language": "python",
   "name": "python3"
  },
  "language_info": {
   "codemirror_mode": {
    "name": "ipython",
    "version": 3
   },
   "file_extension": ".py",
   "mimetype": "text/x-python",
   "name": "python",
   "nbconvert_exporter": "python",
   "pygments_lexer": "ipython3",
   "version": "3.7.9"
  },
  "papermill": {
   "default_parameters": {},
   "duration": 51.291818,
   "end_time": "2021-03-03T13:34:06.720727",
   "environment_variables": {},
   "exception": null,
   "input_path": "__notebook__.ipynb",
   "output_path": "__notebook__.ipynb",
   "parameters": {},
   "start_time": "2021-03-03T13:33:15.428909",
   "version": "2.2.2"
  }
 },
 "nbformat": 4,
 "nbformat_minor": 4
}
